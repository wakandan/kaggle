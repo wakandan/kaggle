{
 "cells": [
  {
   "cell_type": "code",
   "execution_count": 1,
   "metadata": {
    "ExecuteTime": {
     "end_time": "2018-09-17T02:35:56.344502Z",
     "start_time": "2018-09-17T02:35:56.337996Z"
    }
   },
   "outputs": [
    {
     "name": "stderr",
     "output_type": "stream",
     "text": [
      "/Users/kdang/.virtualenvs/tensorflow/lib/python3.6/site-packages/sklearn/cross_validation.py:41: DeprecationWarning: This module was deprecated in version 0.18 in favor of the model_selection module into which all the refactored classes and functions are moved. Also note that the interface of the new CV iterators are different from that of this module. This module will be removed in 0.20.\n  \"This module will be removed in 0.20.\", DeprecationWarning)\n/Users/kdang/.virtualenvs/tensorflow/lib/python3.6/site-packages/sklearn/grid_search.py:42: DeprecationWarning: This module was deprecated in version 0.18 in favor of the model_selection module into which all the refactored classes and functions are moved. This module will be removed in 0.20.\n  DeprecationWarning)\n"
     ]
    }
   ],
   "source": [
    "import pandas as pd\n",
    "import matplotlib.pyplot as plt\n",
    "from sklearn import svm\n",
    "import numpy as np\n",
    "import random\n",
    "from sklearn.ensemble import GradientBoostingClassifier  #GBM algorithm\n",
    "from sklearn import cross_validation, metrics   #Additional scklearn functions\n",
    "from sklearn.grid_search import GridSearchCV   #Perforing grid search\n",
    "from sklearn.model_selection import train_test_split, KFold, cross_val_score"
   ]
  },
  {
   "cell_type": "code",
   "execution_count": 2,
   "metadata": {
    "ExecuteTime": {
     "end_time": "2018-09-17T02:31:17.356028Z",
     "start_time": "2018-09-17T02:31:17.353683Z"
    }
   },
   "outputs": [],
   "source": [
    "random_state=7"
   ]
  },
  {
   "cell_type": "code",
   "execution_count": 5,
   "metadata": {
    "ExecuteTime": {
     "end_time": "2018-09-17T02:32:03.754646Z",
     "start_time": "2018-09-17T02:32:03.651064Z"
    }
   },
   "outputs": [],
   "source": [
    "train = pd.read_csv(\"train.csv\")\n",
    "train = train.dropna()\n",
    "train.drop(['Cabin'], 1, inplace=True) # drop the cabin column because it has a lot of null values\n",
    "y = train['Survived']\n",
    "train.drop(['Survived', 'PassengerId', 'Name', 'Ticket'], 1, inplace=True) # drop irrelevant columns\n",
    "X = pd.get_dummies(train) # convert non-numerical variables to dummy variables\n",
    "test = pd.read_csv(\"test.csv\")\n",
    "ids = test[['PassengerId']] # create a sub-dataset for submission file and saving it\n",
    "test.drop(['PassengerId', 'Name', 'Ticket', 'Cabin'], 1, inplace=True) # drop the irrevant and keeping the rest\n",
    "test.fillna(2, inplace=True) # fill (instead of drop) empty rows\n",
    "test = pd.get_dummies(test)"
   ]
  },
  {
   "cell_type": "code",
   "execution_count": 44,
   "metadata": {
    "ExecuteTime": {
     "end_time": "2018-09-17T03:03:43.299626Z",
     "start_time": "2018-09-17T03:03:43.071890Z"
    }
   },
   "outputs": [
    {
     "name": "stdout",
     "output_type": "stream",
     "text": [
      "CV Score: mean 0.7651651651651652, std 0.06365976813964302, min 0.6944444444444444, max 0.8611111111111112\n"
     ]
    }
   ],
   "source": [
    "# kf = KFold(n_splits=5, random_state=random_state)\n",
    "# for train_index, test_index in kf.split(X):\n",
    "#     print(f\"Train: {train_index}, Test: {test_index}\")\n",
    "#     X_train, X_test = X[train_index], X[test_index]\n",
    "#     y_train, y_test = y[train_index], y[test_index]\n",
    "clf = GradientBoostingClassifier(n_estimators=100, learning_rate=0.1, min_samples_leaf=100, max_depth=2, random_state=random_state)\n",
    "cv = cross_val_score(clf, X, y, cv=5)\n",
    "print(f\"CV Score: mean {np.mean(cv)}, std {np.std(cv)}, min {np.min(cv)}, max {np.max(cv)}\")"
   ]
  },
  {
   "cell_type": "code",
   "execution_count": 54,
   "metadata": {
    "ExecuteTime": {
     "end_time": "2018-09-17T03:40:48.267893Z",
     "start_time": "2018-09-17T03:28:41.040718Z"
    }
   },
   "outputs": [
    {
     "data": {
      "text/plain": [
       "GridSearchCV(cv=5, error_score='raise',\n",
       "       estimator=GradientBoostingClassifier(criterion='friedman_mse', init=None,\n",
       "              learning_rate=0.1, loss='deviance', max_depth=3,\n",
       "              max_features=None, max_leaf_nodes=None,\n",
       "              min_impurity_decrease=0.0, min_impurity_split=None,\n",
       "              min_samples_leaf=1, min_samples_split=2,\n",
       "              min_weight_fraction_leaf=0.0, n_estimators=100,\n",
       "              presort='auto', random_state=None, subsample=1.0, verbose=0,\n",
       "              warm_start=False),\n",
       "       fit_params={}, iid=True, n_jobs=5,\n",
       "       param_grid={'n_estimators': array([ 100,  109, ...,  990, 1000]), 'min_samples_leaf': array([100, 122, 144, 166, 188, 211, 233, 255, 277, 300]), 'max_depth': array([2, 3, 4, 5])},\n",
       "       pre_dispatch='2*n_jobs', refit=True, scoring=None, verbose=0)"
      ]
     },
     "execution_count": 54,
     "metadata": {},
     "output_type": "execute_result"
    }
   ],
   "source": [
    "#RUNNING grid search\n",
    "parameters = {'n_estimators': np.linspace(100, 1000, 100, dtype=np.int),\n",
    "             'min_samples_leaf': np.linspace(100, 300, 10, dtype=np.int),\n",
    "             'max_depth': np.linspace(2, 5, 4, dtype=np.int)}\n",
    "gs = GridSearchCV(clf, param_grid=parameters, cv=5, n_jobs=5)\n",
    "gs.fit(X, y)"
   ]
  },
  {
   "cell_type": "code",
   "execution_count": 53,
   "metadata": {
    "ExecuteTime": {
     "end_time": "2018-09-17T03:28:10.472273Z",
     "start_time": "2018-09-17T03:28:10.467049Z"
    }
   },
   "outputs": [
    {
     "data": {
      "text/plain": [
       "({'max_depth': 2, 'min_samples_leaf': 100, 'n_estimators': 100},\n",
       " 0.6721311475409836)"
      ]
     },
     "execution_count": 53,
     "metadata": {},
     "output_type": "execute_result"
    }
   ],
   "source": [
    "gs.best_params_, gs.best_score_"
   ]
  },
  {
   "cell_type": "code",
   "execution_count": 65,
   "metadata": {
    "ExecuteTime": {
     "end_time": "2018-09-17T03:59:49.476186Z",
     "start_time": "2018-09-17T03:59:49.346808Z"
    }
   },
   "outputs": [
    {
     "name": "stderr",
     "output_type": "stream",
     "text": [
      "/Users/kdang/.virtualenvs/tensorflow/lib/python3.6/site-packages/ipykernel_launcher.py:2: FutureWarning: reshape is deprecated and will raise in a subsequent release. Please use .values.reshape(...) instead\n",
      "  \n"
     ]
    },
    {
     "data": {
      "text/plain": [
       "array([0.67567568, 0.67567568, 0.67567568, 0.66666667, 0.66666667])"
      ]
     },
     "execution_count": 65,
     "metadata": {},
     "output_type": "execute_result"
    }
   ],
   "source": [
    "clf_age = GradientBoostingClassifier(n_estimators=100, learning_rate=0.1, min_samples_leaf=100, max_depth=2, random_state=random_state)\n",
    "cross_val_score(clf_age, X['Sex_male'].reshape(-1, 1), y, cv=5)"
   ]
  },
  {
   "cell_type": "code",
   "execution_count": 75,
   "metadata": {
    "ExecuteTime": {
     "end_time": "2018-09-17T04:07:01.133549Z",
     "start_time": "2018-09-17T04:07:00.627624Z"
    }
   },
   "outputs": [
    {
     "data": {
      "image/png": "[encoded data removed]",
      "text/plain": [
       "<matplotlib.figure.Figure at 0x10cfd1c88>"
      ]
     },
     "metadata": {},
     "output_type": "display_data"
    }
   ],
   "source": [
    "predictors = [c for c in X.columns]\n",
    "gbm0 = GradientBoostingClassifier(random_state=random_state)\n",
    "def model_fit(gbm0, X, predictors):\n",
    "    gbm0.fit(X[predictors], y)\n",
    "    train_prob = gbm0.predict_proba(X[predictors])[:, 1]\n",
    "    cv_score = cross_val_score(gbm0, X[predictors], y, cv=5, scoring='roc_auc')\n",
    "    predictions = gbm0.predict(X[predictors])\n",
    "    metrics.accuracy_score(predictions, y)\n",
    "    feature_importances = pd.Series(gbm0.feature_importances_, predictors).sort_values(ascending=False)\n",
    "    feature_importances.plot(kind='bar', title='Feature Importances')\n",
    "    plt.ylabel('Feature Importance Score')\n",
    "model_fit(gbm0, X, predictors)"
   ]
  },
  {
   "cell_type": "code",
   "execution_count": 78,
   "metadata": {
    "ExecuteTime": {
     "end_time": "2018-09-17T04:12:33.911743Z",
     "start_time": "2018-09-17T04:12:33.122472Z"
    }
   },
   "outputs": [
    {
     "data": {
      "text/plain": [
       "GridSearchCV(cv=5, error_score='raise',\n",
       "       estimator=GradientBoostingClassifier(criterion='friedman_mse', init=None,\n",
       "              learning_rate=0.1, loss='deviance', max_depth=4,\n",
       "              max_features=None, max_leaf_nodes=None,\n",
       "              min_impurity_decrease=0.0, min_impurity_split=None,\n",
       "              min_samples_leaf=10, min_samples_split=50,\n",
       "              min_weight_fraction_leaf=0.0, n_estimators=100,\n",
       "              presort='auto', random_state=7, subsample=0.8, verbose=0,\n",
       "              warm_start=False),\n",
       "       fit_params={}, iid=True, n_jobs=4,\n",
       "       param_grid={'n_estimators': array([20, 26, 33, 40, 47, 53, 60, 67, 74, 81])},\n",
       "       pre_dispatch='2*n_jobs', refit=True, scoring='roc_auc', verbose=0)"
      ]
     },
     "execution_count": 78,
     "metadata": {},
     "output_type": "execute_result"
    }
   ],
   "source": [
    "grid_params = {'n_estimators': np.linspace(20, 81, 10, dtype=np.int)}\n",
    "gs = GridSearchCV(estimator=GradientBoostingClassifier(\n",
    "    learning_rate=0.1, \n",
    "    min_samples_split=50, \n",
    "    min_samples_leaf=10, \n",
    "    max_depth=4, \n",
    "    subsample=0.8, \n",
    "    random_state=random_state), param_grid=grid_params, scoring='roc_auc', n_jobs=4, cv=5)\n",
    "gs.fit(X[predictors], y)"
   ]
  },
  {
   "cell_type": "code",
   "execution_count": 81,
   "metadata": {
    "ExecuteTime": {
     "end_time": "2018-09-17T04:13:00.562923Z",
     "start_time": "2018-09-17T04:13:00.558096Z"
    }
   },
   "outputs": [
    {
     "data": {
      "text/plain": [
       "[mean: 0.82770, std: 0.07886, params: {'n_estimators': 20},\n",
       " mean: 0.82580, std: 0.06601, params: {'n_estimators': 26},\n",
       " mean: 0.82643, std: 0.06903, params: {'n_estimators': 33},\n",
       " mean: 0.81799, std: 0.07637, params: {'n_estimators': 40},\n",
       " mean: 0.81969, std: 0.07796, params: {'n_estimators': 47},\n",
       " mean: 0.81943, std: 0.08335, params: {'n_estimators': 53},\n",
       " mean: 0.81061, std: 0.07848, params: {'n_estimators': 60},\n",
       " mean: 0.81939, std: 0.08254, params: {'n_estimators': 67},\n",
       " mean: 0.81906, std: 0.08011, params: {'n_estimators': 74},\n",
       " mean: 0.81700, std: 0.08530, params: {'n_estimators': 81}]"
      ]
     },
     "execution_count": 81,
     "metadata": {},
     "output_type": "execute_result"
    }
   ],
   "source": [
    "gs.grid_scores_"
   ]
  },
  {
   "cell_type": "code",
   "execution_count": 27,
   "metadata": {
    "ExecuteTime": {
     "end_time": "2018-09-06T03:10:26.536463Z",
     "start_time": "2018-09-06T03:10:26.531053Z"
    }
   },
   "outputs": [],
   "source": [
    "results = ids.assign(Survived=predictions)\n",
    "results.to_csv(\"titanic-results-random-forest.csv\", index=False)"
   ]
  },
  {
   "cell_type": "code",
   "execution_count": 23,
   "metadata": {
    "ExecuteTime": {
     "end_time": "2018-09-06T03:07:50.852690Z",
     "start_time": "2018-09-06T03:07:50.850360Z"
    }
   },
   "outputs": [],
   "source": [
    "from sklearn.ensemble import RandomForestClassifier"
   ]
  },
  {
   "cell_type": "code",
   "execution_count": 24,
   "metadata": {
    "ExecuteTime": {
     "end_time": "2018-09-06T03:09:42.091266Z",
     "start_time": "2018-09-06T03:09:42.040916Z"
    }
   },
   "outputs": [
    {
     "data": {
      "text/plain": [
       "RandomForestClassifier(bootstrap=True, class_weight=None, criterion='gini',\n",
       "            max_depth=None, max_features='auto', max_leaf_nodes=None,\n",
       "            min_impurity_decrease=0.0, min_impurity_split=None,\n",
       "            min_samples_leaf=1, min_samples_split=2,\n",
       "            min_weight_fraction_leaf=0.0, n_estimators=30, n_jobs=1,\n",
       "            oob_score=False, random_state=None, verbose=0,\n",
       "            warm_start=False)"
      ]
     },
     "execution_count": 24,
     "metadata": {},
     "output_type": "execute_result"
    }
   ],
   "source": [
    "rdf = RandomForestClassifier(n_estimators=30)\n",
    "rdf.fit(X, y)"
   ]
  },
  {
   "cell_type": "code",
   "execution_count": 25,
   "metadata": {
    "ExecuteTime": {
     "end_time": "2018-09-06T03:10:10.792981Z",
     "start_time": "2018-09-06T03:10:10.786419Z"
    }
   },
   "outputs": [],
   "source": [
    "predictions = rdf.predict(test)"
   ]
  },
  {
   "cell_type": "code",
   "execution_count": 26,
   "metadata": {
    "ExecuteTime": {
     "end_time": "2018-09-06T03:10:12.812058Z",
     "start_time": "2018-09-06T03:10:12.806806Z"
    }
   },
   "outputs": [
    {
     "data": {
      "text/plain": [
       "array([0, 0, 0, 1, 0, 0, 0, 0, 1, 0, 1, 0, 1, 0, 1, 1, 0, 1, 0, 0, 1, 1,\n",
       "       1, 0, 1, 0, 1, 1, 0, 1, 0, 0, 1, 0, 1, 1, 0, 0, 0, 1, 0, 1, 0, 1,\n",
       "       1, 0, 0, 1, 1, 1, 1, 0, 1, 1, 1, 0, 0, 0, 1, 1, 0, 0, 0, 1, 1, 1,\n",
       "       1, 0, 0, 1, 1, 0, 0, 0, 1, 0, 1, 1, 0, 1, 1, 0, 0, 1, 1, 1, 1, 0,\n",
       "       1, 1, 0, 0, 1, 1, 0, 0, 1, 0, 0, 0, 1, 0, 1, 0, 1, 0, 0, 1, 1, 0,\n",
       "       0, 1, 1, 1, 1, 1, 1, 1, 1, 1, 1, 1, 1, 0, 1, 1, 0, 1, 0, 0, 1, 0,\n",
       "       0, 1, 0, 0, 0, 0, 0, 0, 0, 1, 0, 0, 1, 0, 1, 0, 1, 0, 1, 1, 0, 1,\n",
       "       0, 0, 1, 0, 1, 1, 1, 1, 1, 1, 0, 0, 0, 0, 1, 0, 0, 0, 0, 1, 0, 1,\n",
       "       1, 1, 1, 1, 0, 0, 1, 1, 1, 0, 1, 0, 0, 0, 0, 1, 0, 0, 1, 0, 1, 0,\n",
       "       0, 0, 1, 1, 0, 1, 0, 1, 0, 0, 1, 0, 0, 0, 0, 0, 1, 0, 1, 0, 1, 1,\n",
       "       1, 0, 1, 1, 1, 1, 0, 1, 0, 0, 0, 1, 0, 1, 1, 0, 1, 1, 1, 1, 1, 1,\n",
       "       0, 1, 1, 0, 1, 0, 1, 1, 1, 0, 0, 0, 0, 0, 1, 0, 1, 0, 0, 0, 1, 1,\n",
       "       0, 1, 0, 0, 0, 0, 0, 1, 1, 1, 1, 1, 0, 0, 0, 0, 0, 1, 1, 0, 1, 0,\n",
       "       0, 0, 1, 1, 1, 0, 1, 0, 0, 0, 1, 1, 0, 0, 0, 1, 0, 0, 1, 1, 1, 1,\n",
       "       0, 0, 0, 1, 0, 0, 1, 1, 0, 0, 0, 0, 0, 0, 0, 1, 1, 0, 1, 0, 0, 0,\n",
       "       1, 0, 1, 0, 0, 0, 1, 0, 0, 1, 0, 0, 1, 1, 1, 1, 0, 1, 0, 1, 1, 0,\n",
       "       0, 0, 1, 0, 1, 1, 1, 1, 0, 1, 1, 1, 1, 1, 1, 0, 1, 0, 0, 1, 0, 0,\n",
       "       1, 1, 0, 0, 0, 0, 1, 0, 1, 1, 1, 1, 0, 0, 0, 0, 0, 1, 0, 0, 0, 1,\n",
       "       0, 1, 0, 0, 1, 0, 1, 0, 0, 0, 0, 0, 1, 1, 1, 1, 0, 1, 1, 0, 1, 1])"
      ]
     },
     "execution_count": 26,
     "metadata": {},
     "output_type": "execute_result"
    }
   ],
   "source": [
    "predictions"
   ]
  },
  {
   "cell_type": "code",
   "execution_count": null,
   "metadata": {},
   "outputs": [],
   "source": []
  }
 ],
 "metadata": {
  "kernelspec": {
   "display_name": "Python 3",
   "language": "python",
   "name": "python3"
  },
  "language_info": {
   "codemirror_mode": {
    "name": "ipython",
    "version": 3
   },
   "file_extension": ".py",
   "mimetype": "text/x-python",
   "name": "python",
   "nbconvert_exporter": "python",
   "pygments_lexer": "ipython3",
   "version": "3.6.3"
  }
 },
 "nbformat": 4,
 "nbformat_minor": 2
}
