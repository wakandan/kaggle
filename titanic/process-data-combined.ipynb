{
 "cells": [
  {
   "cell_type": "code",
   "execution_count": 2,
   "metadata": {
    "ExecuteTime": {
     "end_time": "2018-09-24T03:57:29.025234Z",
     "start_time": "2018-09-24T03:57:27.390833Z"
    }
   },
   "outputs": [
    {
     "name": "stderr",
     "output_type": "stream",
     "text": [
      "/Users/kdang/.virtualenvs/tensorflow/lib/python3.6/site-packages/sklearn/cross_validation.py:41: DeprecationWarning: This module was deprecated in version 0.18 in favor of the model_selection module into which all the refactored classes and functions are moved. Also note that the interface of the new CV iterators are different from that of this module. This module will be removed in 0.20.\n",
      "  \"This module will be removed in 0.20.\", DeprecationWarning)\n",
      "/Users/kdang/.virtualenvs/tensorflow/lib/python3.6/site-packages/sklearn/grid_search.py:42: DeprecationWarning: This module was deprecated in version 0.18 in favor of the model_selection module into which all the refactored classes and functions are moved. This module will be removed in 0.20.\n",
      "  DeprecationWarning)\n"
     ]
    }
   ],
   "source": [
    "import pandas as pd\n",
    "import numpy as np\n",
    "import random as rnd\n",
    "\n",
    "# visualization\n",
    "import seaborn as sns\n",
    "import matplotlib.pyplot as plt\n",
    "%matplotlib inline\n",
    "\n",
    "# machine learning\n",
    "from sklearn.linear_model import LogisticRegression\n",
    "from sklearn.svm import SVC, LinearSVC\n",
    "from sklearn.ensemble import RandomForestClassifier, VotingClassifier, AdaBoostClassifier, GradientBoostingClassifier\n",
    "from sklearn.neighbors import KNeighborsClassifier\n",
    "from sklearn.naive_bayes import GaussianNB\n",
    "from sklearn.linear_model import Perceptron\n",
    "from sklearn.linear_model import SGDClassifier, LogisticRegressionCV\n",
    "from sklearn.tree import DecisionTreeClassifier\n",
    "from sklearn.model_selection import train_test_split, KFold, cross_val_score\n",
    "from sklearn.grid_search import GridSearchCV\n",
    "from sklearn.feature_selection import SelectFromModel"
   ]
  },
  {
   "cell_type": "code",
   "execution_count": 3,
   "metadata": {
    "ExecuteTime": {
     "end_time": "2018-09-24T03:57:29.048469Z",
     "start_time": "2018-09-24T03:57:29.026727Z"
    }
   },
   "outputs": [
    {
     "name": "stdout",
     "output_type": "stream",
     "text": [
      "<class 'pandas.core.frame.DataFrame'>\n",
      "RangeIndex: 891 entries, 0 to 890\n",
      "Data columns (total 12 columns):\n",
      "PassengerId    891 non-null int64\n",
      "Survived       891 non-null int64\n",
      "Pclass         891 non-null int64\n",
      "Name           891 non-null object\n",
      "Sex            891 non-null object\n",
      "Age            714 non-null float64\n",
      "SibSp          891 non-null int64\n",
      "Parch          891 non-null int64\n",
      "Ticket         891 non-null object\n",
      "Fare           891 non-null float64\n",
      "Cabin          204 non-null object\n",
      "Embarked       889 non-null object\n",
      "dtypes: float64(2), int64(5), object(5)\n",
      "memory usage: 83.6+ KB\n",
      "----------------------------------------\n",
      "<class 'pandas.core.frame.DataFrame'>\n",
      "RangeIndex: 418 entries, 0 to 417\n",
      "Data columns (total 11 columns):\n",
      "PassengerId    418 non-null int64\n",
      "Pclass         418 non-null int64\n",
      "Name           418 non-null object\n",
      "Sex            418 non-null object\n",
      "Age            332 non-null float64\n",
      "SibSp          418 non-null int64\n",
      "Parch          418 non-null int64\n",
      "Ticket         418 non-null object\n",
      "Fare           417 non-null float64\n",
      "Cabin          91 non-null object\n",
      "Embarked       418 non-null object\n",
      "dtypes: float64(2), int64(4), object(5)\n",
      "memory usage: 36.0+ KB\n"
     ]
    }
   ],
   "source": [
    "train_df = pd.read_csv('train.csv')\n",
    "test_df = pd.read_csv('test.csv')\n",
    "train_df.info()\n",
    "print('-'*40)\n",
    "test_df.info()"
   ]
  },
  {
   "cell_type": "code",
   "execution_count": 45,
   "metadata": {
    "ExecuteTime": {
     "end_time": "2018-09-24T06:37:41.101054Z",
     "start_time": "2018-09-24T06:37:31.395239Z"
    }
   },
   "outputs": [
    {
     "name": "stdout",
     "output_type": "stream",
     "text": [
      "shapes2 (891, 11) (418, 11)\n"
     ]
    },
    {
     "name": "stderr",
     "output_type": "stream",
     "text": [
      "/Users/kdang/.virtualenvs/tensorflow/lib/python3.6/site-packages/ipykernel_launcher.py:19: UserWarning: Boolean Series key will be reindexed to match DataFrame index.\n"
     ]
    },
    {
     "name": "stdout",
     "output_type": "stream",
     "text": [
      "shapes1 (891, 14) (418, 14)\n",
      "shapes4 (891, 16) (418, 16)\n",
      "shapes5 (891, 10) (418, 10)\n",
      "Index(['Pclass', 'FamilySize', 'IsAlone', 'Sex_female', 'Sex_male',\n",
      "       'Ticket_A4', 'Ticket_A5', 'Ticket_AS', 'Ticket_C', 'Ticket_CA',\n",
      "       'Ticket_CASOTON', 'Ticket_FC', 'Ticket_FCC', 'Ticket_Fa', 'Ticket_LINE',\n",
      "       'Ticket_PC', 'Ticket_PP', 'Ticket_PPP', 'Ticket_SC', 'Ticket_SCA4',\n",
      "       'Ticket_SCAH', 'Ticket_SCOW', 'Ticket_SCPARIS', 'Ticket_SCParis',\n",
      "       'Ticket_SOC', 'Ticket_SOP', 'Ticket_SOPP', 'Ticket_SOTONO2',\n",
      "       'Ticket_SOTONOQ', 'Ticket_SP', 'Ticket_STONO', 'Ticket_STONO2',\n",
      "       'Ticket_SWPP', 'Ticket_WC', 'Ticket_WEP', 'Ticket_XXX', 'Cabin_A',\n",
      "       'Cabin_B', 'Cabin_C', 'Cabin_D', 'Cabin_E', 'Cabin_F', 'Cabin_G',\n",
      "       'Cabin_T', 'Cabin_U', 'Embarked_C', 'Embarked_Q', 'Embarked_S',\n",
      "       'Title_Master', 'Title_Miss', 'Title_Mr', 'Title_Mrs', 'Title_Officer',\n",
      "       'Title_Royalty', 'AgeBand_0.0', 'AgeBand_1.0', 'AgeBand_2.0',\n",
      "       'AgeBand_3.0', 'AgeBand_4.0', 'FareBand_0.0', 'FareBand_1.0',\n",
      "       'FareBand_2.0', 'FareBand_3.0'],\n",
      "      dtype='object')\n",
      "shapes (891, 63) (418, 63)\n",
      "   Pclass  FamilySize  IsAlone  Sex_female  Sex_male  Ticket_A4  Ticket_A5  \\\n",
      "0       3           2        0           0         1          0          1   \n",
      "1       1           2        0           1         0          0          0   \n",
      "2       3           1        1           1         0          0          0   \n",
      "3       1           2        0           1         0          0          0   \n",
      "4       3           1        1           0         1          0          0   \n",
      "\n",
      "   Ticket_AS  Ticket_C  Ticket_CA      ...       Title_Royalty  AgeBand_0.0  \\\n",
      "0          0         0          0      ...                   0            0   \n",
      "1          0         0          0      ...                   0            0   \n",
      "2          0         0          0      ...                   0            0   \n",
      "3          0         0          0      ...                   0            0   \n",
      "4          0         0          0      ...                   0            0   \n",
      "\n",
      "   AgeBand_1.0  AgeBand_2.0  AgeBand_3.0  AgeBand_4.0  FareBand_0.0  \\\n",
      "0            1            0            0            0             1   \n",
      "1            0            1            0            0             0   \n",
      "2            1            0            0            0             1   \n",
      "3            0            1            0            0             0   \n",
      "4            0            1            0            0             0   \n",
      "\n",
      "   FareBand_1.0  FareBand_2.0  FareBand_3.0  \n",
      "0             0             0             0  \n",
      "1             0             0             1  \n",
      "2             0             0             0  \n",
      "3             0             0             1  \n",
      "4             1             0             0  \n",
      "\n",
      "[5 rows x 63 columns]\n",
      "** before reduced = 0.7968718204601979\n"
     ]
    },
    {
     "name": "stderr",
     "output_type": "stream",
     "text": [
      "/Users/kdang/.virtualenvs/tensorflow/lib/python3.6/site-packages/sklearn/utils/__init__.py:93: FutureWarning: Conversion of the second argument of issubdtype from `int` to `np.signedinteger` is deprecated. In future, it will be treated as `np.int64 == np.dtype(int).type`.\n",
      "  if np.issubdtype(mask.dtype, np.int):\n"
     ]
    },
    {
     "name": "stdout",
     "output_type": "stream",
     "text": [
      "reduced shape (891, 14) (418, 14)\n",
      "*** retrain after reducing***\n",
      "0.8125707012621876\n",
      "Cross-validation of : <class 'sklearn.linear_model.logistic.LogisticRegression'>\n",
      "CV score = 0.8080698293878227\n",
      "**********\n",
      "Cross-validation of : <class 'sklearn.linear_model.logistic.LogisticRegressionCV'>\n",
      "CV score = 0.8035942785749421\n",
      "**********\n",
      "Cross-validation of : <class 'sklearn.ensemble.forest.RandomForestClassifier'>\n",
      "CV score = 0.8115289204468281\n",
      "**********\n",
      "Cross-validation of : <class 'sklearn.ensemble.gradient_boosting.GradientBoostingClassifier'>\n",
      "CV score = 0.819362774564178\n",
      "**********\n"
     ]
    },
    {
     "data": {
      "image/png": "[encoded data removed]",
      "text/plain": [
       "<matplotlib.figure.Figure at 0x10ad5aa90>"
      ]
     },
     "metadata": {},
     "output_type": "display_data"
    }
   ],
   "source": [
    "random_state = 42\n",
    "train_df = pd.read_csv('train.csv')\n",
    "test_df = pd.read_csv('test.csv')\n",
    "combine = [train_df, test_df]\n",
    "y = train_df['Survived']\n",
    "train_df.drop(['Survived'], axis=1, inplace=True)\n",
    "test_ids = test_df['PassengerId']\n",
    "print('shapes2', train_df.shape, test_df.shape)\n",
    "for dataset in combine:\n",
    "    dataset['Title'] = dataset.Name.str.extract(' ([A-Za-z]+)\\.', expand=False)\n",
    "    dataset['Title'] = dataset['Title'].replace(['Jonkheer', 'Don', 'Sir', 'Countess', 'Lady', 'Dona'], 'Royalty')\n",
    "    dataset['Title'] = dataset['Title'].replace(['Capt', 'Col', 'Major', 'Dr', 'Rev'], 'Officer')\n",
    "    dataset['Title'] = dataset['Title'].replace(['Mlle', 'Ms'], 'Miss')\n",
    "    dataset['Title'] = dataset['Title'].replace(['Mme'], 'Mrs')\n",
    "#     dataset['Title'] = dataset['Title'].astype('category')\n",
    "#     dataset['Title'] = dataset['Title'].cat.codes\n",
    "\n",
    "combined = pd.concat([train_df, test_df])\n",
    "grouped_median_age = combined[train_df.Age.notnull()].groupby(['Sex', 'Pclass', 'Title']).median()\n",
    "grouped_median_age = grouped_median_age.reset_index()[['Sex', 'Pclass', 'Title', 'Age']]\n",
    "grouped_median_age\n",
    "\n",
    "def assign_age(row):\n",
    "    condition = (\n",
    "        (grouped_median_age['Sex'] == row['Sex']) & \n",
    "        (grouped_median_age['Title'] == row['Title']) & \n",
    "        (grouped_median_age['Pclass'] == row['Pclass'])\n",
    "    )\n",
    "    return grouped_median_age[condition]['Age'].values[0]\n",
    "\n",
    "for dataset in combine:\n",
    "    dataset['Age'] = dataset.apply(lambda row: assign_age(row) if np.isnan(row['Age']) else row['Age'], axis=1)\n",
    "    dataset['FamilySize'] = dataset['SibSp'] + dataset['Parch'] + 1\n",
    "    dataset['IsAlone'] = 0\n",
    "    dataset.loc[dataset['FamilySize'] == 1, 'IsAlone'] = 1\n",
    "    dataset.loc[dataset.Embarked.isnull(), 'Embarked'] = 'S'\n",
    "    dataset.loc[dataset.Cabin.notnull(), 'Cabin'] = dataset.loc[dataset.Cabin.notnull(), 'Cabin'].map(lambda x: x[0])\n",
    "    dataset.loc[dataset.Cabin.isnull(), 'Cabin'] = 'U' #unknown\n",
    "    \n",
    "print('shapes1', train_df.shape, test_df.shape)\n",
    "    \n",
    "def cleanTicket(ticket):\n",
    "    ticket = ticket.replace('.', '')\n",
    "    ticket = ticket.replace('/', '')\n",
    "    ticket = ticket.split()\n",
    "    ticket = map(lambda t : t.strip(), ticket)\n",
    "    ticket = list(filter(lambda t : not t.isdigit(), ticket))\n",
    "    if len(ticket) > 0:\n",
    "        return ticket[0]\n",
    "    else: \n",
    "        return 'XXX'\n",
    "for dataset in combine:    \n",
    "    dataset.loc[ dataset['Age'] <= 16, 'AgeBand'] = 0\n",
    "    dataset.loc[(dataset['Age'] > 16) & (dataset['Age'] <= 32), 'AgeBand'] = 1\n",
    "    dataset.loc[(dataset['Age'] > 32) & (dataset['Age'] <= 48), 'AgeBand'] = 2\n",
    "    dataset.loc[(dataset['Age'] > 48) & (dataset['Age'] <= 64), 'AgeBand'] = 3\n",
    "    dataset.loc[ dataset['Age'] > 64, 'AgeBand'] = 4\n",
    "    dataset['AgeBand'] = dataset['AgeBand'].astype(str)\n",
    "    dataset.loc[dataset['Fare'].isnull(), 'Fare'] = 8\n",
    "    dataset.loc[dataset['Fare'] <= 8, 'FareBand'] = 0\n",
    "    dataset.loc[(dataset['Fare'] > 8) & (dataset['Fare'] <= 14.454), 'FareBand'] = 1\n",
    "    dataset.loc[(dataset['Fare'] > 14.454) & (dataset['Fare'] <= 31), 'FareBand']   = 2\n",
    "    dataset.loc[ dataset['Fare'] > 31, 'FareBand'] = 3\n",
    "    dataset['FareBand'] = dataset['FareBand'].astype(str)\n",
    "    dataset['Ticket'] = dataset['Ticket'].map(cleanTicket)\n",
    "#     for column in ['Ticket']:\n",
    "#         dataset[column] = dataset[column].astype('category')\n",
    "#         dataset[column] = dataset[column].cat.codes\n",
    "print('shapes4', train_df.shape, test_df.shape)\n",
    "for dataset in combine:\n",
    "#     dataset.drop(['PassengerId', 'Name', 'Age', 'SibSp', 'Parch', 'FamilySize'], axis=1, inplace=True)\n",
    "    dataset.drop(['PassengerId', 'Name', 'Age', 'SibSp', 'Parch', 'Fare'], axis=1, inplace=True)\n",
    "print('shapes5', train_df.shape, test_df.shape)\n",
    "train_df = pd.get_dummies(train_df)\n",
    "print(train_df.columns)\n",
    "test_df = pd.get_dummies(test_df)\n",
    "# Get missing columns in the training test\n",
    "missing_cols = set( train_df.columns ) - set( test_df.columns )\n",
    "# Add a missing column in test set with default value equal to 0\n",
    "for c in missing_cols:\n",
    "    test_df[c] = 0\n",
    "# Ensure the order of column in the test set is in the same order than in train set\n",
    "test_df = test_df[train_df.columns]\n",
    "print('shapes', train_df.shape, test_df.shape)\n",
    "\n",
    "print(train_df.head())\n",
    "## array([0.81564246, 0.80446927, 0.80898876, 0.79213483, 0.8079096 ])\n",
    "# clf = GradientBoostingClassifier(n_estimators=100, learning_rate=0.1, min_samples_leaf=100, max_depth=2, random_state=random_state)\n",
    "\n",
    "## array([0.79888268, 0.81564246, 0.81460674, 0.80337079, 0.85875706])\n",
    "clf = RandomForestClassifier(max_depth=4, max_features=3, n_estimators=400)\n",
    "\n",
    "## array([0.75977654, 0.75977654, 0.7752809 , 0.76966292, 0.82485876])\n",
    "# clf = VotingClassifier(\n",
    "#     estimators=[\n",
    "#         ('lr', LogisticRegression()),\n",
    "#         ('svc', SVC()),\n",
    "#         ('tree', DecisionTreeClassifier(max_depth=2, max_features=3)),\n",
    "#         ('sgd', SGDClassifier()),\n",
    "#         ('linear_svc', LinearSVC()),\n",
    "#         ('gaussian', GaussianNB()),\n",
    "#         ('knn', KNeighborsClassifier(n_neighbors = 2))\n",
    "#     ],\n",
    "#     voting='hard',\n",
    "# )\n",
    "\n",
    "## array([0.82122905, 0.80446927, 0.79775281, 0.75842697, 0.8079096 ])\n",
    "# clf = AdaBoostClassifier(\n",
    "#     DecisionTreeClassifier(max_depth=1), n_estimators=300,\n",
    "#     algorithm='SAMME', learning_rate=0.2\n",
    "# )\n",
    "\n",
    "# clf = DecisionTreeClassifier()\n",
    "# cv = cross_val_score(clf, train_df, y, cv=5)\n",
    "# print(cv)\n",
    "clf.fit(train_df, y)\n",
    "# print(\"*\"*40, \"running grid search\")\n",
    "# param_test = {'n_estimators': np.linspace(100,500,5, dtype=np.int),\n",
    "#               'max_depth': [1,2,3,4,6,8],\n",
    "#               'max_features': ['sqrt', 'auto', 'log2'],\n",
    "#               'min_samples_split': [2, 3, 10],\n",
    "#               'min_samples_leaf': [1, 3, 10],\n",
    "#               'bootstrap': [True, False],\n",
    "#              }\n",
    "# gs = GridSearchCV(estimator=clf, param_grid=param_test, cv=5, n_jobs=5, verbose=1)\n",
    "# gs.fit(train_df, y)\n",
    "# print(\"*\"*40, \"best params\", gs.best_params_, gs.best_score_)\n",
    "# clf.fit(train_df, y)\n",
    "cv = np.mean(cross_val_score(clf, train_df, y, cv=5))\n",
    "print(f\"** before reduced = {cv}\")\n",
    "features = pd.DataFrame()\n",
    "features['feature'] = train_df.columns\n",
    "features['importance'] = clf.feature_importances_\n",
    "features.sort_values(by=['importance'], ascending=True, inplace=True)\n",
    "features.set_index('feature', inplace=True)\n",
    "features.plot(kind='barh', figsize=(25, 25))\n",
    "model = SelectFromModel(clf, prefit=True)\n",
    "train_reduced = model.transform(train_df)\n",
    "test_reduced = model.transform(test_df)\n",
    "print(\"reduced shape\", train_reduced.shape, test_reduced.shape)\n",
    "print(\"*** retrain after reducing***\")\n",
    "print(np.mean(cross_val_score(clf, train_reduced, y, cv=5)))\n",
    "clf.fit(train_reduced, y)\n",
    "logreg = LogisticRegression()\n",
    "logreg_cv = LogisticRegressionCV()\n",
    "rf = RandomForestClassifier()\n",
    "gboost = GradientBoostingClassifier()\n",
    "\n",
    "models = [logreg, logreg_cv, rf, gboost]\n",
    "for m in models:\n",
    "    print('Cross-validation of : {0}'.format(m.__class__))\n",
    "    score = np.mean(cross_val_score(m, X=train_reduced, y=y, scoring='accuracy', cv=5))\n",
    "    print('CV score = {0}'.format(score))\n",
    "    print('*'*10)"
   ]
  },
  {
   "cell_type": "code",
   "execution_count": null,
   "metadata": {
    "ExecuteTime": {
     "end_time": "2018-09-24T06:33:46.684712Z",
     "start_time": "2018-09-24T06:32:42.283831Z"
    }
   },
   "outputs": [],
   "source": [
    "print(\"*\"*40, \"running grid search\")\n",
    "param_test = {'n_estimators': np.linspace(100,500,5, dtype=np.int),\n",
    "              'max_depth': [1,2,3,4,6,8],\n",
    "              'max_features': ['sqrt', 'auto', 'log2', 2, 3, 4],\n",
    "              'min_samples_split': [2, 3, 10],\n",
    "              'min_samples_leaf': [1, 3, 10],\n",
    "              'bootstrap': [True, False],\n",
    "             }\n",
    "gs = GridSearchCV(estimator=RandomForestClassifier(), param_grid=param_test, cv=5, n_jobs=5, verbose=1)\n",
    "gs.fit(train_reduced, y)\n",
    "print(\"*\"*40, \"best params\", gs.best_params_, gs.best_score_)"
   ]
  },
  {
   "cell_type": "code",
   "execution_count": 50,
   "metadata": {
    "ExecuteTime": {
     "end_time": "2018-09-24T07:14:45.501102Z",
     "start_time": "2018-09-24T06:39:03.922274Z"
    }
   },
   "outputs": [
    {
     "name": "stdout",
     "output_type": "stream",
     "text": [
      "Fitting 5 folds for each of 3600 candidates, totalling 18000 fits\n"
     ]
    },
    {
     "name": "stderr",
     "output_type": "stream",
     "text": [
      "[Parallel(n_jobs=5)]: Done 175 tasks      | elapsed:    6.4s\n",
      "[Parallel(n_jobs=5)]: Done 625 tasks      | elapsed:   25.0s\n",
      "[Parallel(n_jobs=5)]: Done 1017 tasks      | elapsed:   46.6s\n",
      "[Parallel(n_jobs=5)]: Done 1367 tasks      | elapsed:  1.3min\n",
      "[Parallel(n_jobs=5)]: Done 1817 tasks      | elapsed:  2.1min\n",
      "[Parallel(n_jobs=5)]: Done 2367 tasks      | elapsed:  3.2min\n",
      "[Parallel(n_jobs=5)]: Done 3017 tasks      | elapsed:  4.9min\n",
      "[Parallel(n_jobs=5)]: Done 3767 tasks      | elapsed:  7.1min\n",
      "[Parallel(n_jobs=5)]: Done 4617 tasks      | elapsed:  8.6min\n",
      "[Parallel(n_jobs=5)]: Done 5567 tasks      | elapsed: 10.2min\n",
      "[Parallel(n_jobs=5)]: Done 6617 tasks      | elapsed: 12.7min\n",
      "[Parallel(n_jobs=5)]: Done 7767 tasks      | elapsed: 15.1min\n",
      "[Parallel(n_jobs=5)]: Done 9017 tasks      | elapsed: 16.7min\n",
      "[Parallel(n_jobs=5)]: Done 10367 tasks      | elapsed: 19.9min\n",
      "[Parallel(n_jobs=5)]: Done 11817 tasks      | elapsed: 22.3min\n",
      "[Parallel(n_jobs=5)]: Done 13367 tasks      | elapsed: 24.8min\n",
      "[Parallel(n_jobs=5)]: Done 15017 tasks      | elapsed: 28.6min\n",
      "[Parallel(n_jobs=5)]: Done 16767 tasks      | elapsed: 31.4min\n",
      "[Parallel(n_jobs=5)]: Done 18000 out of 18000 | elapsed: 35.7min finished\n"
     ]
    },
    {
     "data": {
      "text/plain": [
       "GridSearchCV(cv=5, error_score='raise',\n",
       "       estimator=GradientBoostingClassifier(criterion='friedman_mse', init=None,\n",
       "              learning_rate=0.1, loss='deviance', max_depth=3,\n",
       "              max_features=None, max_leaf_nodes=None,\n",
       "              min_impurity_decrease=0.0, min_impurity_split=None,\n",
       "              min_samples_leaf=1, min_samples_split=2,\n",
       "              min_weight_fraction_leaf=0.0, n_estimators=100,\n",
       "              presort='auto', random_state=None, subsample=1.0, verbose=0,\n",
       "              warm_start=False),\n",
       "       fit_params={}, iid=True, n_jobs=5,\n",
       "       param_grid={'learning_rate': array([0.1, 0.2, 0.3, 0.4, 0.5]), 'n_estimators': array([ 100,  212,  325,  437,  550,  662,  775,  887, 1000]), 'max_depth': array([1, 2, 3, 4, 5]), 'min_samples_split': [2, 5, 10, 20], 'max_features': [2, 4, 6, 8]},\n",
       "       pre_dispatch='2*n_jobs', refit=True, scoring=None, verbose=1)"
      ]
     },
     "execution_count": 50,
     "metadata": {},
     "output_type": "execute_result"
    }
   ],
   "source": [
    "param_test = {\n",
    "    'learning_rate': np.linspace(0.1, 0.5, 5),\n",
    "    'n_estimators': np.linspace(100, 1000, 9, dtype=np.int),\n",
    "    'max_depth': np.linspace(1, 5, 5, dtype=np.int),\n",
    "    'min_samples_split': [2,5,10,20],\n",
    "    'max_features': [2,4,6,8]\n",
    "}\n",
    "gs = GridSearchCV(estimator=GradientBoostingClassifier(), param_grid=param_test, cv=5, n_jobs=5, verbose=1)\n",
    "gs.fit(train_reduced, y)"
   ]
  },
  {
   "cell_type": "code",
   "execution_count": null,
   "metadata": {
    "ExecuteTime": {
     "end_time": "2018-09-24T03:58:02.373900Z",
     "start_time": "2018-09-24T03:57:27.405Z"
    }
   },
   "outputs": [],
   "source": [
    "gs.best_params_, gs.best_score_"
   ]
  },
  {
   "cell_type": "code",
   "execution_count": 46,
   "metadata": {
    "ExecuteTime": {
     "end_time": "2018-09-24T06:37:48.856669Z",
     "start_time": "2018-09-24T06:37:48.116205Z"
    }
   },
   "outputs": [
    {
     "name": "stdout",
     "output_type": "stream",
     "text": [
      "** best score for random forest = 0.8260793811731171\n"
     ]
    },
    {
     "data": {
      "text/plain": [
       "RandomForestClassifier(bootstrap=False, class_weight=None, criterion='gini',\n",
       "            max_depth=6, max_features=3, max_leaf_nodes=None,\n",
       "            min_impurity_decrease=0.0, min_impurity_split=None,\n",
       "            min_samples_leaf=3, min_samples_split=2,\n",
       "            min_weight_fraction_leaf=0.0, n_estimators=100, n_jobs=1,\n",
       "            oob_score=False, random_state=None, verbose=0,\n",
       "            warm_start=False)"
      ]
     },
     "execution_count": 46,
     "metadata": {},
     "output_type": "execute_result"
    }
   ],
   "source": [
    "best_forest = RandomForestClassifier(**{'bootstrap': False, 'max_depth': 6, 'max_features': 3, 'min_samples_leaf': 3, 'min_samples_split': 2, 'n_estimators': 100})\n",
    "score = np.mean(cross_val_score(best_forest, train_reduced, y, cv=5))\n",
    "print(f\"** best score for random forest = {score}\")\n",
    "best_forest.fit(train_reduced, y)"
   ]
  },
  {
   "cell_type": "code",
   "execution_count": 48,
   "metadata": {
    "ExecuteTime": {
     "end_time": "2018-09-24T06:38:36.076573Z",
     "start_time": "2018-09-24T06:38:33.124302Z"
    }
   },
   "outputs": [
    {
     "name": "stdout",
     "output_type": "stream",
     "text": [
      "** score = 0.8114406868320195\n"
     ]
    }
   ],
   "source": [
    "ada_boosting = AdaBoostClassifier(n_estimators=500, learning_rate=0.1, algorithm='SAMME', random_state=random_state)\n",
    "score = np.mean(cross_val_score(ada_boosting, train_reduced, y, cv=5))\n",
    "print(f\"** score = {score}\")"
   ]
  },
  {
   "cell_type": "code",
   "execution_count": 49,
   "metadata": {
    "ExecuteTime": {
     "end_time": "2018-09-24T06:38:41.024658Z",
     "start_time": "2018-09-24T06:38:39.833955Z"
    }
   },
   "outputs": [
    {
     "name": "stdout",
     "output_type": "stream",
     "text": [
      "** score = 0.81939423084084\n"
     ]
    }
   ],
   "source": [
    "gradient_boosting = GradientBoostingClassifier(\n",
    "    learning_rate=0.5,\n",
    "    n_estimators=437, \n",
    "    max_depth= 2,\n",
    "    min_samples_leaf= 2,\n",
    "    min_samples_split=2)\n",
    "score = np.mean(cross_val_score(gradient_boosting, train_reduced, y, cv=5))\n",
    "gradient_boosting.fit(train_reduced, y)\n",
    "print(f\"** score = {score}\")"
   ]
  },
  {
   "cell_type": "code",
   "execution_count": 32,
   "metadata": {
    "ExecuteTime": {
     "end_time": "2018-09-24T06:28:29.698641Z",
     "start_time": "2018-09-24T06:28:29.664494Z"
    }
   },
   "outputs": [],
   "source": [
    "y_pred = best_forest.predict(test_reduced)\n",
    "submission = pd.DataFrame({\n",
    "    \"PassengerId\": test_ids,\n",
    "    \"Survived\": y_pred\n",
    "})\n",
    "submission.to_csv('titanic_result_feature_engineer_reduced_random_forest.csv', index=False)"
   ]
  },
  {
   "cell_type": "code",
   "execution_count": 33,
   "metadata": {
    "ExecuteTime": {
     "end_time": "2018-09-24T06:28:49.681804Z",
     "start_time": "2018-09-24T06:28:44.861953Z"
    }
   },
   "outputs": [
    {
     "name": "stdout",
     "output_type": "stream",
     "text": [
      "Warning: Your Kaggle API key is readable by otherusers on this system! To fix this, you can run'chmod 600 /Users/kdang/.kaggle/kaggle.json'\n",
      "Successfully submitted to Titanic: Machine Learning from Disaster"
     ]
    }
   ],
   "source": [
    "! kaggle competitions submit titanic -f titanic_result_feature_engineer_reduced_random_forest.csv -m \"feature engineer + grid search for random forest\""
   ]
  },
  {
   "cell_type": "code",
   "execution_count": 16,
   "metadata": {
    "ExecuteTime": {
     "end_time": "2018-09-24T04:29:42.388511Z",
     "start_time": "2018-09-24T04:29:42.344004Z"
    }
   },
   "outputs": [],
   "source": [
    "# try using stacking\n",
    "from mlxtend.classifier import StackingClassifier"
   ]
  },
  {
   "cell_type": "code",
   "execution_count": 22,
   "metadata": {
    "ExecuteTime": {
     "end_time": "2018-09-24T04:38:38.956599Z",
     "start_time": "2018-09-24T04:38:32.624709Z"
    }
   },
   "outputs": [
    {
     "data": {
      "text/plain": [
       "0.7991001802618426"
      ]
     },
     "execution_count": 22,
     "metadata": {},
     "output_type": "execute_result"
    }
   ],
   "source": [
    "clf1 = KNeighborsClassifier(n_neighbors=1)\n",
    "clf3 = GaussianNB()\n",
    "lr = LogisticRegression()\n",
    "sclf = StackingClassifier(classifiers=[best_forest, ada_boosting, gradient_boosting, clf1, clf3], \n",
    "                          meta_classifier=lr)\n",
    "np.mean(cross_val_score(sclf, train_reduced, y, cv=5))\n"
   ]
  },
  {
   "cell_type": "code",
   "execution_count": null,
   "metadata": {},
   "outputs": [],
   "source": []
  }
 ],
 "metadata": {
  "kernelspec": {
   "display_name": "Python 3",
   "language": "python",
   "name": "python3"
  },
  "language_info": {
   "codemirror_mode": {
    "name": "ipython",
    "version": 3
   },
   "file_extension": ".py",
   "mimetype": "text/x-python",
   "name": "python",
   "nbconvert_exporter": "python",
   "pygments_lexer": "ipython3",
   "version": "3.6.3"
  }
 },
 "nbformat": 4,
 "nbformat_minor": 2
}
