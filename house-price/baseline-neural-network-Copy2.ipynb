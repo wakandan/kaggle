{
 "cells": [
  {
   "cell_type": "code",
   "execution_count": 4,
   "metadata": {
    "ExecuteTime": {
     "end_time": "2018-10-12T08:03:47.065616Z",
     "start_time": "2018-10-12T08:03:43.642222Z"
    }
   },
   "outputs": [],
   "source": [
    "import pandas as pd\n",
    "from sklearn.ensemble import RandomForestRegressor, GradientBoostingRegressor, AdaBoostRegressor, BaggingRegressor\n",
    "from sklearn.linear_model import LinearRegression\n",
    "from sklearn.model_selection import cross_val_score, ShuffleSplit\n",
    "import seaborn as sns\n",
    "import numpy as np\n",
    "from sklearn.feature_selection import SelectFromModel\n",
    "import keras\n",
    "from keras.models import Sequential\n",
    "from keras.layers import Dense, BatchNormalization\n",
    "from keras.wrappers.scikit_learn import KerasRegressor\n",
    "from sklearn.model_selection import cross_val_score\n",
    "from sklearn.model_selection import KFold\n",
    "from sklearn.preprocessing import StandardScaler\n",
    "from sklearn.pipeline import Pipeline\n",
    "from sklearn.preprocessing import MinMaxScaler\n",
    "from sklearn.model_selection import KFold\n",
    "from sklearn.metrics import mean_squared_error, r2_score\n",
    "from sklearn.ensemble import IsolationForest\n",
    "from mlxtend.regressor import StackingRegressor\n",
    "from sklearn.base import BaseEstimator, TransformerMixin, RegressorMixin, clone\n",
    "from sklearn.pipeline import make_pipeline\n",
    "from sklearn.preprocessing import RobustScaler\n",
    "from sklearn.linear_model import ElasticNet, Lasso,  BayesianRidge, LassoLarsIC\n",
    "from sklearn.kernel_ridge import KernelRidge\n",
    "import seaborn as sns\n",
    "from scipy import stats\n",
    "import matplotlib.pyplot as plt\n",
    "from scipy.stats import norm, skew #for some statistics\n",
    "color = sns.color_palette()\n",
    "sns.set_style('darkgrid')\n",
    "import warnings\n",
    "def ignore_warn(*args, **kwargs):\n",
    "    pass\n",
    "warnings.warn = ignore_warn #ignore annoying warning (from sklearn and seaborn)\n",
    "pd.set_option('display.float_format', lambda x: '{:.3f}'.format(x)) #Limiting floats output to 3 decimal points"
   ]
  },
  {
   "cell_type": "code",
   "execution_count": 66,
   "metadata": {
    "ExecuteTime": {
     "end_time": "2018-10-12T08:03:48.094433Z",
     "start_time": "2018-10-12T08:03:47.067139Z"
    }
   },
   "outputs": [
    {
     "name": "stdout",
     "output_type": "stream",
     "text": [
      "[nan nan nan ... nan nan nan]\n",
      "(1460, 79) (1459, 79)\n",
      "(1460,)\n",
      "Number of Outliers: 146\n",
      "Number of rows without outliers: 1314\n",
      "(1314, 79) (1314, 1) (1459, 79)\n"
     ]
    }
   ],
   "source": [
    "random_state=42\n",
    "cross_validation_folds = 5\n",
    "n_jobs = 2\n",
    "train_df = pd.read_csv('./train.csv')\n",
    "test_df = pd.read_csv('./test.csv')\n",
    "test_ids = test_df.Id\n",
    "y = train_df.SalePrice\n",
    "train_df.drop(['SalePrice'], inplace=True, axis=1)\n",
    "combine = [train_df, test_df]\n",
    "combined = pd.concat([train_df, test_df])\n",
    "train_df.replace(['NaN', 'NA', 'nan'], np.nan, inplace=True)\n",
    "test_df.replace(['NaN', 'NA', 'nan'], np.nan, inplace=True)\n",
    "def fill_column_with_median_value(df, column):\n",
    "    \"\"\"\n",
    "    fill numerical columns with median value\n",
    "    fill categorial columns with most common values\n",
    "    \"\"\"\n",
    "    if df[column].dtype=='float64':\n",
    "        median_value = combined[column][combined[column].notnull()].median()\n",
    "    elif df[column].dtype=='object':\n",
    "        median_value = combined[column][combined[column].notnull()].mode()[0]\n",
    "    else:\n",
    "        print('-- fuck --'* 40)\n",
    "    df[column] = df[column].fillna(median_value)\n",
    "def find_columns_with_na_values(df):\n",
    "    for column in df.columns:\n",
    "        if df.loc[df[column].isnull()].size>0:\n",
    "            yield column\n",
    "            \n",
    "print(train_df['PoolQC'].values)\n",
    "\n",
    "for dataset in combine:\n",
    "    dataset.drop(['Id'], inplace=True, axis=1)\n",
    "    for column in find_columns_with_na_values(dataset):\n",
    "        fill_column_with_median_value(dataset, column)\n",
    "categorical_columns = list(filter(lambda col: train_df[col].dtype=='object', list(train_df.columns)))\n",
    "mapping = dict()\n",
    "# get the mapping between column labels to values\n",
    "for column in categorical_columns:\n",
    "    combined[column] = combined[column].astype('category')\n",
    "    mapping[column] = dict(zip(combined[column].cat.categories, np.linspace(0, 1, len(combined[column].cat.categories))))\n",
    "for dataset in combine:\n",
    "    dataset.replace(mapping, inplace=True)\n",
    "print(train_df.shape, test_df.shape)\n",
    "\n",
    "#outliners removal\n",
    "clf = IsolationForest(max_samples = 100, random_state = 42)\n",
    "clf.fit(train_df)\n",
    "y_noano = clf.predict(train_df)\n",
    "y_noano = pd.DataFrame(y_noano, columns = ['Top'])\n",
    "anomaly_indexes = y_noano[y_noano['Top'] == 1].index.values\n",
    "train_df = train_df.iloc[anomaly_indexes]\n",
    "train_df.reset_index(drop = True, inplace = True)\n",
    "print(y.shape)\n",
    "y = y.iloc[anomaly_indexes]\n",
    "print(\"Number of Outliers:\", y_noano[y_noano['Top'] == -1].shape[0])\n",
    "print(\"Number of rows without outliers:\", train_df.shape[0])\n",
    "\n",
    "combined = pd.concat([train_df, test_df])\n",
    "scaler = MinMaxScaler()\n",
    "scaler.fit(combined)\n",
    "train = scaler.transform(train_df)\n",
    "test = scaler.transform(test_df)\n",
    "\n",
    "#scale SalePrice using log1p toi ensure normal distribution because we are going to use linear models\n",
    "y = np.log1p(y)\n",
    "scaler_price = MinMaxScaler()\n",
    "scaler_price.fit(y.as_matrix().reshape(-1, 1))\n",
    "Y = scaler_price.transform(y.as_matrix().reshape(-1, 1))\n",
    "print(train.shape, Y.shape, test.shape)"
   ]
  },
  {
   "cell_type": "code",
   "execution_count": 56,
   "metadata": {},
   "outputs": [
    {
     "data": {
      "image/png": "[encoded data removed]",
      "text/plain": [
       "<Figure size 432x288 with 1 Axes>"
      ]
     },
     "metadata": {},
     "output_type": "display_data"
    }
   ],
   "source": [
    "#Get also the QQ-plot\n",
    "fig = plt.figure()\n",
    "res = stats.probplot(y, plot=plt)\n",
    "plt.show()"
   ]
  },
  {
   "cell_type": "markdown",
   "metadata": {},
   "source": [
    "### check the skewness in features"
   ]
  },
  {
   "cell_type": "code",
   "execution_count": 54,
   "metadata": {},
   "outputs": [
    {
     "data": {
      "text/plain": [
       "array([  0, 320, 407, 180, 508, 238, 245, 196, 144, 182, 168, 162,  23,\n",
       "       216,  96, 290])"
      ]
     },
     "execution_count": 54,
     "metadata": {},
     "output_type": "execute_result"
    }
   ],
   "source": [
    "train_df['3SsnPorch'].unique()"
   ]
  },
  {
   "cell_type": "code",
   "execution_count": 48,
   "metadata": {},
   "outputs": [
    {
     "name": "stdout",
     "output_type": "stream",
     "text": [
      "\n",
      "Skew in numerical features: \n",
      "\n"
     ]
    },
    {
     "data": {
      "text/html": [
       "<div>\n",
       "<style scoped>\n",
       "    .dataframe tbody tr th:only-of-type {\n",
       "        vertical-align: middle;\n",
       "    }\n",
       "\n",
       "    .dataframe tbody tr th {\n",
       "        vertical-align: top;\n",
       "    }\n",
       "\n",
       "    .dataframe thead th {\n",
       "        text-align: right;\n",
       "    }\n",
       "</style>\n",
       "<table border=\"1\" class=\"dataframe\">\n",
       "  <thead>\n",
       "    <tr style=\"text-align: right;\">\n",
       "      <th></th>\n",
       "      <th>Skew</th>\n",
       "    </tr>\n",
       "  </thead>\n",
       "  <tbody>\n",
       "    <tr>\n",
       "      <th>PoolQC</th>\n",
       "      <td>33.111</td>\n",
       "    </tr>\n",
       "    <tr>\n",
       "      <th>MiscVal</th>\n",
       "      <td>23.864</td>\n",
       "    </tr>\n",
       "    <tr>\n",
       "      <th>PoolArea</th>\n",
       "      <td>22.310</td>\n",
       "    </tr>\n",
       "    <tr>\n",
       "      <th>Heating</th>\n",
       "      <td>17.962</td>\n",
       "    </tr>\n",
       "    <tr>\n",
       "      <th>Condition2</th>\n",
       "      <td>14.388</td>\n",
       "    </tr>\n",
       "    <tr>\n",
       "      <th>LowQualFinSF</th>\n",
       "      <td>14.164</td>\n",
       "    </tr>\n",
       "    <tr>\n",
       "      <th>3SsnPorch</th>\n",
       "      <td>11.943</td>\n",
       "    </tr>\n",
       "    <tr>\n",
       "      <th>RoofMatl</th>\n",
       "      <td>10.020</td>\n",
       "    </tr>\n",
       "    <tr>\n",
       "      <th>Alley</th>\n",
       "      <td>5.874</td>\n",
       "    </tr>\n",
       "    <tr>\n",
       "      <th>LotArea</th>\n",
       "      <td>5.731</td>\n",
       "    </tr>\n",
       "  </tbody>\n",
       "</table>\n",
       "</div>"
      ],
      "text/plain": [
       "               Skew\n",
       "PoolQC       33.111\n",
       "MiscVal      23.864\n",
       "PoolArea     22.310\n",
       "Heating      17.962\n",
       "Condition2   14.388\n",
       "LowQualFinSF 14.164\n",
       "3SsnPorch    11.943\n",
       "RoofMatl     10.020\n",
       "Alley         5.874\n",
       "LotArea       5.731"
      ]
     },
     "execution_count": 48,
     "metadata": {},
     "output_type": "execute_result"
    }
   ],
   "source": [
    "combined = pd.concat([train_df, test_df])\n",
    "skewed_feats = combined.apply(lambda x: skew(x.dropna())).sort_values(ascending=False)\n",
    "print(\"\\nSkew in numerical features: \\n\")\n",
    "skewness = pd.DataFrame({'Skew' :skewed_feats})\n",
    "skewness.head(10)"
   ]
  },
  {
   "cell_type": "code",
   "execution_count": 33,
   "metadata": {},
   "outputs": [
    {
     "name": "stdout",
     "output_type": "stream",
     "text": [
      "There are 79 skewed numerical features to Box Cox transform\n"
     ]
    }
   ],
   "source": [
    "skewness = skewness[abs(skewness) > 0.75]\n",
    "print(\"There are {} skewed numerical features to Box Cox transform\".format(skewness.shape[0]))\n",
    "combine = [train_df, test_df]\n",
    "from scipy.special import boxcox1p\n",
    "skewed_features = skewness.index\n",
    "lam = 0.15\n",
    "for feat in skewed_features:\n",
    "    #all_data[feat] += 1\n",
    "    dataset[feat] = boxcox1p(dataset[feat], lam)"
   ]
  },
  {
   "cell_type": "markdown",
   "metadata": {},
   "source": [
    "### tranform the dataset into range 0-1"
   ]
  },
  {
   "cell_type": "code",
   "execution_count": 57,
   "metadata": {},
   "outputs": [
    {
     "name": "stdout",
     "output_type": "stream",
     "text": [
      "(1314, 79) (1314, 1) (1459, 79)\n"
     ]
    }
   ],
   "source": [
    "combined = pd.concat([train_df, test_df])\n",
    "scaler = MinMaxScaler()\n",
    "scaler.fit(combined)\n",
    "train = scaler.transform(train_df)\n",
    "test = scaler.transform(test_df)\n",
    "\n",
    "#scale SalePrice using log1p toi ensure normal distribution because we are going to use linear models\n",
    "y = np.log1p(y)\n",
    "scaler_price = MinMaxScaler()\n",
    "scaler_price.fit(y.as_matrix().reshape(-1, 1))\n",
    "Y = scaler_price.transform(y.as_matrix().reshape(-1, 1))\n",
    "print(train.shape, Y.shape, test.shape)"
   ]
  },
  {
   "cell_type": "code",
   "execution_count": 58,
   "metadata": {},
   "outputs": [
    {
     "data": {
      "image/png": "[encoded data removed]",
      "text/plain": [
       "<Figure size 432x288 with 1 Axes>"
      ]
     },
     "metadata": {},
     "output_type": "display_data"
    }
   ],
   "source": [
    "#Get also the QQ-plot\n",
    "fig = plt.figure()\n",
    "res = stats.probplot(y, plot=plt)\n",
    "plt.show()"
   ]
  },
  {
   "cell_type": "markdown",
   "metadata": {
    "ExecuteTime": {
     "end_time": "2018-10-10T07:31:39.818800Z",
     "start_time": "2018-10-10T07:31:39.813808Z"
    }
   },
   "source": [
    "## Define some helper functions for train/test split"
   ]
  },
  {
   "cell_type": "code",
   "execution_count": 59,
   "metadata": {
    "ExecuteTime": {
     "end_time": "2018-10-12T08:04:33.732835Z",
     "start_time": "2018-10-12T08:04:33.670807Z"
    }
   },
   "outputs": [],
   "source": [
    "seed = 2\n",
    "np.random.seed(seed)\n",
    "\n",
    "def train_test_score(model_fn, train, score_fn):\n",
    "    scores = []\n",
    "    kfold = KFold(n_splits=5, random_state=seed)\n",
    "    for train_index, test_index in kfold.split(train):\n",
    "        X_train, X_test = train[train_index], train[test_index]\n",
    "        y_train, y_test = Y[train_index], Y[test_index]\n",
    "        model = model_fn()\n",
    "        model.fit(X_train, pd.DataFrame(y_train).values)\n",
    "        y_val = model.predict(X_test)\n",
    "        score = score_fn(y_val, y_test)\n",
    "        print(f'score = {score}')\n",
    "        scores.append(score)\n",
    "    scores = np.array(scores)\n",
    "    print(f'resutls = {scores}')\n",
    "    print(\"Results: mean=%f (std=%f) MSE\" % (scores.mean(), scores.std()))\n",
    "    \n",
    "\n",
    "def predict_and_submit(model, test, file):\n",
    "    y_pred = model.predict(test)\n",
    "    Y_pred = scaler_price.inverse_transform(y_pred.reshape(-1, 1))\n",
    "    submission = pd.DataFrame({\n",
    "        \"Id\": test_ids,\n",
    "        \"SalePrice\": Y_pred.reshape(-1)\n",
    "    })\n",
    "    submission.to_csv(file, index=False)"
   ]
  },
  {
   "cell_type": "markdown",
   "metadata": {},
   "source": [
    "## Try linear regression"
   ]
  },
  {
   "cell_type": "code",
   "execution_count": 60,
   "metadata": {},
   "outputs": [
    {
     "name": "stdout",
     "output_type": "stream",
     "text": [
      "score = 0.0016443732259959784\n",
      "score = 0.0023767222774809995\n",
      "score = 9830827170113188.0\n",
      "score = 0.0021070622675301515\n",
      "score = 7639669035668617.0\n",
      "resutls = [1.64437323e-03 2.37672228e-03 9.83082717e+15 2.10706227e-03\n",
      " 7.63966904e+15]\n",
      "Results: mean=3494099241156361.000000 (std=4335113799842912.000000) MSE\n"
     ]
    }
   ],
   "source": [
    "train_test_score(LinearRegression, train, mean_squared_error)"
   ]
  },
  {
   "cell_type": "code",
   "execution_count": 27,
   "metadata": {},
   "outputs": [
    {
     "data": {
      "text/plain": [
       "array([[0.23529412, 0.75      , 0.15068493, ..., 0.5       , 1.        ,\n",
       "        0.8       ],\n",
       "       [0.        , 0.75      , 0.20205479, ..., 0.25      , 1.        ,\n",
       "        0.8       ],\n",
       "       [0.23529412, 0.75      , 0.1609589 , ..., 0.5       , 1.        ,\n",
       "        0.8       ],\n",
       "       ...,\n",
       "       [0.        , 0.75      , 0.21917808, ..., 1.        , 1.        ,\n",
       "        0.8       ],\n",
       "       [0.        , 0.75      , 0.1609589 , ..., 1.        , 1.        ,\n",
       "        0.8       ],\n",
       "       [0.        , 0.75      , 0.18493151, ..., 0.5       , 1.        ,\n",
       "        0.8       ]])"
      ]
     },
     "execution_count": 27,
     "metadata": {},
     "output_type": "execute_result"
    }
   ],
   "source": [
    "train"
   ]
  },
  {
   "cell_type": "code",
   "execution_count": 13,
   "metadata": {
    "ExecuteTime": {
     "end_time": "2018-10-12T08:04:36.610952Z",
     "start_time": "2018-10-12T08:04:36.592645Z"
    }
   },
   "outputs": [],
   "source": [
    "# define base model\n",
    "def baseline_model():\n",
    "    # create model\n",
    "    model = Sequential()\n",
    "    model.add(Dense(300, input_dim=75, kernel_initializer='normal', activation='relu'))\n",
    "    model.add(Dense(100, kernel_initializer='normal', activation='relu'))\n",
    "    model.add(Dense(50, kernel_initializer='normal', activation='relu'))\n",
    "    model.add(Dense(25, kernel_initializer='normal', activation='relu'))\n",
    "    model.add(Dense(12, kernel_initializer='normal', activation='relu'))\n",
    "    model.add(Dense(1, kernel_initializer='normal', activation='relu'))\n",
    "    opt_adam = keras.optimizers.Adam(lr=1e-4, beta_1=0.9, beta_2=0.999, epsilon=1e-08, decay=0.0)\n",
    "    model.compile(loss='mean_squared_error', optimizer=opt_adam)\n",
    "    return model"
   ]
  },
  {
   "cell_type": "code",
   "execution_count": 14,
   "metadata": {
    "ExecuteTime": {
     "end_time": "2018-10-10T09:20:23.302422Z",
     "start_time": "2018-10-10T09:16:04.863789Z"
    }
   },
   "outputs": [
    {
     "name": "stdout",
     "output_type": "stream",
     "text": [
      "score = 0.001448959469260978, r2_score = 0.9195430290330948\n",
      "score = 0.002196313365410801, r2_score = 0.8918931268150342\n",
      "score = 0.0023137887488160606, r2_score = 0.8565020346813936\n",
      "score = 0.0020472651711538176, r2_score = 0.8754174875862868\n",
      "score = 0.0017684104058087382, r2_score = 0.8938729235929722\n",
      "mse resutls = [0.00144896 0.00219631 0.00231379 0.00204727 0.00176841]\n",
      "Results for mse: [0.00144896 0.00219631 0.00231379 0.00204727 0.00176841] => 0.001955 (0.000312)\n",
      "Results for f2: [0.91954303 0.89189313 0.85650203 0.87541749 0.89387292] => 0.887446 (0.020945)\n"
     ]
    }
   ],
   "source": [
    "seed = 2\n",
    "np.random.seed(seed)\n",
    "scores = []\n",
    "r2_scores = []\n",
    "kfold = KFold(n_splits=5, random_state=seed)\n",
    "for train_index, test_index in kfold.split(train):\n",
    "    X_train, X_test = train[train_index], train[test_index]\n",
    "    y_train, y_test = Y[train_index], Y[test_index]\n",
    "    model = baseline_model()\n",
    "    model.fit(X_train, y_train, epochs=150, verbose=0)\n",
    "    y_val = model.predict(X_test)\n",
    "    score = mean_squared_error(y_val, y_test)\n",
    "    r2_sc = r2_score(y_val, y_test)\n",
    "    print(f'score = {score}, r2_score = {r2_sc}')\n",
    "    scores.append(score)\n",
    "    r2_scores.append(r2_sc)\n",
    "scores = np.array(scores)\n",
    "r2_scores = np.array(r2_scores)\n",
    "print(f\"Results for mse: {scores} => %f (%f)\" % (scores.mean(), scores.std()))\n",
    "print(f\"Results for f2: {r2_scores} => %f (%f)\" % (r2_scores.mean(), r2_scores.std()))"
   ]
  },
  {
   "cell_type": "code",
   "execution_count": 12,
   "metadata": {
    "ExecuteTime": {
     "end_time": "2018-10-10T09:04:35.796209Z",
     "start_time": "2018-10-10T09:03:39.010416Z"
    }
   },
   "outputs": [
    {
     "name": "stdout",
     "output_type": "stream",
     "text": [
      "Epoch 1/150\n",
      "1314/1314 [==============================] - 2s 1ms/step - loss: 0.1299\n",
      "Epoch 2/150\n",
      "1314/1314 [==============================] - 0s 140us/step - loss: 0.1062\n",
      "Epoch 3/150\n",
      "1314/1314 [==============================] - 0s 142us/step - loss: 0.0392\n",
      "Epoch 4/150\n",
      "1314/1314 [==============================] - 0s 142us/step - loss: 0.0220\n",
      "Epoch 5/150\n",
      "1314/1314 [==============================] - 0s 142us/step - loss: 0.0201\n",
      "Epoch 6/150\n",
      "1314/1314 [==============================] - 0s 142us/step - loss: 0.0176\n",
      "Epoch 7/150\n",
      "1314/1314 [==============================] - 0s 141us/step - loss: 0.0145\n",
      "Epoch 8/150\n",
      "1314/1314 [==============================] - 0s 142us/step - loss: 0.0110\n",
      "Epoch 9/150\n",
      "1314/1314 [==============================] - 0s 143us/step - loss: 0.0077\n",
      "Epoch 10/150\n",
      "1314/1314 [==============================] - 0s 141us/step - loss: 0.0058\n",
      "Epoch 11/150\n",
      "1314/1314 [==============================] - 0s 141us/step - loss: 0.0052\n",
      "Epoch 12/150\n",
      "1314/1314 [==============================] - 0s 141us/step - loss: 0.0047\n",
      "Epoch 13/150\n",
      "1314/1314 [==============================] - 0s 140us/step - loss: 0.0043\n",
      "Epoch 14/150\n",
      "1314/1314 [==============================] - 0s 144us/step - loss: 0.0040\n",
      "Epoch 15/150\n",
      "1314/1314 [==============================] - 0s 141us/step - loss: 0.0037\n",
      "Epoch 16/150\n",
      "1314/1314 [==============================] - 0s 146us/step - loss: 0.0035\n",
      "Epoch 17/150\n",
      "1314/1314 [==============================] - 0s 141us/step - loss: 0.0034\n",
      "Epoch 18/150\n",
      "1314/1314 [==============================] - 0s 143us/step - loss: 0.0032\n",
      "Epoch 19/150\n",
      "1314/1314 [==============================] - 0s 143us/step - loss: 0.0031\n",
      "Epoch 20/150\n",
      "1314/1314 [==============================] - 0s 140us/step - loss: 0.0031\n",
      "Epoch 21/150\n",
      "1314/1314 [==============================] - 0s 141us/step - loss: 0.0029\n",
      "Epoch 22/150\n",
      "1314/1314 [==============================] - 0s 143us/step - loss: 0.0028\n",
      "Epoch 23/150\n",
      "1314/1314 [==============================] - 0s 142us/step - loss: 0.0028\n",
      "Epoch 24/150\n",
      "1314/1314 [==============================] - 0s 142us/step - loss: 0.0029\n",
      "Epoch 25/150\n",
      "1314/1314 [==============================] - 0s 144us/step - loss: 0.0027\n",
      "Epoch 26/150\n",
      "1314/1314 [==============================] - 0s 141us/step - loss: 0.0029\n",
      "Epoch 27/150\n",
      "1314/1314 [==============================] - 0s 140us/step - loss: 0.0027\n",
      "Epoch 28/150\n",
      "1314/1314 [==============================] - 0s 140us/step - loss: 0.0027\n",
      "Epoch 29/150\n",
      "1314/1314 [==============================] - 0s 139us/step - loss: 0.0031\n",
      "Epoch 30/150\n",
      "1314/1314 [==============================] - 0s 140us/step - loss: 0.0026\n",
      "Epoch 31/150\n",
      "1314/1314 [==============================] - 0s 141us/step - loss: 0.0025\n",
      "Epoch 32/150\n",
      "1314/1314 [==============================] - 0s 141us/step - loss: 0.0030\n",
      "Epoch 33/150\n",
      "1314/1314 [==============================] - 0s 139us/step - loss: 0.0026\n",
      "Epoch 34/150\n",
      "1314/1314 [==============================] - 0s 141us/step - loss: 0.0025\n",
      "Epoch 35/150\n",
      "1314/1314 [==============================] - 0s 141us/step - loss: 0.0024\n",
      "Epoch 36/150\n",
      "1314/1314 [==============================] - 0s 143us/step - loss: 0.0029\n",
      "Epoch 37/150\n",
      "1314/1314 [==============================] - 0s 141us/step - loss: 0.0024\n",
      "Epoch 38/150\n",
      "1314/1314 [==============================] - 0s 143us/step - loss: 0.0024\n",
      "Epoch 39/150\n",
      "1314/1314 [==============================] - 0s 144us/step - loss: 0.0025\n",
      "Epoch 40/150\n",
      "1314/1314 [==============================] - 0s 139us/step - loss: 0.0024\n",
      "Epoch 41/150\n",
      "1314/1314 [==============================] - 0s 141us/step - loss: 0.0023\n",
      "Epoch 42/150\n",
      "1314/1314 [==============================] - 0s 133us/step - loss: 0.0024\n",
      "Epoch 43/150\n",
      "1314/1314 [==============================] - 0s 143us/step - loss: 0.0023\n",
      "Epoch 44/150\n",
      "1314/1314 [==============================] - 0s 142us/step - loss: 0.0023\n",
      "Epoch 45/150\n",
      "1314/1314 [==============================] - 0s 140us/step - loss: 0.0023\n",
      "Epoch 46/150\n",
      "1314/1314 [==============================] - 0s 142us/step - loss: 0.0023\n",
      "Epoch 47/150\n",
      "1314/1314 [==============================] - 0s 141us/step - loss: 0.0022\n",
      "Epoch 48/150\n",
      "1314/1314 [==============================] - 0s 141us/step - loss: 0.0022\n",
      "Epoch 49/150\n",
      "1314/1314 [==============================] - 0s 140us/step - loss: 0.0022\n",
      "Epoch 50/150\n",
      "1314/1314 [==============================] - 0s 143us/step - loss: 0.0022\n",
      "Epoch 51/150\n",
      "1314/1314 [==============================] - 0s 141us/step - loss: 0.0022\n",
      "Epoch 52/150\n",
      "1314/1314 [==============================] - 0s 142us/step - loss: 0.0022\n",
      "Epoch 53/150\n",
      "1314/1314 [==============================] - 0s 143us/step - loss: 0.0022\n",
      "Epoch 54/150\n",
      "1314/1314 [==============================] - 0s 141us/step - loss: 0.0021\n",
      "Epoch 55/150\n",
      "1314/1314 [==============================] - 0s 144us/step - loss: 0.0021\n",
      "Epoch 56/150\n",
      "1314/1314 [==============================] - 0s 141us/step - loss: 0.0021\n",
      "Epoch 57/150\n",
      "1314/1314 [==============================] - 0s 140us/step - loss: 0.0021\n",
      "Epoch 58/150\n",
      "1314/1314 [==============================] - 0s 141us/step - loss: 0.0021\n",
      "Epoch 59/150\n",
      "1314/1314 [==============================] - 0s 141us/step - loss: 0.0020\n",
      "Epoch 60/150\n",
      "1314/1314 [==============================] - 0s 143us/step - loss: 0.0020\n",
      "Epoch 61/150\n",
      "1314/1314 [==============================] - 0s 141us/step - loss: 0.0020\n",
      "Epoch 62/150\n",
      "1314/1314 [==============================] - 0s 142us/step - loss: 0.0020\n",
      "Epoch 63/150\n",
      "1314/1314 [==============================] - 0s 141us/step - loss: 0.0020\n",
      "Epoch 64/150\n",
      "1314/1314 [==============================] - 0s 139us/step - loss: 0.0021\n",
      "Epoch 65/150\n",
      "1314/1314 [==============================] - 0s 141us/step - loss: 0.0019\n",
      "Epoch 66/150\n",
      "1314/1314 [==============================] - 0s 141us/step - loss: 0.0022\n",
      "Epoch 67/150\n",
      "1314/1314 [==============================] - 0s 144us/step - loss: 0.0020\n",
      "Epoch 68/150\n",
      "1314/1314 [==============================] - 0s 142us/step - loss: 0.0019\n",
      "Epoch 69/150\n",
      "1314/1314 [==============================] - 0s 140us/step - loss: 0.0019\n",
      "Epoch 70/150\n",
      "1314/1314 [==============================] - 0s 140us/step - loss: 0.0019\n",
      "Epoch 71/150\n",
      "1314/1314 [==============================] - 0s 140us/step - loss: 0.0021\n",
      "Epoch 72/150\n",
      "1314/1314 [==============================] - 0s 141us/step - loss: 0.0021\n",
      "Epoch 73/150\n",
      "1314/1314 [==============================] - 0s 137us/step - loss: 0.0018\n",
      "Epoch 74/150\n",
      "1314/1314 [==============================] - 0s 139us/step - loss: 0.0019\n",
      "Epoch 75/150\n",
      "1314/1314 [==============================] - 0s 141us/step - loss: 0.0018\n",
      "Epoch 76/150\n",
      "1314/1314 [==============================] - 0s 142us/step - loss: 0.0018\n",
      "Epoch 77/150\n",
      "1314/1314 [==============================] - 0s 139us/step - loss: 0.0019\n",
      "Epoch 78/150\n",
      "1314/1314 [==============================] - 0s 143us/step - loss: 0.0018\n",
      "Epoch 79/150\n",
      "1314/1314 [==============================] - 0s 141us/step - loss: 0.0018\n",
      "Epoch 80/150\n",
      "1314/1314 [==============================] - 0s 142us/step - loss: 0.0017\n",
      "Epoch 81/150\n",
      "1314/1314 [==============================] - 0s 142us/step - loss: 0.0017\n",
      "Epoch 82/150\n",
      "1314/1314 [==============================] - 0s 143us/step - loss: 0.0017\n",
      "Epoch 83/150\n",
      "1314/1314 [==============================] - 0s 142us/step - loss: 0.0017\n",
      "Epoch 84/150\n",
      "1314/1314 [==============================] - 0s 139us/step - loss: 0.0019\n",
      "Epoch 85/150\n",
      "1314/1314 [==============================] - 0s 141us/step - loss: 0.0017\n",
      "Epoch 86/150\n",
      "1314/1314 [==============================] - 0s 141us/step - loss: 0.0017\n",
      "Epoch 87/150\n",
      "1314/1314 [==============================] - 0s 139us/step - loss: 0.0017\n",
      "Epoch 88/150\n",
      "1314/1314 [==============================] - 0s 141us/step - loss: 0.0017\n",
      "Epoch 89/150\n",
      "1314/1314 [==============================] - 0s 142us/step - loss: 0.0016\n",
      "Epoch 90/150\n",
      "1314/1314 [==============================] - 0s 143us/step - loss: 0.0017\n",
      "Epoch 91/150\n",
      "1314/1314 [==============================] - 0s 142us/step - loss: 0.0017\n",
      "Epoch 92/150\n",
      "1314/1314 [==============================] - 0s 138us/step - loss: 0.0016\n",
      "Epoch 93/150\n",
      "1314/1314 [==============================] - 0s 143us/step - loss: 0.0016\n",
      "Epoch 94/150\n",
      "1314/1314 [==============================] - 0s 142us/step - loss: 0.0016\n",
      "Epoch 95/150\n",
      "1314/1314 [==============================] - 0s 141us/step - loss: 0.0016\n",
      "Epoch 96/150\n",
      "1314/1314 [==============================] - 0s 141us/step - loss: 0.0017\n",
      "Epoch 97/150\n",
      "1314/1314 [==============================] - 0s 142us/step - loss: 0.0016\n",
      "Epoch 98/150\n",
      "1314/1314 [==============================] - 0s 140us/step - loss: 0.0016\n",
      "Epoch 99/150\n",
      "1314/1314 [==============================] - 0s 142us/step - loss: 0.0015\n",
      "Epoch 100/150\n",
      "1314/1314 [==============================] - 0s 143us/step - loss: 0.0017\n",
      "Epoch 101/150\n",
      "1314/1314 [==============================] - 0s 140us/step - loss: 0.0017\n",
      "Epoch 102/150\n",
      "1314/1314 [==============================] - 0s 140us/step - loss: 0.0017\n",
      "Epoch 103/150\n",
      "1314/1314 [==============================] - 0s 141us/step - loss: 0.0015\n",
      "Epoch 104/150\n",
      "1314/1314 [==============================] - 0s 141us/step - loss: 0.0015\n",
      "Epoch 105/150\n",
      "1314/1314 [==============================] - 0s 140us/step - loss: 0.0016\n",
      "Epoch 106/150\n",
      "1314/1314 [==============================] - 0s 139us/step - loss: 0.0015\n",
      "Epoch 107/150\n",
      "1314/1314 [==============================] - 0s 140us/step - loss: 0.0015\n",
      "Epoch 108/150\n",
      "1314/1314 [==============================] - 0s 140us/step - loss: 0.0015\n",
      "Epoch 109/150\n",
      "1314/1314 [==============================] - 0s 142us/step - loss: 0.0018\n",
      "Epoch 110/150\n",
      "1314/1314 [==============================] - 0s 142us/step - loss: 0.0015\n",
      "Epoch 111/150\n",
      "1314/1314 [==============================] - 0s 141us/step - loss: 0.0014\n",
      "Epoch 112/150\n",
      "1314/1314 [==============================] - 0s 141us/step - loss: 0.0015\n",
      "Epoch 113/150\n",
      "1314/1314 [==============================] - 0s 142us/step - loss: 0.0014\n",
      "Epoch 114/150\n",
      "1314/1314 [==============================] - 0s 141us/step - loss: 0.0014\n",
      "Epoch 115/150\n",
      "1314/1314 [==============================] - 0s 140us/step - loss: 0.0015\n",
      "Epoch 116/150\n",
      "1314/1314 [==============================] - 0s 141us/step - loss: 0.0014\n",
      "Epoch 117/150\n",
      "1314/1314 [==============================] - 0s 143us/step - loss: 0.0014\n",
      "Epoch 118/150\n",
      "1314/1314 [==============================] - 0s 141us/step - loss: 0.0014\n",
      "Epoch 119/150\n",
      "1314/1314 [==============================] - 0s 142us/step - loss: 0.0014\n",
      "Epoch 120/150\n",
      "1314/1314 [==============================] - 0s 140us/step - loss: 0.0014\n",
      "Epoch 121/150\n",
      "1314/1314 [==============================] - 0s 142us/step - loss: 0.0014\n",
      "Epoch 122/150\n",
      "1314/1314 [==============================] - 0s 144us/step - loss: 0.0014\n",
      "Epoch 123/150\n",
      "1314/1314 [==============================] - 0s 141us/step - loss: 0.0014\n",
      "Epoch 124/150\n",
      "1314/1314 [==============================] - 0s 140us/step - loss: 0.0014\n",
      "Epoch 125/150\n",
      "1314/1314 [==============================] - 0s 140us/step - loss: 0.0014\n",
      "Epoch 126/150\n",
      "1314/1314 [==============================] - 0s 143us/step - loss: 0.0014\n",
      "Epoch 127/150\n",
      "1314/1314 [==============================] - 0s 140us/step - loss: 0.0014\n",
      "Epoch 128/150\n",
      "1314/1314 [==============================] - 0s 141us/step - loss: 0.0014\n",
      "Epoch 129/150\n",
      "1314/1314 [==============================] - 0s 141us/step - loss: 0.0014\n",
      "Epoch 130/150\n",
      "1314/1314 [==============================] - 0s 144us/step - loss: 0.0014\n",
      "Epoch 131/150\n",
      "1314/1314 [==============================] - 0s 140us/step - loss: 0.0014\n",
      "Epoch 132/150\n",
      "1314/1314 [==============================] - 0s 142us/step - loss: 0.0014\n",
      "Epoch 133/150\n",
      "1314/1314 [==============================] - 0s 139us/step - loss: 0.0014\n",
      "Epoch 134/150\n",
      "1314/1314 [==============================] - 0s 140us/step - loss: 0.0013\n",
      "Epoch 135/150\n",
      "1314/1314 [==============================] - 0s 143us/step - loss: 0.0013\n",
      "Epoch 136/150\n",
      "1314/1314 [==============================] - 0s 141us/step - loss: 0.0013\n",
      "Epoch 137/150\n",
      "1314/1314 [==============================] - 0s 141us/step - loss: 0.0013\n",
      "Epoch 138/150\n",
      "1314/1314 [==============================] - 0s 140us/step - loss: 0.0013\n",
      "Epoch 139/150\n",
      "1314/1314 [==============================] - 0s 142us/step - loss: 0.0013\n",
      "Epoch 140/150\n",
      "1314/1314 [==============================] - 0s 141us/step - loss: 0.0013\n",
      "Epoch 141/150\n",
      "1314/1314 [==============================] - 0s 142us/step - loss: 0.0013\n",
      "Epoch 142/150\n",
      "1314/1314 [==============================] - 0s 143us/step - loss: 0.0012\n",
      "Epoch 143/150\n",
      "1314/1314 [==============================] - 0s 143us/step - loss: 0.0013\n",
      "Epoch 144/150\n",
      "1314/1314 [==============================] - 0s 138us/step - loss: 0.0021\n",
      "Epoch 145/150\n",
      "1314/1314 [==============================] - 0s 141us/step - loss: 0.0013\n",
      "Epoch 146/150\n",
      "1314/1314 [==============================] - 0s 139us/step - loss: 0.0013\n",
      "Epoch 147/150\n",
      "1314/1314 [==============================] - 0s 141us/step - loss: 0.0013\n",
      "Epoch 148/150\n",
      "1314/1314 [==============================] - 0s 142us/step - loss: 0.0012\n",
      "Epoch 149/150\n",
      "1314/1314 [==============================] - 0s 141us/step - loss: 0.0012\n",
      "Epoch 150/150\n",
      "1314/1314 [==============================] - 0s 142us/step - loss: 0.0013\n"
     ]
    },
    {
     "data": {
      "text/plain": [
       "<keras.callbacks.History at 0x7f53f3db4b00>"
      ]
     },
     "execution_count": 12,
     "metadata": {},
     "output_type": "execute_result"
    }
   ],
   "source": [
    "model = baseline_model()\n",
    "model.fit(train, Y, epochs=150, verbose=1)"
   ]
  },
  {
   "cell_type": "markdown",
   "metadata": {},
   "source": [
    "## Trying stacking"
   ]
  },
  {
   "cell_type": "code",
   "execution_count": 14,
   "metadata": {
    "ExecuteTime": {
     "end_time": "2018-10-12T08:39:48.934939Z",
     "start_time": "2018-10-12T08:33:54.892250Z"
    }
   },
   "outputs": [
    {
     "name": "stdout",
     "output_type": "stream",
     "text": [
      "*** MSE for stacking ***\n"
     ]
    },
    {
     "name": "stderr",
     "output_type": "stream",
     "text": [
      "/Users/kdang/.virtualenvs/tensorflow/lib/python3.6/site-packages/sklearn/utils/validation.py:547: DataConversionWarning: A column-vector y was passed when a 1d array was expected. Please change the shape of y to (n_samples, ), for example using ravel().\n",
      "  y = column_or_1d(y, warn=True)\n"
     ]
    },
    {
     "name": "stdout",
     "output_type": "stream",
     "text": [
      "score = 0.0018371675268825714\n",
      "score = 0.002390266025774385\n",
      "score = 0.0025259174425421448\n",
      "score = 0.0015508062491095729\n",
      "score = 0.0020001113419871653\n",
      "resutls = [0.00183717 0.00239027 0.00252592 0.00155081 0.00200011]\n",
      "Results: mean=0.002061 (std=0.000357) MSE\n",
      "*** R2 for stacking ***\n",
      "score = 0.915290277610436\n",
      "score = 0.907136060188566\n",
      "score = 0.8653917580016112\n",
      "score = 0.9173853606855722\n",
      "score = 0.9066483071491048\n",
      "resutls = [0.91529028 0.90713606 0.86539176 0.91738536 0.90664831]\n",
      "Results: mean=0.902370 (std=0.018978) MSE\n"
     ]
    }
   ],
   "source": [
    "class StackingAveragedModels(BaseEstimator, RegressorMixin, TransformerMixin):\n",
    "    def __init__(self, base_models, meta_model, n_folds=5):\n",
    "        self.base_models = base_models\n",
    "        self.meta_model = meta_model\n",
    "        self.n_folds = n_folds\n",
    "   \n",
    "    # We again fit the data on clones of the original models\n",
    "    def fit(self, X, y):\n",
    "        self.base_models_ = [list() for x in self.base_models]\n",
    "        self.meta_model_ = self.meta_model()\n",
    "        kfold = KFold(n_splits=self.n_folds, shuffle=True, random_state=random_state)\n",
    "        \n",
    "        # Train cloned base models then create out-of-fold predictions\n",
    "        # that are needed to train the cloned meta-model\n",
    "        out_of_fold_predictions = np.zeros((X.shape[0], len(self.base_models)))\n",
    "        for i, model in enumerate(self.base_models):\n",
    "            for train_index, holdout_index in kfold.split(X, y):\n",
    "                instance = model()\n",
    "                self.base_models_[i].append(instance)\n",
    "                instance.fit(X[train_index], y[train_index])\n",
    "                y_pred = instance.predict(X[holdout_index])\n",
    "                out_of_fold_predictions[holdout_index, i] = y_pred.reshape(-1)\n",
    "                \n",
    "        # Now train the cloned  meta-model using the out-of-fold predictions as new feature\n",
    "        self.meta_model_.fit(out_of_fold_predictions, y)\n",
    "        return self\n",
    "   \n",
    "    #Do the predictions of all base models on the test data and use the averaged predictions as \n",
    "    #meta-features for the final prediction which is done by the meta-model\n",
    "    def predict(self, X):\n",
    "        meta_features = np.column_stack([\n",
    "            np.column_stack([model.predict(X) for model in base_models]).mean(axis=1)\n",
    "            for base_models in self.base_models_ ])\n",
    "        return self.meta_model_.predict(meta_features)\n",
    "    \n",
    "def make_lasso():\n",
    "    return Lasso(alpha =0.0005, random_state=1)\n",
    "\n",
    "def make_elasticnet():\n",
    "    return ElasticNet(alpha=0.0005, l1_ratio=.9, random_state=3)\n",
    "\n",
    "def make_krr():\n",
    "    return KernelRidge(alpha=0.6, kernel='polynomial', degree=2, coef0=2.5)\n",
    "\n",
    "def make_gradient_boosting():\n",
    "    GBoost = GradientBoostingRegressor(n_estimators=3000, learning_rate=0.05,\n",
    "                                       max_depth=4, max_features='sqrt',\n",
    "                                       min_samples_leaf=15, min_samples_split=10, \n",
    "                                       loss='huber', random_state =5)\n",
    "    return GBoost\n",
    "\n",
    "def make_linear_regression():\n",
    "    return LinearRegression()\n",
    "    \n",
    "def make_stacked_model():\n",
    "    stacked_averaged_models = StackingAveragedModels(\n",
    "        base_models = (make_lasso, make_elasticnet, make_krr, make_gradient_boosting, make_linear_regression),\n",
    "        meta_model = make_lasso)\n",
    "    return stacked_averaged_models\n",
    "print(\"*** MSE for stacking ***\")\n",
    "train_test_score(make_stacked_model, train, mean_squared_error)\n",
    "print(\"*** R2 for stacking ***\")\n",
    "train_test_score(make_stacked_model, train, r2_score)"
   ]
  },
  {
   "cell_type": "code",
   "execution_count": 11,
   "metadata": {
    "ExecuteTime": {
     "end_time": "2018-10-12T08:24:02.220027Z",
     "start_time": "2018-10-12T08:23:24.197877Z"
    }
   },
   "outputs": [
    {
     "name": "stderr",
     "output_type": "stream",
     "text": [
      "/Users/kdang/.virtualenvs/tensorflow/lib/python3.6/site-packages/sklearn/utils/validation.py:547: DataConversionWarning: A column-vector y was passed when a 1d array was expected. Please change the shape of y to (n_samples, ), for example using ravel().\n",
      "  y = column_or_1d(y, warn=True)\n"
     ]
    },
    {
     "data": {
      "text/plain": [
       "StackingAveragedModels(base_models=(<function make_lasso at 0x11d11c400>, <function make_elasticnet at 0x11d11cd90>, <function make_krr at 0x11d11c8c8>, <function make_gradient_boosting at 0x11d11c840>),\n",
       "            meta_model=<function make_linear_regression at 0x11d11c950>,\n",
       "            n_folds=5)"
      ]
     },
     "execution_count": 11,
     "metadata": {},
     "output_type": "execute_result"
    }
   ],
   "source": [
    "stacked_model = make_stacked_model()\n",
    "stacked_model.fit(train, Y)"
   ]
  },
  {
   "cell_type": "code",
   "execution_count": 12,
   "metadata": {
    "ExecuteTime": {
     "end_time": "2018-10-12T08:25:53.838966Z",
     "start_time": "2018-10-12T08:25:53.211393Z"
    }
   },
   "outputs": [],
   "source": [
    "predict_and_submit(stacked_model, test, \"house_price_result_stacked.csv\")"
   ]
  },
  {
   "cell_type": "code",
   "execution_count": 13,
   "metadata": {
    "ExecuteTime": {
     "end_time": "2018-10-12T08:26:49.254275Z",
     "start_time": "2018-10-12T08:26:44.434321Z"
    }
   },
   "outputs": [
    {
     "name": "stdout",
     "output_type": "stream",
     "text": [
      "Warning: Your Kaggle API key is readable by otherusers on this system! To fix this, you can run'chmod 600 /Users/kdang/.kaggle/kaggle.json'\n",
      "Successfully submitted to House Prices: Advanced Regression Techniques"
     ]
    }
   ],
   "source": [
    "! kaggle competitions submit house-prices-advanced-regression-techniques \\\n",
    "-f house_price_result_stacked.csv \\\n",
    "-m \"stacked model with base models of (lasso, elastic net, krr, gradient boosting) and stacker as linear regression\""
   ]
  }
 ],
 "metadata": {
  "kernelspec": {
   "display_name": "Python 3",
   "language": "python",
   "name": "python3"
  },
  "language_info": {
   "codemirror_mode": {
    "name": "ipython",
    "version": 3
   },
   "file_extension": ".py",
   "mimetype": "text/x-python",
   "name": "python",
   "nbconvert_exporter": "python",
   "pygments_lexer": "ipython3",
   "version": "3.6.6"
  }
 },
 "nbformat": 4,
 "nbformat_minor": 2
}
