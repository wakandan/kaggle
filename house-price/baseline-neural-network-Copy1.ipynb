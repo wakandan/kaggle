{
 "cells": [
  {
   "cell_type": "code",
   "execution_count": 10,
   "metadata": {
    "ExecuteTime": {
     "end_time": "2018-10-12T08:01:58.655088Z",
     "start_time": "2018-10-12T08:01:58.505010Z"
    }
   },
   "outputs": [],
   "source": [
    "import pandas as pd\n",
    "from sklearn.ensemble import RandomForestRegressor, GradientBoostingRegressor, AdaBoostRegressor, BaggingRegressor\n",
    "from sklearn.linear_model import LinearRegression\n",
    "from sklearn.model_selection import cross_val_score, ShuffleSplit\n",
    "import seaborn as sns\n",
    "import numpy as np\n",
    "from sklearn.feature_selection import SelectFromModel\n",
    "import keras\n",
    "from keras.models import Sequential\n",
    "from keras.layers import Dense, BatchNormalization\n",
    "from keras.wrappers.scikit_learn import KerasRegressor\n",
    "from sklearn.model_selection import cross_val_score\n",
    "from sklearn.model_selection import KFold\n",
    "from sklearn.preprocessing import StandardScaler\n",
    "from sklearn.pipeline import Pipeline\n",
    "from sklearn.preprocessing import MinMaxScaler\n",
    "from sklearn.model_selection import KFold\n",
    "from sklearn.metrics import mean_squared_error, r2_score\n",
    "from sklearn.ensemble import IsolationForest\n",
    "from mlxtend.regressor import StackingRegressor\n",
    "from sklearn.base import BaseEstimator, TransformerMixin, RegressorMixin, clone\n",
    "from sklearn.pipeline import make_pipeline\n",
    "from sklearn.preprocessing import RobustScaler\n",
    "from sklearn.linear_model import ElasticNet, Lasso,  BayesianRidge, LassoLarsIC\n",
    "from sklearn.kernel_ridge import KernelRidge"
   ]
  },
  {
   "cell_type": "code",
   "execution_count": 11,
   "metadata": {
    "ExecuteTime": {
     "end_time": "2018-10-12T08:02:00.418975Z",
     "start_time": "2018-10-12T08:02:00.025189Z"
    }
   },
   "outputs": [
    {
     "name": "stdout",
     "output_type": "stream",
     "text": [
      "**************************************** train\n",
      "<class 'pandas.core.frame.DataFrame'>\n",
      "RangeIndex: 1460 entries, 0 to 1459\n",
      "Data columns (total 81 columns):\n",
      "Id               1460 non-null int64\n",
      "MSSubClass       1460 non-null int64\n",
      "MSZoning         1460 non-null object\n",
      "LotFrontage      1201 non-null float64\n",
      "LotArea          1460 non-null int64\n",
      "Street           1460 non-null object\n",
      "Alley            91 non-null object\n",
      "LotShape         1460 non-null object\n",
      "LandContour      1460 non-null object\n",
      "Utilities        1460 non-null object\n",
      "LotConfig        1460 non-null object\n",
      "LandSlope        1460 non-null object\n",
      "Neighborhood     1460 non-null object\n",
      "Condition1       1460 non-null object\n",
      "Condition2       1460 non-null object\n",
      "BldgType         1460 non-null object\n",
      "HouseStyle       1460 non-null object\n",
      "OverallQual      1460 non-null int64\n",
      "OverallCond      1460 non-null int64\n",
      "YearBuilt        1460 non-null int64\n",
      "YearRemodAdd     1460 non-null int64\n",
      "RoofStyle        1460 non-null object\n",
      "RoofMatl         1460 non-null object\n",
      "Exterior1st      1460 non-null object\n",
      "Exterior2nd      1460 non-null object\n",
      "MasVnrType       1452 non-null object\n",
      "MasVnrArea       1452 non-null float64\n",
      "ExterQual        1460 non-null object\n",
      "ExterCond        1460 non-null object\n",
      "Foundation       1460 non-null object\n",
      "BsmtQual         1423 non-null object\n",
      "BsmtCond         1423 non-null object\n",
      "BsmtExposure     1422 non-null object\n",
      "BsmtFinType1     1423 non-null object\n",
      "BsmtFinSF1       1460 non-null int64\n",
      "BsmtFinType2     1422 non-null object\n",
      "BsmtFinSF2       1460 non-null int64\n",
      "BsmtUnfSF        1460 non-null int64\n",
      "TotalBsmtSF      1460 non-null int64\n",
      "Heating          1460 non-null object\n",
      "HeatingQC        1460 non-null object\n",
      "CentralAir       1460 non-null object\n",
      "Electrical       1459 non-null object\n",
      "1stFlrSF         1460 non-null int64\n",
      "2ndFlrSF         1460 non-null int64\n",
      "LowQualFinSF     1460 non-null int64\n",
      "GrLivArea        1460 non-null int64\n",
      "BsmtFullBath     1460 non-null int64\n",
      "BsmtHalfBath     1460 non-null int64\n",
      "FullBath         1460 non-null int64\n",
      "HalfBath         1460 non-null int64\n",
      "BedroomAbvGr     1460 non-null int64\n",
      "KitchenAbvGr     1460 non-null int64\n",
      "KitchenQual      1460 non-null object\n",
      "TotRmsAbvGrd     1460 non-null int64\n",
      "Functional       1460 non-null object\n",
      "Fireplaces       1460 non-null int64\n",
      "FireplaceQu      770 non-null object\n",
      "GarageType       1379 non-null object\n",
      "GarageYrBlt      1379 non-null float64\n",
      "GarageFinish     1379 non-null object\n",
      "GarageCars       1460 non-null int64\n",
      "GarageArea       1460 non-null int64\n",
      "GarageQual       1379 non-null object\n",
      "GarageCond       1379 non-null object\n",
      "PavedDrive       1460 non-null object\n",
      "WoodDeckSF       1460 non-null int64\n",
      "OpenPorchSF      1460 non-null int64\n",
      "EnclosedPorch    1460 non-null int64\n",
      "3SsnPorch        1460 non-null int64\n",
      "ScreenPorch      1460 non-null int64\n",
      "PoolArea         1460 non-null int64\n",
      "PoolQC           7 non-null object\n",
      "Fence            281 non-null object\n",
      "MiscFeature      54 non-null object\n",
      "MiscVal          1460 non-null int64\n",
      "MoSold           1460 non-null int64\n",
      "YrSold           1460 non-null int64\n",
      "SaleType         1460 non-null object\n",
      "SaleCondition    1460 non-null object\n",
      "SalePrice        1460 non-null int64\n",
      "dtypes: float64(3), int64(35), object(43)\n",
      "memory usage: 924.0+ KB\n",
      "None\n",
      "**************************************** test\n",
      "<class 'pandas.core.frame.DataFrame'>\n",
      "RangeIndex: 1459 entries, 0 to 1458\n",
      "Data columns (total 80 columns):\n",
      "Id               1459 non-null int64\n",
      "MSSubClass       1459 non-null int64\n",
      "MSZoning         1455 non-null object\n",
      "LotFrontage      1232 non-null float64\n",
      "LotArea          1459 non-null int64\n",
      "Street           1459 non-null object\n",
      "Alley            107 non-null object\n",
      "LotShape         1459 non-null object\n",
      "LandContour      1459 non-null object\n",
      "Utilities        1457 non-null object\n",
      "LotConfig        1459 non-null object\n",
      "LandSlope        1459 non-null object\n",
      "Neighborhood     1459 non-null object\n",
      "Condition1       1459 non-null object\n",
      "Condition2       1459 non-null object\n",
      "BldgType         1459 non-null object\n",
      "HouseStyle       1459 non-null object\n",
      "OverallQual      1459 non-null int64\n",
      "OverallCond      1459 non-null int64\n",
      "YearBuilt        1459 non-null int64\n",
      "YearRemodAdd     1459 non-null int64\n",
      "RoofStyle        1459 non-null object\n",
      "RoofMatl         1459 non-null object\n",
      "Exterior1st      1458 non-null object\n",
      "Exterior2nd      1458 non-null object\n",
      "MasVnrType       1443 non-null object\n",
      "MasVnrArea       1444 non-null float64\n",
      "ExterQual        1459 non-null object\n",
      "ExterCond        1459 non-null object\n",
      "Foundation       1459 non-null object\n",
      "BsmtQual         1415 non-null object\n",
      "BsmtCond         1414 non-null object\n",
      "BsmtExposure     1415 non-null object\n",
      "BsmtFinType1     1417 non-null object\n",
      "BsmtFinSF1       1458 non-null float64\n",
      "BsmtFinType2     1417 non-null object\n",
      "BsmtFinSF2       1458 non-null float64\n",
      "BsmtUnfSF        1458 non-null float64\n",
      "TotalBsmtSF      1458 non-null float64\n",
      "Heating          1459 non-null object\n",
      "HeatingQC        1459 non-null object\n",
      "CentralAir       1459 non-null object\n",
      "Electrical       1459 non-null object\n",
      "1stFlrSF         1459 non-null int64\n",
      "2ndFlrSF         1459 non-null int64\n",
      "LowQualFinSF     1459 non-null int64\n",
      "GrLivArea        1459 non-null int64\n",
      "BsmtFullBath     1457 non-null float64\n",
      "BsmtHalfBath     1457 non-null float64\n",
      "FullBath         1459 non-null int64\n",
      "HalfBath         1459 non-null int64\n",
      "BedroomAbvGr     1459 non-null int64\n",
      "KitchenAbvGr     1459 non-null int64\n",
      "KitchenQual      1458 non-null object\n",
      "TotRmsAbvGrd     1459 non-null int64\n",
      "Functional       1457 non-null object\n",
      "Fireplaces       1459 non-null int64\n",
      "FireplaceQu      729 non-null object\n",
      "GarageType       1383 non-null object\n",
      "GarageYrBlt      1381 non-null float64\n",
      "GarageFinish     1381 non-null object\n",
      "GarageCars       1458 non-null float64\n",
      "GarageArea       1458 non-null float64\n",
      "GarageQual       1381 non-null object\n",
      "GarageCond       1381 non-null object\n",
      "PavedDrive       1459 non-null object\n",
      "WoodDeckSF       1459 non-null int64\n",
      "OpenPorchSF      1459 non-null int64\n",
      "EnclosedPorch    1459 non-null int64\n",
      "3SsnPorch        1459 non-null int64\n",
      "ScreenPorch      1459 non-null int64\n",
      "PoolArea         1459 non-null int64\n",
      "PoolQC           3 non-null object\n",
      "Fence            290 non-null object\n",
      "MiscFeature      51 non-null object\n",
      "MiscVal          1459 non-null int64\n",
      "MoSold           1459 non-null int64\n",
      "YrSold           1459 non-null int64\n",
      "SaleType         1458 non-null object\n",
      "SaleCondition    1459 non-null object\n",
      "dtypes: float64(11), int64(26), object(43)\n",
      "memory usage: 912.0+ KB\n",
      "None\n"
     ]
    }
   ],
   "source": [
    "random_state=42\n",
    "cross_validation_folds = 5\n",
    "n_jobs = 2\n",
    "train_df = pd.read_csv('./train.csv')\n",
    "test_df = pd.read_csv('./test.csv')\n",
    "print('*'*40, \"train\")\n",
    "print(train_df.info())\n",
    "print('*'*40, 'test')\n",
    "print(test_df.info())"
   ]
  },
  {
   "cell_type": "code",
   "execution_count": 12,
   "metadata": {
    "ExecuteTime": {
     "end_time": "2018-10-12T08:02:02.473514Z",
     "start_time": "2018-10-12T08:02:01.324337Z"
    }
   },
   "outputs": [
    {
     "name": "stdout",
     "output_type": "stream",
     "text": [
      "(1460, 75) (1459, 75)\n",
      "(1460,)\n",
      "Number of Outliers: 146\n",
      "Number of rows without outliers: 1314\n",
      "(1314, 75) (1314,) (1459, 75)\n"
     ]
    },
    {
     "name": "stderr",
     "output_type": "stream",
     "text": [
      "/Users/kdang/.virtualenvs/tensorflow/lib/python3.6/site-packages/sklearn/utils/validation.py:444: DataConversionWarning: Data with input dtype int64 was converted to float64 by MinMaxScaler.\n",
      "  warnings.warn(msg, DataConversionWarning)\n"
     ]
    }
   ],
   "source": [
    "random_state=42\n",
    "cross_validation_folds = 5\n",
    "n_jobs = 2\n",
    "train_df = pd.read_csv('./train.csv')\n",
    "test_df = pd.read_csv('./test.csv')\n",
    "test_ids = test_df.Id\n",
    "y = train_df.SalePrice\n",
    "train_df.drop(['SalePrice'], inplace=True, axis=1)\n",
    "combine = [train_df, test_df]\n",
    "combined = pd.concat([train_df, test_df])\n",
    "train_df.replace(['NaN', 'NA', 'nan'], np.nan, inplace=True)\n",
    "test_df.replace(['NaN', 'NA', 'nan'], np.nan, inplace=True)\n",
    "def fill_column_with_median_value(df, column):\n",
    "    \"\"\"\n",
    "    fill numerical columns with median value\n",
    "    fill categorial columns with most common values\n",
    "    \"\"\"\n",
    "    if df[column].dtype=='float64':\n",
    "        median_value = combined[column][combined[column].notnull()].median()\n",
    "    elif df[column].dtype=='object':\n",
    "        median_value = combined[column][combined[column].notnull()].mode()[0]\n",
    "    else:\n",
    "        print('-- fuck --'* 40)\n",
    "    df[column] = df[column].fillna(median_value)\n",
    "def find_columns_with_na_values(df):\n",
    "    for column in df.columns:\n",
    "        if df.loc[df[column].isnull()].size>0:\n",
    "            yield column\n",
    "\n",
    "for dataset in combine:\n",
    "    dataset.drop(['Id', 'Alley', 'PoolQC', 'MiscFeature', 'Fence'], inplace=True, axis=1)\n",
    "    for column in find_columns_with_na_values(dataset):\n",
    "        fill_column_with_median_value(dataset, column)\n",
    "categorical_columns = list(filter(lambda col: train_df[col].dtype=='object', list(train_df.columns)))\n",
    "mapping = dict()\n",
    "# get the mapping between column labels to values\n",
    "for column in categorical_columns:\n",
    "    combined[column] = combined[column].astype('category')\n",
    "    mapping[column] = dict(zip(combined[column].cat.categories, np.linspace(0, 1, len(combined[column].cat.categories))))\n",
    "for dataset in combine:\n",
    "    dataset.replace(mapping, inplace=True)\n",
    "print(train_df.shape, test_df.shape)\n",
    "\n",
    "#outliners removal\n",
    "clf = IsolationForest(max_samples = 100, random_state = 42)\n",
    "clf.fit(train_df)\n",
    "y_noano = clf.predict(train_df)\n",
    "y_noano = pd.DataFrame(y_noano, columns = ['Top'])\n",
    "anomaly_indexes = y_noano[y_noano['Top'] == 1].index.values\n",
    "train_df = train_df.iloc[anomaly_indexes]\n",
    "train_df.reset_index(drop = True, inplace = True)\n",
    "print(y.shape)\n",
    "y = y.iloc[anomaly_indexes]\n",
    "print(\"Number of Outliers:\", y_noano[y_noano['Top'] == -1].shape[0])\n",
    "print(\"Number of rows without outliers:\", train_df.shape[0])\n",
    "\n",
    "combined = pd.concat([train_df, test_df])\n",
    "scaler = MinMaxScaler()\n",
    "scaler.fit(combined)\n",
    "train = scaler.transform(train_df)\n",
    "test = scaler.transform(test_df)\n",
    "scaler_price = MinMaxScaler()\n",
    "scaler_price.fit(y.as_matrix().reshape(-1, 1))\n",
    "Y = scaler_price.transform(y.as_matrix().reshape(-1, 1))\n",
    "print(train.shape, y.shape, test.shape)"
   ]
  },
  {
   "cell_type": "code",
   "execution_count": 5,
   "metadata": {
    "ExecuteTime": {
     "end_time": "2018-10-12T04:28:00.542296Z",
     "start_time": "2018-10-12T04:28:00.532118Z"
    }
   },
   "outputs": [
    {
     "data": {
      "text/plain": [
       "array([[0.23529412, 0.75      , 0.15068493, ..., 0.5       , 1.        ,\n",
       "        0.8       ],\n",
       "       [0.        , 0.75      , 0.20205479, ..., 0.25      , 1.        ,\n",
       "        0.8       ],\n",
       "       [0.23529412, 0.75      , 0.1609589 , ..., 0.5       , 1.        ,\n",
       "        0.8       ],\n",
       "       ...,\n",
       "       [0.29411765, 0.75      , 0.15410959, ..., 1.        , 1.        ,\n",
       "        0.8       ],\n",
       "       [0.        , 0.75      , 0.1609589 , ..., 1.        , 1.        ,\n",
       "        0.8       ],\n",
       "       [0.        , 0.75      , 0.18493151, ..., 0.5       , 1.        ,\n",
       "        0.8       ]])"
      ]
     },
     "execution_count": 5,
     "metadata": {},
     "output_type": "execute_result"
    }
   ],
   "source": [
    "train"
   ]
  },
  {
   "cell_type": "markdown",
   "metadata": {
    "ExecuteTime": {
     "end_time": "2018-10-10T07:31:39.818800Z",
     "start_time": "2018-10-10T07:31:39.813808Z"
    }
   },
   "source": [
    "## Define some helper functions for train/test split"
   ]
  },
  {
   "cell_type": "code",
   "execution_count": 13,
   "metadata": {
    "ExecuteTime": {
     "end_time": "2018-10-12T08:02:04.910798Z",
     "start_time": "2018-10-12T08:02:04.880439Z"
    }
   },
   "outputs": [],
   "source": [
    "seed = 2\n",
    "np.random.seed(seed)\n",
    "\n",
    "def train_test_score(model_fn, train, score_fn):\n",
    "    scores = []\n",
    "    kfold = KFold(n_splits=5, random_state=seed)\n",
    "    for train_index, test_index in kfold.split(train):\n",
    "        X_train, X_test = train[train_index], train[test_index]\n",
    "        y_train, y_test = Y[train_index], Y[test_index]\n",
    "        model = model_fn()\n",
    "        model.fit(X_train, pd.DataFrame(y_train).values)\n",
    "        y_val = model.predict(X_test)\n",
    "        score = score_fn(y_val, y_test)\n",
    "        print(f'score = {score}')\n",
    "        scores.append(score)\n",
    "    scores = np.array(scores)\n",
    "    print(f'resutls = {scores}')\n",
    "    print(\"Results: mean=%f (std=%f) MSE\" % (scores.mean(), scores.std()))\n",
    "    \n",
    "\n",
    "def predict_and_submit(model, test, file):\n",
    "    y_pred = model.predict(test)\n",
    "    Y_pred = scaler_price.inverse_transform(y_pred.reshape(-1, 1))\n",
    "    submission = pd.DataFrame({\n",
    "        \"Id\": test_ids,\n",
    "        \"SalePrice\": Y_pred.reshape(-1)\n",
    "    })\n",
    "    submission.to_csv(file, index=False)"
   ]
  },
  {
   "cell_type": "markdown",
   "metadata": {},
   "source": [
    "## Trying linear regression for baseline"
   ]
  },
  {
   "cell_type": "code",
   "execution_count": 165,
   "metadata": {
    "ExecuteTime": {
     "end_time": "2018-10-10T08:10:23.261587Z",
     "start_time": "2018-10-10T08:10:23.155728Z"
    }
   },
   "outputs": [
    {
     "name": "stdout",
     "output_type": "stream",
     "text": [
      "*** MSE for linear regression ***\n",
      "score = 0.0027758226523013586\n",
      "score = 0.002767285784978747\n",
      "score = 0.0032418077623584457\n",
      "score = 0.002143577820876677\n",
      "score = 0.0024576267509740343\n",
      "resutls = [0.00277582 0.00276729 0.00324181 0.00214358 0.00245763]\n",
      "Results: mean=0.002677 (std=0.000366) MSE\n",
      "*** R2 for linear regression ***\n",
      "score = 0.8809451538851626\n",
      "score = 0.8939858942778816\n",
      "score = 0.8424101796525642\n",
      "score = 0.8932513412116346\n",
      "score = 0.8870730281384227\n",
      "resutls = [0.88094515 0.89398589 0.84241018 0.89325134 0.88707303]\n",
      "Results: mean=0.879533 (std=0.019152) MSE\n"
     ]
    }
   ],
   "source": [
    "print(\"*** MSE for linear regression ***\")\n",
    "train_test_score(LinearRegression, train, mean_squared_error)\n",
    "print(\"*** R2 for linear regression ***\")\n",
    "train_test_score(LinearRegression, train, r2_score)"
   ]
  },
  {
   "cell_type": "code",
   "execution_count": 160,
   "metadata": {
    "ExecuteTime": {
     "end_time": "2018-10-10T08:05:30.417462Z",
     "start_time": "2018-10-10T08:05:30.395479Z"
    }
   },
   "outputs": [],
   "source": [
    "model = LinearRegression()\n",
    "model.fit(train, Y)\n",
    "predict_and_submit(model, test, \"house_price_result_linear_regression.csv\")"
   ]
  },
  {
   "cell_type": "code",
   "execution_count": 161,
   "metadata": {
    "ExecuteTime": {
     "end_time": "2018-10-10T08:06:13.032053Z",
     "start_time": "2018-10-10T08:06:08.848440Z"
    }
   },
   "outputs": [
    {
     "name": "stdout",
     "output_type": "stream",
     "text": [
      "Warning: Your Kaggle API key is readable by otherusers on this system! To fix this, you can run'chmod 600 /Users/kdang/.kaggle/kaggle.json'\n",
      "Successfully submitted to House Prices: Advanced Regression Techniques"
     ]
    }
   ],
   "source": [
    "! kaggle competitions submit house-prices-advanced-regression-techniques \\\n",
    "-f house_price_result_linear_regression.csv \\\n",
    "-m \"baseline model with linear regression, with outliers removal\""
   ]
  },
  {
   "cell_type": "markdown",
   "metadata": {},
   "source": [
    "## Try ada boosting"
   ]
  },
  {
   "cell_type": "code",
   "execution_count": 21,
   "metadata": {},
   "outputs": [
    {
     "name": "stdout",
     "output_type": "stream",
     "text": [
      "*** MSE for ada boosting ***\n"
     ]
    },
    {
     "name": "stderr",
     "output_type": "stream",
     "text": [
      "/home/akai/.pyenv/versions/3.6.6/lib/python3.6/site-packages/sklearn/utils/validation.py:752: DataConversionWarning: A column-vector y was passed when a 1d array was expected. Please change the shape of y to (n_samples, ), for example using ravel().\n",
      "  y = column_or_1d(y, warn=True)\n"
     ]
    },
    {
     "name": "stdout",
     "output_type": "stream",
     "text": [
      "score = 0.004824735568988369\n"
     ]
    },
    {
     "name": "stderr",
     "output_type": "stream",
     "text": [
      "/home/akai/.pyenv/versions/3.6.6/lib/python3.6/site-packages/sklearn/utils/validation.py:752: DataConversionWarning: A column-vector y was passed when a 1d array was expected. Please change the shape of y to (n_samples, ), for example using ravel().\n",
      "  y = column_or_1d(y, warn=True)\n"
     ]
    },
    {
     "name": "stdout",
     "output_type": "stream",
     "text": [
      "score = 0.0036598458495659732\n"
     ]
    },
    {
     "name": "stderr",
     "output_type": "stream",
     "text": [
      "/home/akai/.pyenv/versions/3.6.6/lib/python3.6/site-packages/sklearn/utils/validation.py:752: DataConversionWarning: A column-vector y was passed when a 1d array was expected. Please change the shape of y to (n_samples, ), for example using ravel().\n",
      "  y = column_or_1d(y, warn=True)\n"
     ]
    },
    {
     "name": "stdout",
     "output_type": "stream",
     "text": [
      "score = 0.00407988158415836\n"
     ]
    },
    {
     "name": "stderr",
     "output_type": "stream",
     "text": [
      "/home/akai/.pyenv/versions/3.6.6/lib/python3.6/site-packages/sklearn/utils/validation.py:752: DataConversionWarning: A column-vector y was passed when a 1d array was expected. Please change the shape of y to (n_samples, ), for example using ravel().\n",
      "  y = column_or_1d(y, warn=True)\n"
     ]
    },
    {
     "name": "stdout",
     "output_type": "stream",
     "text": [
      "score = 0.003542425731347917\n"
     ]
    },
    {
     "name": "stderr",
     "output_type": "stream",
     "text": [
      "/home/akai/.pyenv/versions/3.6.6/lib/python3.6/site-packages/sklearn/utils/validation.py:752: DataConversionWarning: A column-vector y was passed when a 1d array was expected. Please change the shape of y to (n_samples, ), for example using ravel().\n",
      "  y = column_or_1d(y, warn=True)\n"
     ]
    },
    {
     "name": "stdout",
     "output_type": "stream",
     "text": [
      "score = 0.004184629319185152\n",
      "resutls = [0.00482474 0.00365985 0.00407988 0.00354243 0.00418463]\n",
      "Results: mean=0.004058 (std=0.000454) MSE\n",
      "*** R2 for ada boosting ***\n"
     ]
    },
    {
     "name": "stderr",
     "output_type": "stream",
     "text": [
      "/home/akai/.pyenv/versions/3.6.6/lib/python3.6/site-packages/sklearn/utils/validation.py:752: DataConversionWarning: A column-vector y was passed when a 1d array was expected. Please change the shape of y to (n_samples, ), for example using ravel().\n",
      "  y = column_or_1d(y, warn=True)\n"
     ]
    },
    {
     "name": "stdout",
     "output_type": "stream",
     "text": [
      "score = 0.772559918263084\n"
     ]
    },
    {
     "name": "stderr",
     "output_type": "stream",
     "text": [
      "/home/akai/.pyenv/versions/3.6.6/lib/python3.6/site-packages/sklearn/utils/validation.py:752: DataConversionWarning: A column-vector y was passed when a 1d array was expected. Please change the shape of y to (n_samples, ), for example using ravel().\n",
      "  y = column_or_1d(y, warn=True)\n"
     ]
    },
    {
     "name": "stdout",
     "output_type": "stream",
     "text": [
      "score = 0.8435634766912727\n"
     ]
    },
    {
     "name": "stderr",
     "output_type": "stream",
     "text": [
      "/home/akai/.pyenv/versions/3.6.6/lib/python3.6/site-packages/sklearn/utils/validation.py:752: DataConversionWarning: A column-vector y was passed when a 1d array was expected. Please change the shape of y to (n_samples, ), for example using ravel().\n",
      "  y = column_or_1d(y, warn=True)\n"
     ]
    },
    {
     "name": "stdout",
     "output_type": "stream",
     "text": [
      "score = 0.7721314753506386\n"
     ]
    },
    {
     "name": "stderr",
     "output_type": "stream",
     "text": [
      "/home/akai/.pyenv/versions/3.6.6/lib/python3.6/site-packages/sklearn/utils/validation.py:752: DataConversionWarning: A column-vector y was passed when a 1d array was expected. Please change the shape of y to (n_samples, ), for example using ravel().\n",
      "  y = column_or_1d(y, warn=True)\n"
     ]
    },
    {
     "name": "stdout",
     "output_type": "stream",
     "text": [
      "score = 0.8048161043501605\n"
     ]
    },
    {
     "name": "stderr",
     "output_type": "stream",
     "text": [
      "/home/akai/.pyenv/versions/3.6.6/lib/python3.6/site-packages/sklearn/utils/validation.py:752: DataConversionWarning: A column-vector y was passed when a 1d array was expected. Please change the shape of y to (n_samples, ), for example using ravel().\n",
      "  y = column_or_1d(y, warn=True)\n"
     ]
    },
    {
     "name": "stdout",
     "output_type": "stream",
     "text": [
      "score = 0.8085485021133764\n",
      "resutls = [0.77255992 0.84356348 0.77213148 0.8048161  0.8085485 ]\n",
      "Results: mean=0.800324 (std=0.026545) MSE\n"
     ]
    }
   ],
   "source": [
    "print(\"*** MSE for ada boosting ***\")\n",
    "train_test_score(AdaBoostRegressor, train, mean_squared_error)\n",
    "print(\"*** R2 for ada boosting ***\")\n",
    "train_test_score(AdaBoostRegressor, train, r2_score)"
   ]
  },
  {
   "cell_type": "markdown",
   "metadata": {},
   "source": [
    "## Trying gradient boosting"
   ]
  },
  {
   "cell_type": "code",
   "execution_count": 164,
   "metadata": {
    "ExecuteTime": {
     "end_time": "2018-10-10T08:09:25.492037Z",
     "start_time": "2018-10-10T08:09:22.924192Z"
    }
   },
   "outputs": [
    {
     "name": "stdout",
     "output_type": "stream",
     "text": [
      "*** MSE for gradient boosting ***\n"
     ]
    },
    {
     "name": "stderr",
     "output_type": "stream",
     "text": [
      "/Users/kdang/.virtualenvs/tensorflow/lib/python3.6/site-packages/sklearn/utils/validation.py:547: DataConversionWarning: A column-vector y was passed when a 1d array was expected. Please change the shape of y to (n_samples, ), for example using ravel().\n",
      "  y = column_or_1d(y, warn=True)\n"
     ]
    },
    {
     "name": "stdout",
     "output_type": "stream",
     "text": [
      "score = 0.0023887628806859647\n",
      "score = 0.002486427836892487\n",
      "score = 0.0030261903454455613\n",
      "score = 0.0020544413476487233\n",
      "score = 0.002638807090846146\n",
      "resutls = [0.00238876 0.00248643 0.00302619 0.00205444 0.00263881]\n",
      "Results: mean=0.002519 (std=0.000318) MSE\n",
      "*** R2 for gradient boosting ***\n",
      "score = 0.8849611350033881\n",
      "score = 0.9044162253089043\n",
      "score = 0.8385856137917043\n",
      "score = 0.8901837726850189\n",
      "score = 0.8798484406721091\n",
      "resutls = [0.88496114 0.90441623 0.83858561 0.89018377 0.87984844]\n",
      "Results: mean=0.879599 (std=0.022085) MSE\n"
     ]
    }
   ],
   "source": [
    "print(\"*** MSE for gradient boosting ***\")\n",
    "train_test_score(GradientBoostingRegressor, train, mean_squared_error)\n",
    "print(\"*** R2 for gradient boosting ***\")\n",
    "train_test_score(GradientBoostingRegressor, train, r2_score)"
   ]
  },
  {
   "cell_type": "code",
   "execution_count": 162,
   "metadata": {
    "ExecuteTime": {
     "end_time": "2018-10-10T08:07:00.509808Z",
     "start_time": "2018-10-10T08:07:00.036179Z"
    }
   },
   "outputs": [
    {
     "name": "stderr",
     "output_type": "stream",
     "text": [
      "/Users/kdang/.virtualenvs/tensorflow/lib/python3.6/site-packages/sklearn/utils/validation.py:547: DataConversionWarning: A column-vector y was passed when a 1d array was expected. Please change the shape of y to (n_samples, ), for example using ravel().\n",
      "  y = column_or_1d(y, warn=True)\n"
     ]
    }
   ],
   "source": [
    "model = GradientBoostingRegressor()\n",
    "model.fit(train, Y)\n",
    "predict_and_submit(model, test, \"house_price_result_gradient_boosting.csv\")"
   ]
  },
  {
   "cell_type": "code",
   "execution_count": 163,
   "metadata": {
    "ExecuteTime": {
     "end_time": "2018-10-10T08:07:23.416161Z",
     "start_time": "2018-10-10T08:07:18.994459Z"
    }
   },
   "outputs": [
    {
     "name": "stdout",
     "output_type": "stream",
     "text": [
      "Warning: Your Kaggle API key is readable by otherusers on this system! To fix this, you can run'chmod 600 /Users/kdang/.kaggle/kaggle.json'\n",
      "Successfully submitted to House Prices: Advanced Regression Techniques"
     ]
    }
   ],
   "source": [
    "! kaggle competitions submit house-prices-advanced-regression-techniques \\\n",
    "-f house_price_result_gradient_boosting.csv \\\n",
    "-m \"baseline model with gradient boosting, with outliers removal\""
   ]
  },
  {
   "cell_type": "markdown",
   "metadata": {
    "ExecuteTime": {
     "end_time": "2018-10-10T07:27:32.929490Z",
     "start_time": "2018-10-10T07:27:32.909677Z"
    }
   },
   "source": [
    "## Trying neural network"
   ]
  },
  {
   "cell_type": "code",
   "execution_count": 5,
   "metadata": {},
   "outputs": [],
   "source": [
    "# define base model\n",
    "def baseline_model():\n",
    "    # create model\n",
    "    model = Sequential()\n",
    "    model.add(Dense(300, input_dim=75, kernel_initializer='normal', activation='relu'))\n",
    "    model.add(Dense(100, kernel_initializer='normal', activation='relu'))\n",
    "    model.add(Dense(50, kernel_initializer='normal', activation='relu'))\n",
    "    model.add(Dense(25, kernel_initializer='normal', activation='relu'))\n",
    "    model.add(Dense(12, kernel_initializer='normal', activation='relu'))\n",
    "    model.add(Dense(1, kernel_initializer='normal', activation='relu'))\n",
    "    opt_adam = keras.optimizers.Adam(lr=1e-4, beta_1=0.9, beta_2=0.999, epsilon=1e-08, decay=0.0)\n",
    "    model.compile(loss='mean_squared_error', optimizer=opt_adam)\n",
    "    return model"
   ]
  },
  {
   "cell_type": "code",
   "execution_count": 11,
   "metadata": {
    "ExecuteTime": {
     "end_time": "2018-10-10T09:20:23.302422Z",
     "start_time": "2018-10-10T09:16:04.863789Z"
    }
   },
   "outputs": [
    {
     "name": "stdout",
     "output_type": "stream",
     "text": [
      "score = 0.0019746695253117516, r2_score = 0.9125184332588069\n",
      "score = 0.0025880593310644955, r2_score = 0.9057861807929951\n",
      "score = 0.0027800442766520656, r2_score = 0.8635808607027969\n",
      "score = 0.0017574923639854863, r2_score = 0.9101783415123227\n",
      "score = 0.0021945715464610975, r2_score = 0.9015304835088473\n",
      "resutls = [0.00197467 0.00258806 0.00278004 0.00175749 0.00219457], r2 results = [0.91251843 0.90578618 0.86358086 0.91017834 0.90153048]\n",
      "Results for mse: 0.002259 (0.000378)\n",
      "Results for r2_score: 0.898719 (0.017968)\n"
     ]
    }
   ],
   "source": [
    "seed = 2\n",
    "np.random.seed(seed)\n",
    "scores = []\n",
    "r2_scores = []\n",
    "kfold = KFold(n_splits=5, random_state=seed)\n",
    "for train_index, test_index in kfold.split(train):\n",
    "    X_train, X_test = train[train_index], train[test_index]\n",
    "    y_train, y_test = Y[train_index], Y[test_index]\n",
    "    model = baseline_model()\n",
    "    model.fit(X_train, y_train, epochs=150, verbose=0)\n",
    "    y_val = model.predict(X_test)\n",
    "    score = mean_squared_error(y_val, y_test)\n",
    "    r2_sc = r2_score(y_val, y_test)\n",
    "    print(f'score = {score}, r2_score = {r2_sc}')\n",
    "    scores.append(score)\n",
    "    r2_scores.append(r2_sc)\n",
    "scores = np.array(scores)\n",
    "r2_scores = np.array(r2_scores)\n",
    "print(f'resutls = {scores}, r2 results = {r2_scores}')\n",
    "print(\"Results for mse: %f (%f)\" % (scores.mean(), scores.std()))\n",
    "print(\"Results for r2_score: %f (%f)\" % (r2_scores.mean(), r2_scores.std()))"
   ]
  },
  {
   "cell_type": "code",
   "execution_count": 12,
   "metadata": {
    "ExecuteTime": {
     "end_time": "2018-10-10T09:04:35.796209Z",
     "start_time": "2018-10-10T09:03:39.010416Z"
    }
   },
   "outputs": [
    {
     "name": "stdout",
     "output_type": "stream",
     "text": [
      "Epoch 1/150\n",
      "1314/1314 [==============================] - 2s 1ms/step - loss: 0.1299\n",
      "Epoch 2/150\n",
      "1314/1314 [==============================] - 0s 140us/step - loss: 0.1062\n",
      "Epoch 3/150\n",
      "1314/1314 [==============================] - 0s 142us/step - loss: 0.0392\n",
      "Epoch 4/150\n",
      "1314/1314 [==============================] - 0s 142us/step - loss: 0.0220\n",
      "Epoch 5/150\n",
      "1314/1314 [==============================] - 0s 142us/step - loss: 0.0201\n",
      "Epoch 6/150\n",
      "1314/1314 [==============================] - 0s 142us/step - loss: 0.0176\n",
      "Epoch 7/150\n",
      "1314/1314 [==============================] - 0s 141us/step - loss: 0.0145\n",
      "Epoch 8/150\n",
      "1314/1314 [==============================] - 0s 142us/step - loss: 0.0110\n",
      "Epoch 9/150\n",
      "1314/1314 [==============================] - 0s 143us/step - loss: 0.0077\n",
      "Epoch 10/150\n",
      "1314/1314 [==============================] - 0s 141us/step - loss: 0.0058\n",
      "Epoch 11/150\n",
      "1314/1314 [==============================] - 0s 141us/step - loss: 0.0052\n",
      "Epoch 12/150\n",
      "1314/1314 [==============================] - 0s 141us/step - loss: 0.0047\n",
      "Epoch 13/150\n",
      "1314/1314 [==============================] - 0s 140us/step - loss: 0.0043\n",
      "Epoch 14/150\n",
      "1314/1314 [==============================] - 0s 144us/step - loss: 0.0040\n",
      "Epoch 15/150\n",
      "1314/1314 [==============================] - 0s 141us/step - loss: 0.0037\n",
      "Epoch 16/150\n",
      "1314/1314 [==============================] - 0s 146us/step - loss: 0.0035\n",
      "Epoch 17/150\n",
      "1314/1314 [==============================] - 0s 141us/step - loss: 0.0034\n",
      "Epoch 18/150\n",
      "1314/1314 [==============================] - 0s 143us/step - loss: 0.0032\n",
      "Epoch 19/150\n",
      "1314/1314 [==============================] - 0s 143us/step - loss: 0.0031\n",
      "Epoch 20/150\n",
      "1314/1314 [==============================] - 0s 140us/step - loss: 0.0031\n",
      "Epoch 21/150\n",
      "1314/1314 [==============================] - 0s 141us/step - loss: 0.0029\n",
      "Epoch 22/150\n",
      "1314/1314 [==============================] - 0s 143us/step - loss: 0.0028\n",
      "Epoch 23/150\n",
      "1314/1314 [==============================] - 0s 142us/step - loss: 0.0028\n",
      "Epoch 24/150\n",
      "1314/1314 [==============================] - 0s 142us/step - loss: 0.0029\n",
      "Epoch 25/150\n",
      "1314/1314 [==============================] - 0s 144us/step - loss: 0.0027\n",
      "Epoch 26/150\n",
      "1314/1314 [==============================] - 0s 141us/step - loss: 0.0029\n",
      "Epoch 27/150\n",
      "1314/1314 [==============================] - 0s 140us/step - loss: 0.0027\n",
      "Epoch 28/150\n",
      "1314/1314 [==============================] - 0s 140us/step - loss: 0.0027\n",
      "Epoch 29/150\n",
      "1314/1314 [==============================] - 0s 139us/step - loss: 0.0031\n",
      "Epoch 30/150\n",
      "1314/1314 [==============================] - 0s 140us/step - loss: 0.0026\n",
      "Epoch 31/150\n",
      "1314/1314 [==============================] - 0s 141us/step - loss: 0.0025\n",
      "Epoch 32/150\n",
      "1314/1314 [==============================] - 0s 141us/step - loss: 0.0030\n",
      "Epoch 33/150\n",
      "1314/1314 [==============================] - 0s 139us/step - loss: 0.0026\n",
      "Epoch 34/150\n",
      "1314/1314 [==============================] - 0s 141us/step - loss: 0.0025\n",
      "Epoch 35/150\n",
      "1314/1314 [==============================] - 0s 141us/step - loss: 0.0024\n",
      "Epoch 36/150\n",
      "1314/1314 [==============================] - 0s 143us/step - loss: 0.0029\n",
      "Epoch 37/150\n",
      "1314/1314 [==============================] - 0s 141us/step - loss: 0.0024\n",
      "Epoch 38/150\n",
      "1314/1314 [==============================] - 0s 143us/step - loss: 0.0024\n",
      "Epoch 39/150\n",
      "1314/1314 [==============================] - 0s 144us/step - loss: 0.0025\n",
      "Epoch 40/150\n",
      "1314/1314 [==============================] - 0s 139us/step - loss: 0.0024\n",
      "Epoch 41/150\n",
      "1314/1314 [==============================] - 0s 141us/step - loss: 0.0023\n",
      "Epoch 42/150\n",
      "1314/1314 [==============================] - 0s 133us/step - loss: 0.0024\n",
      "Epoch 43/150\n",
      "1314/1314 [==============================] - 0s 143us/step - loss: 0.0023\n",
      "Epoch 44/150\n",
      "1314/1314 [==============================] - 0s 142us/step - loss: 0.0023\n",
      "Epoch 45/150\n",
      "1314/1314 [==============================] - 0s 140us/step - loss: 0.0023\n",
      "Epoch 46/150\n",
      "1314/1314 [==============================] - 0s 142us/step - loss: 0.0023\n",
      "Epoch 47/150\n",
      "1314/1314 [==============================] - 0s 141us/step - loss: 0.0022\n",
      "Epoch 48/150\n",
      "1314/1314 [==============================] - 0s 141us/step - loss: 0.0022\n",
      "Epoch 49/150\n",
      "1314/1314 [==============================] - 0s 140us/step - loss: 0.0022\n",
      "Epoch 50/150\n",
      "1314/1314 [==============================] - 0s 143us/step - loss: 0.0022\n",
      "Epoch 51/150\n",
      "1314/1314 [==============================] - 0s 141us/step - loss: 0.0022\n",
      "Epoch 52/150\n",
      "1314/1314 [==============================] - 0s 142us/step - loss: 0.0022\n",
      "Epoch 53/150\n",
      "1314/1314 [==============================] - 0s 143us/step - loss: 0.0022\n",
      "Epoch 54/150\n",
      "1314/1314 [==============================] - 0s 141us/step - loss: 0.0021\n",
      "Epoch 55/150\n",
      "1314/1314 [==============================] - 0s 144us/step - loss: 0.0021\n",
      "Epoch 56/150\n",
      "1314/1314 [==============================] - 0s 141us/step - loss: 0.0021\n",
      "Epoch 57/150\n",
      "1314/1314 [==============================] - 0s 140us/step - loss: 0.0021\n",
      "Epoch 58/150\n",
      "1314/1314 [==============================] - 0s 141us/step - loss: 0.0021\n",
      "Epoch 59/150\n",
      "1314/1314 [==============================] - 0s 141us/step - loss: 0.0020\n",
      "Epoch 60/150\n",
      "1314/1314 [==============================] - 0s 143us/step - loss: 0.0020\n",
      "Epoch 61/150\n",
      "1314/1314 [==============================] - 0s 141us/step - loss: 0.0020\n",
      "Epoch 62/150\n",
      "1314/1314 [==============================] - 0s 142us/step - loss: 0.0020\n",
      "Epoch 63/150\n",
      "1314/1314 [==============================] - 0s 141us/step - loss: 0.0020\n",
      "Epoch 64/150\n",
      "1314/1314 [==============================] - 0s 139us/step - loss: 0.0021\n",
      "Epoch 65/150\n",
      "1314/1314 [==============================] - 0s 141us/step - loss: 0.0019\n",
      "Epoch 66/150\n",
      "1314/1314 [==============================] - 0s 141us/step - loss: 0.0022\n",
      "Epoch 67/150\n",
      "1314/1314 [==============================] - 0s 144us/step - loss: 0.0020\n",
      "Epoch 68/150\n",
      "1314/1314 [==============================] - 0s 142us/step - loss: 0.0019\n",
      "Epoch 69/150\n",
      "1314/1314 [==============================] - 0s 140us/step - loss: 0.0019\n",
      "Epoch 70/150\n",
      "1314/1314 [==============================] - 0s 140us/step - loss: 0.0019\n",
      "Epoch 71/150\n",
      "1314/1314 [==============================] - 0s 140us/step - loss: 0.0021\n",
      "Epoch 72/150\n",
      "1314/1314 [==============================] - 0s 141us/step - loss: 0.0021\n",
      "Epoch 73/150\n",
      "1314/1314 [==============================] - 0s 137us/step - loss: 0.0018\n",
      "Epoch 74/150\n",
      "1314/1314 [==============================] - 0s 139us/step - loss: 0.0019\n",
      "Epoch 75/150\n",
      "1314/1314 [==============================] - 0s 141us/step - loss: 0.0018\n",
      "Epoch 76/150\n",
      "1314/1314 [==============================] - 0s 142us/step - loss: 0.0018\n",
      "Epoch 77/150\n",
      "1314/1314 [==============================] - 0s 139us/step - loss: 0.0019\n",
      "Epoch 78/150\n",
      "1314/1314 [==============================] - 0s 143us/step - loss: 0.0018\n",
      "Epoch 79/150\n",
      "1314/1314 [==============================] - 0s 141us/step - loss: 0.0018\n",
      "Epoch 80/150\n",
      "1314/1314 [==============================] - 0s 142us/step - loss: 0.0017\n",
      "Epoch 81/150\n",
      "1314/1314 [==============================] - 0s 142us/step - loss: 0.0017\n",
      "Epoch 82/150\n",
      "1314/1314 [==============================] - 0s 143us/step - loss: 0.0017\n",
      "Epoch 83/150\n",
      "1314/1314 [==============================] - 0s 142us/step - loss: 0.0017\n",
      "Epoch 84/150\n",
      "1314/1314 [==============================] - 0s 139us/step - loss: 0.0019\n",
      "Epoch 85/150\n",
      "1314/1314 [==============================] - 0s 141us/step - loss: 0.0017\n",
      "Epoch 86/150\n",
      "1314/1314 [==============================] - 0s 141us/step - loss: 0.0017\n",
      "Epoch 87/150\n",
      "1314/1314 [==============================] - 0s 139us/step - loss: 0.0017\n",
      "Epoch 88/150\n",
      "1314/1314 [==============================] - 0s 141us/step - loss: 0.0017\n",
      "Epoch 89/150\n",
      "1314/1314 [==============================] - 0s 142us/step - loss: 0.0016\n",
      "Epoch 90/150\n",
      "1314/1314 [==============================] - 0s 143us/step - loss: 0.0017\n",
      "Epoch 91/150\n",
      "1314/1314 [==============================] - 0s 142us/step - loss: 0.0017\n",
      "Epoch 92/150\n",
      "1314/1314 [==============================] - 0s 138us/step - loss: 0.0016\n",
      "Epoch 93/150\n",
      "1314/1314 [==============================] - 0s 143us/step - loss: 0.0016\n",
      "Epoch 94/150\n",
      "1314/1314 [==============================] - 0s 142us/step - loss: 0.0016\n",
      "Epoch 95/150\n",
      "1314/1314 [==============================] - 0s 141us/step - loss: 0.0016\n",
      "Epoch 96/150\n",
      "1314/1314 [==============================] - 0s 141us/step - loss: 0.0017\n",
      "Epoch 97/150\n",
      "1314/1314 [==============================] - 0s 142us/step - loss: 0.0016\n",
      "Epoch 98/150\n",
      "1314/1314 [==============================] - 0s 140us/step - loss: 0.0016\n",
      "Epoch 99/150\n",
      "1314/1314 [==============================] - 0s 142us/step - loss: 0.0015\n",
      "Epoch 100/150\n",
      "1314/1314 [==============================] - 0s 143us/step - loss: 0.0017\n",
      "Epoch 101/150\n",
      "1314/1314 [==============================] - 0s 140us/step - loss: 0.0017\n",
      "Epoch 102/150\n",
      "1314/1314 [==============================] - 0s 140us/step - loss: 0.0017\n",
      "Epoch 103/150\n",
      "1314/1314 [==============================] - 0s 141us/step - loss: 0.0015\n",
      "Epoch 104/150\n",
      "1314/1314 [==============================] - 0s 141us/step - loss: 0.0015\n",
      "Epoch 105/150\n",
      "1314/1314 [==============================] - 0s 140us/step - loss: 0.0016\n",
      "Epoch 106/150\n",
      "1314/1314 [==============================] - 0s 139us/step - loss: 0.0015\n",
      "Epoch 107/150\n",
      "1314/1314 [==============================] - 0s 140us/step - loss: 0.0015\n",
      "Epoch 108/150\n",
      "1314/1314 [==============================] - 0s 140us/step - loss: 0.0015\n",
      "Epoch 109/150\n",
      "1314/1314 [==============================] - 0s 142us/step - loss: 0.0018\n",
      "Epoch 110/150\n",
      "1314/1314 [==============================] - 0s 142us/step - loss: 0.0015\n",
      "Epoch 111/150\n",
      "1314/1314 [==============================] - 0s 141us/step - loss: 0.0014\n",
      "Epoch 112/150\n",
      "1314/1314 [==============================] - 0s 141us/step - loss: 0.0015\n",
      "Epoch 113/150\n",
      "1314/1314 [==============================] - 0s 142us/step - loss: 0.0014\n",
      "Epoch 114/150\n",
      "1314/1314 [==============================] - 0s 141us/step - loss: 0.0014\n",
      "Epoch 115/150\n",
      "1314/1314 [==============================] - 0s 140us/step - loss: 0.0015\n",
      "Epoch 116/150\n",
      "1314/1314 [==============================] - 0s 141us/step - loss: 0.0014\n",
      "Epoch 117/150\n",
      "1314/1314 [==============================] - 0s 143us/step - loss: 0.0014\n",
      "Epoch 118/150\n",
      "1314/1314 [==============================] - 0s 141us/step - loss: 0.0014\n",
      "Epoch 119/150\n",
      "1314/1314 [==============================] - 0s 142us/step - loss: 0.0014\n",
      "Epoch 120/150\n",
      "1314/1314 [==============================] - 0s 140us/step - loss: 0.0014\n",
      "Epoch 121/150\n",
      "1314/1314 [==============================] - 0s 142us/step - loss: 0.0014\n",
      "Epoch 122/150\n",
      "1314/1314 [==============================] - 0s 144us/step - loss: 0.0014\n",
      "Epoch 123/150\n",
      "1314/1314 [==============================] - 0s 141us/step - loss: 0.0014\n",
      "Epoch 124/150\n",
      "1314/1314 [==============================] - 0s 140us/step - loss: 0.0014\n",
      "Epoch 125/150\n",
      "1314/1314 [==============================] - 0s 140us/step - loss: 0.0014\n",
      "Epoch 126/150\n",
      "1314/1314 [==============================] - 0s 143us/step - loss: 0.0014\n",
      "Epoch 127/150\n",
      "1314/1314 [==============================] - 0s 140us/step - loss: 0.0014\n",
      "Epoch 128/150\n",
      "1314/1314 [==============================] - 0s 141us/step - loss: 0.0014\n",
      "Epoch 129/150\n",
      "1314/1314 [==============================] - 0s 141us/step - loss: 0.0014\n",
      "Epoch 130/150\n",
      "1314/1314 [==============================] - 0s 144us/step - loss: 0.0014\n",
      "Epoch 131/150\n",
      "1314/1314 [==============================] - 0s 140us/step - loss: 0.0014\n",
      "Epoch 132/150\n",
      "1314/1314 [==============================] - 0s 142us/step - loss: 0.0014\n",
      "Epoch 133/150\n",
      "1314/1314 [==============================] - 0s 139us/step - loss: 0.0014\n",
      "Epoch 134/150\n",
      "1314/1314 [==============================] - 0s 140us/step - loss: 0.0013\n",
      "Epoch 135/150\n",
      "1314/1314 [==============================] - 0s 143us/step - loss: 0.0013\n",
      "Epoch 136/150\n",
      "1314/1314 [==============================] - 0s 141us/step - loss: 0.0013\n",
      "Epoch 137/150\n",
      "1314/1314 [==============================] - 0s 141us/step - loss: 0.0013\n",
      "Epoch 138/150\n",
      "1314/1314 [==============================] - 0s 140us/step - loss: 0.0013\n",
      "Epoch 139/150\n",
      "1314/1314 [==============================] - 0s 142us/step - loss: 0.0013\n",
      "Epoch 140/150\n",
      "1314/1314 [==============================] - 0s 141us/step - loss: 0.0013\n",
      "Epoch 141/150\n",
      "1314/1314 [==============================] - 0s 142us/step - loss: 0.0013\n",
      "Epoch 142/150\n",
      "1314/1314 [==============================] - 0s 143us/step - loss: 0.0012\n",
      "Epoch 143/150\n",
      "1314/1314 [==============================] - 0s 143us/step - loss: 0.0013\n",
      "Epoch 144/150\n",
      "1314/1314 [==============================] - 0s 138us/step - loss: 0.0021\n",
      "Epoch 145/150\n",
      "1314/1314 [==============================] - 0s 141us/step - loss: 0.0013\n",
      "Epoch 146/150\n",
      "1314/1314 [==============================] - 0s 139us/step - loss: 0.0013\n",
      "Epoch 147/150\n",
      "1314/1314 [==============================] - 0s 141us/step - loss: 0.0013\n",
      "Epoch 148/150\n",
      "1314/1314 [==============================] - 0s 142us/step - loss: 0.0012\n",
      "Epoch 149/150\n",
      "1314/1314 [==============================] - 0s 141us/step - loss: 0.0012\n",
      "Epoch 150/150\n",
      "1314/1314 [==============================] - 0s 142us/step - loss: 0.0013\n"
     ]
    },
    {
     "data": {
      "text/plain": [
       "<keras.callbacks.History at 0x7f53f3db4b00>"
      ]
     },
     "execution_count": 12,
     "metadata": {},
     "output_type": "execute_result"
    }
   ],
   "source": [
    "model = baseline_model()\n",
    "model.fit(train, Y, epochs=150, verbose=1)"
   ]
  },
  {
   "cell_type": "code",
   "execution_count": 13,
   "metadata": {
    "ExecuteTime": {
     "end_time": "2018-10-10T09:04:47.068845Z",
     "start_time": "2018-10-10T09:04:44.473712Z"
    }
   },
   "outputs": [],
   "source": [
    "predict_and_submit(model, test, \"house_price_result_neural_network_fix_outliners_bug_300_100_50_25_12.csv\")"
   ]
  },
  {
   "cell_type": "code",
   "execution_count": 14,
   "metadata": {
    "ExecuteTime": {
     "end_time": "2018-10-10T09:05:47.309001Z",
     "start_time": "2018-10-10T09:05:38.157058Z"
    }
   },
   "outputs": [
    {
     "name": "stdout",
     "output_type": "stream",
     "text": [
      "Successfully submitted to House Prices: Advanced Regression Techniques"
     ]
    }
   ],
   "source": [
    "! kaggle competitions submit house-prices-advanced-regression-techniques \\\n",
    "-f house_price_result_neural_network_fix_outliners_bug_300_100_50_25_12.csv \\\n",
    "-m \"baseline model with neural network. fixed error with outliners. increase the size of network to [300, 100, 50, 25, 12]\""
   ]
  },
  {
   "cell_type": "code",
   "execution_count": 114,
   "metadata": {
    "ExecuteTime": {
     "end_time": "2018-10-10T06:43:50.264950Z",
     "start_time": "2018-10-10T06:43:49.846792Z"
    }
   },
   "outputs": [
    {
     "data": {
      "text/plain": [
       "<matplotlib.axes._subplots.AxesSubplot at 0x154c1b630>"
      ]
     },
     "execution_count": 114,
     "metadata": {},
     "output_type": "execute_result"
    },
    {
     "data": {
      "image/png": "[encoded data removed]",
      "text/plain": [
       "<matplotlib.figure.Figure at 0x1525e2160>"
      ]
     },
     "metadata": {},
     "output_type": "display_data"
    }
   ],
   "source": [
    "sns.distplot(Y_pred)"
   ]
  },
  {
   "cell_type": "code",
   "execution_count": 115,
   "metadata": {
    "ExecuteTime": {
     "end_time": "2018-10-10T06:43:57.076688Z",
     "start_time": "2018-10-10T06:43:57.047421Z"
    }
   },
   "outputs": [],
   "source": [
    "submission = pd.DataFrame({\n",
    "    \"Id\": test_ids,\n",
    "    \"SalePrice\": Y_pred.reshape(-1)\n",
    "})\n",
    "submission.to_csv('house_price_result_neural_network_150_epochs.csv', index=False)"
   ]
  },
  {
   "cell_type": "code",
   "execution_count": 116,
   "metadata": {
    "ExecuteTime": {
     "end_time": "2018-10-10T06:44:07.096522Z",
     "start_time": "2018-10-10T06:44:03.000226Z"
    }
   },
   "outputs": [
    {
     "name": "stdout",
     "output_type": "stream",
     "text": [
      "Warning: Your Kaggle API key is readable by otherusers on this system! To fix this, you can run'chmod 600 /Users/kdang/.kaggle/kaggle.json'\n",
      "Successfully submitted to House Prices: Advanced Regression Techniques"
     ]
    }
   ],
   "source": [
    "! kaggle competitions submit house-prices-advanced-regression-techniques -f house_price_result_neural_network_150_epochs.csv \\\n",
    "-m \"baseline model with neural network with new way of kfold, trained for 150 epochs\""
   ]
  },
  {
   "cell_type": "markdown",
   "metadata": {},
   "source": [
    "## Helper function to predict and submit"
   ]
  },
  {
   "cell_type": "code",
   "execution_count": 16,
   "metadata": {
    "ExecuteTime": {
     "end_time": "2018-10-05T04:28:15.207257Z",
     "start_time": "2018-10-05T04:28:10.514926Z"
    }
   },
   "outputs": [
    {
     "name": "stderr",
     "output_type": "stream",
     "text": [
      "[Parallel(n_jobs=2)]: Using backend LokyBackend with 2 concurrent workers.\n",
      "[Parallel(n_jobs=2)]: Done   5 out of   5 | elapsed:    0.8s finished\n"
     ]
    },
    {
     "name": "stdout",
     "output_type": "stream",
     "text": [
      "before reduced shape (1314, 75) (1459, 75)\n",
      "** before reduced = [0.89849869 0.91947981 0.87346748 0.89820189 0.88767288]\n",
      "reduced shape (1314, 11) (1459, 11)\n"
     ]
    },
    {
     "name": "stderr",
     "output_type": "stream",
     "text": [
      "[Parallel(n_jobs=2)]: Using backend LokyBackend with 2 concurrent workers.\n",
      "[Parallel(n_jobs=2)]: Done   5 out of   5 | elapsed:    0.2s finished\n"
     ]
    },
    {
     "name": "stdout",
     "output_type": "stream",
     "text": [
      "** after reduced = [0.87095754 0.89134374 0.86579094 0.88582932 0.87499281]\n"
     ]
    },
    {
     "data": {
      "image/png": "[encoded data removed]",
      "text/plain": [
       "<Figure size 1800x1800 with 1 Axes>"
      ]
     },
     "metadata": {
      "needs_background": "light"
     },
     "output_type": "display_data"
    }
   ],
   "source": [
    "cv = cross_val_score(GradientBoostingRegressor(), train_df, y, cv=cross_validation_folds, n_jobs=n_jobs, verbose=1)\n",
    "print(f\"before reduced shape\", train_df.shape, test_df.shape)\n",
    "print(f\"** before reduced = {cv}\")\n",
    "rdf = GradientBoostingRegressor()\n",
    "rdf.fit(train_df, y)\n",
    "features = pd.DataFrame()\n",
    "features['feature'] = train_df.columns\n",
    "features['importance'] = rdf.feature_importances_\n",
    "features.sort_values(by=['importance'], ascending=True, inplace=True)\n",
    "features.set_index('feature', inplace=True)\n",
    "features.plot(kind='barh', figsize=(25, 25))\n",
    "model = SelectFromModel(rdf, prefit=True)\n",
    "train_reduced = model.transform(train_df)\n",
    "test_reduced = model.transform(test_df)\n",
    "print(\"reduced shape\", train_reduced.shape, test_reduced.shape)\n",
    "cv = cross_val_score(GradientBoostingRegressor(), train_reduced, y, cv=cross_validation_folds, n_jobs=n_jobs, verbose=1)\n",
    "print(f\"** after reduced = {cv}\")"
   ]
  }
 ],
 "metadata": {
  "kernelspec": {
   "display_name": "Python 3",
   "language": "python",
   "name": "python3"
  },
  "language_info": {
   "codemirror_mode": {
    "name": "ipython",
    "version": 3
   },
   "file_extension": ".py",
   "mimetype": "text/x-python",
   "name": "python",
   "nbconvert_exporter": "python",
   "pygments_lexer": "ipython3",
   "version": "3.6.6"
  }
 },
 "nbformat": 4,
 "nbformat_minor": 2
}
