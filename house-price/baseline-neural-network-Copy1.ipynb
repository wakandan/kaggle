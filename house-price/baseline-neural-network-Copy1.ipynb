{
 "cells": [
  {
   "cell_type": "code",
   "execution_count": 130,
   "metadata": {
    "ExecuteTime": {
     "end_time": "2018-10-10T07:15:38.978128Z",
     "start_time": "2018-10-10T07:15:38.948202Z"
    }
   },
   "outputs": [],
   "source": [
    "import pandas as pd\n",
    "from sklearn.ensemble import RandomForestRegressor, GradientBoostingRegressor\n",
    "from sklearn.linear_model import LinearRegression\n",
    "from sklearn.model_selection import cross_val_score\n",
    "import seaborn as sns\n",
    "import numpy as np\n",
    "from sklearn.feature_selection import SelectFromModel\n",
    "import keras\n",
    "from keras.models import Sequential\n",
    "from keras.layers import Dense, BatchNormalization\n",
    "from keras.wrappers.scikit_learn import KerasRegressor\n",
    "from sklearn.model_selection import cross_val_score\n",
    "from sklearn.model_selection import KFold\n",
    "from sklearn.preprocessing import StandardScaler\n",
    "from sklearn.pipeline import Pipeline\n",
    "from sklearn.preprocessing import MinMaxScaler\n",
    "from sklearn.model_selection import KFold\n",
    "from sklearn.metrics import mean_squared_error, r2_score\n",
    "from sklearn.ensemble import IsolationForest"
   ]
  },
  {
   "cell_type": "code",
   "execution_count": 2,
   "metadata": {
    "ExecuteTime": {
     "end_time": "2018-10-10T03:07:12.027255Z",
     "start_time": "2018-10-10T03:07:11.866013Z"
    }
   },
   "outputs": [
    {
     "name": "stdout",
     "output_type": "stream",
     "text": [
      "**************************************** train\n",
      "<class 'pandas.core.frame.DataFrame'>\n",
      "RangeIndex: 1460 entries, 0 to 1459\n",
      "Data columns (total 81 columns):\n",
      "Id               1460 non-null int64\n",
      "MSSubClass       1460 non-null int64\n",
      "MSZoning         1460 non-null object\n",
      "LotFrontage      1201 non-null float64\n",
      "LotArea          1460 non-null int64\n",
      "Street           1460 non-null object\n",
      "Alley            91 non-null object\n",
      "LotShape         1460 non-null object\n",
      "LandContour      1460 non-null object\n",
      "Utilities        1460 non-null object\n",
      "LotConfig        1460 non-null object\n",
      "LandSlope        1460 non-null object\n",
      "Neighborhood     1460 non-null object\n",
      "Condition1       1460 non-null object\n",
      "Condition2       1460 non-null object\n",
      "BldgType         1460 non-null object\n",
      "HouseStyle       1460 non-null object\n",
      "OverallQual      1460 non-null int64\n",
      "OverallCond      1460 non-null int64\n",
      "YearBuilt        1460 non-null int64\n",
      "YearRemodAdd     1460 non-null int64\n",
      "RoofStyle        1460 non-null object\n",
      "RoofMatl         1460 non-null object\n",
      "Exterior1st      1460 non-null object\n",
      "Exterior2nd      1460 non-null object\n",
      "MasVnrType       1452 non-null object\n",
      "MasVnrArea       1452 non-null float64\n",
      "ExterQual        1460 non-null object\n",
      "ExterCond        1460 non-null object\n",
      "Foundation       1460 non-null object\n",
      "BsmtQual         1423 non-null object\n",
      "BsmtCond         1423 non-null object\n",
      "BsmtExposure     1422 non-null object\n",
      "BsmtFinType1     1423 non-null object\n",
      "BsmtFinSF1       1460 non-null int64\n",
      "BsmtFinType2     1422 non-null object\n",
      "BsmtFinSF2       1460 non-null int64\n",
      "BsmtUnfSF        1460 non-null int64\n",
      "TotalBsmtSF      1460 non-null int64\n",
      "Heating          1460 non-null object\n",
      "HeatingQC        1460 non-null object\n",
      "CentralAir       1460 non-null object\n",
      "Electrical       1459 non-null object\n",
      "1stFlrSF         1460 non-null int64\n",
      "2ndFlrSF         1460 non-null int64\n",
      "LowQualFinSF     1460 non-null int64\n",
      "GrLivArea        1460 non-null int64\n",
      "BsmtFullBath     1460 non-null int64\n",
      "BsmtHalfBath     1460 non-null int64\n",
      "FullBath         1460 non-null int64\n",
      "HalfBath         1460 non-null int64\n",
      "BedroomAbvGr     1460 non-null int64\n",
      "KitchenAbvGr     1460 non-null int64\n",
      "KitchenQual      1460 non-null object\n",
      "TotRmsAbvGrd     1460 non-null int64\n",
      "Functional       1460 non-null object\n",
      "Fireplaces       1460 non-null int64\n",
      "FireplaceQu      770 non-null object\n",
      "GarageType       1379 non-null object\n",
      "GarageYrBlt      1379 non-null float64\n",
      "GarageFinish     1379 non-null object\n",
      "GarageCars       1460 non-null int64\n",
      "GarageArea       1460 non-null int64\n",
      "GarageQual       1379 non-null object\n",
      "GarageCond       1379 non-null object\n",
      "PavedDrive       1460 non-null object\n",
      "WoodDeckSF       1460 non-null int64\n",
      "OpenPorchSF      1460 non-null int64\n",
      "EnclosedPorch    1460 non-null int64\n",
      "3SsnPorch        1460 non-null int64\n",
      "ScreenPorch      1460 non-null int64\n",
      "PoolArea         1460 non-null int64\n",
      "PoolQC           7 non-null object\n",
      "Fence            281 non-null object\n",
      "MiscFeature      54 non-null object\n",
      "MiscVal          1460 non-null int64\n",
      "MoSold           1460 non-null int64\n",
      "YrSold           1460 non-null int64\n",
      "SaleType         1460 non-null object\n",
      "SaleCondition    1460 non-null object\n",
      "SalePrice        1460 non-null int64\n",
      "dtypes: float64(3), int64(35), object(43)\n",
      "memory usage: 924.0+ KB\n",
      "None\n",
      "**************************************** test\n",
      "<class 'pandas.core.frame.DataFrame'>\n",
      "RangeIndex: 1459 entries, 0 to 1458\n",
      "Data columns (total 80 columns):\n",
      "Id               1459 non-null int64\n",
      "MSSubClass       1459 non-null int64\n",
      "MSZoning         1455 non-null object\n",
      "LotFrontage      1232 non-null float64\n",
      "LotArea          1459 non-null int64\n",
      "Street           1459 non-null object\n",
      "Alley            107 non-null object\n",
      "LotShape         1459 non-null object\n",
      "LandContour      1459 non-null object\n",
      "Utilities        1457 non-null object\n",
      "LotConfig        1459 non-null object\n",
      "LandSlope        1459 non-null object\n",
      "Neighborhood     1459 non-null object\n",
      "Condition1       1459 non-null object\n",
      "Condition2       1459 non-null object\n",
      "BldgType         1459 non-null object\n",
      "HouseStyle       1459 non-null object\n",
      "OverallQual      1459 non-null int64\n",
      "OverallCond      1459 non-null int64\n",
      "YearBuilt        1459 non-null int64\n",
      "YearRemodAdd     1459 non-null int64\n",
      "RoofStyle        1459 non-null object\n",
      "RoofMatl         1459 non-null object\n",
      "Exterior1st      1458 non-null object\n",
      "Exterior2nd      1458 non-null object\n",
      "MasVnrType       1443 non-null object\n",
      "MasVnrArea       1444 non-null float64\n",
      "ExterQual        1459 non-null object\n",
      "ExterCond        1459 non-null object\n",
      "Foundation       1459 non-null object\n",
      "BsmtQual         1415 non-null object\n",
      "BsmtCond         1414 non-null object\n",
      "BsmtExposure     1415 non-null object\n",
      "BsmtFinType1     1417 non-null object\n",
      "BsmtFinSF1       1458 non-null float64\n",
      "BsmtFinType2     1417 non-null object\n",
      "BsmtFinSF2       1458 non-null float64\n",
      "BsmtUnfSF        1458 non-null float64\n",
      "TotalBsmtSF      1458 non-null float64\n",
      "Heating          1459 non-null object\n",
      "HeatingQC        1459 non-null object\n",
      "CentralAir       1459 non-null object\n",
      "Electrical       1459 non-null object\n",
      "1stFlrSF         1459 non-null int64\n",
      "2ndFlrSF         1459 non-null int64\n",
      "LowQualFinSF     1459 non-null int64\n",
      "GrLivArea        1459 non-null int64\n",
      "BsmtFullBath     1457 non-null float64\n",
      "BsmtHalfBath     1457 non-null float64\n",
      "FullBath         1459 non-null int64\n",
      "HalfBath         1459 non-null int64\n",
      "BedroomAbvGr     1459 non-null int64\n",
      "KitchenAbvGr     1459 non-null int64\n",
      "KitchenQual      1458 non-null object\n",
      "TotRmsAbvGrd     1459 non-null int64\n",
      "Functional       1457 non-null object\n",
      "Fireplaces       1459 non-null int64\n",
      "FireplaceQu      729 non-null object\n",
      "GarageType       1383 non-null object\n",
      "GarageYrBlt      1381 non-null float64\n",
      "GarageFinish     1381 non-null object\n",
      "GarageCars       1458 non-null float64\n",
      "GarageArea       1458 non-null float64\n",
      "GarageQual       1381 non-null object\n",
      "GarageCond       1381 non-null object\n",
      "PavedDrive       1459 non-null object\n",
      "WoodDeckSF       1459 non-null int64\n",
      "OpenPorchSF      1459 non-null int64\n",
      "EnclosedPorch    1459 non-null int64\n",
      "3SsnPorch        1459 non-null int64\n",
      "ScreenPorch      1459 non-null int64\n",
      "PoolArea         1459 non-null int64\n",
      "PoolQC           3 non-null object\n",
      "Fence            290 non-null object\n",
      "MiscFeature      51 non-null object\n",
      "MiscVal          1459 non-null int64\n",
      "MoSold           1459 non-null int64\n",
      "YrSold           1459 non-null int64\n",
      "SaleType         1458 non-null object\n",
      "SaleCondition    1459 non-null object\n",
      "dtypes: float64(11), int64(26), object(43)\n",
      "memory usage: 912.0+ KB\n",
      "None\n"
     ]
    }
   ],
   "source": [
    "random_state=42\n",
    "cross_validation_folds = 5\n",
    "n_jobs = 2\n",
    "train_df = pd.read_csv('./train.csv')\n",
    "test_df = pd.read_csv('./test.csv')\n",
    "print('*'*40, \"train\")\n",
    "print(train_df.info())\n",
    "print('*'*40, 'test')\n",
    "print(test_df.info())"
   ]
  },
  {
   "cell_type": "code",
   "execution_count": 158,
   "metadata": {
    "ExecuteTime": {
     "end_time": "2018-10-10T08:04:59.741065Z",
     "start_time": "2018-10-10T08:04:58.585905Z"
    }
   },
   "outputs": [
    {
     "name": "stdout",
     "output_type": "stream",
     "text": [
      "(1460, 75) (1459, 75)\n",
      "(1460,)\n",
      "Number of Outliers: 146\n",
      "Number of rows without outliers: 1314\n",
      "(1314, 75) (1314,) (1459, 75)\n"
     ]
    },
    {
     "name": "stderr",
     "output_type": "stream",
     "text": [
      "/Users/kdang/.virtualenvs/tensorflow/lib/python3.6/site-packages/sklearn/utils/validation.py:444: DataConversionWarning: Data with input dtype int64 was converted to float64 by MinMaxScaler.\n",
      "  warnings.warn(msg, DataConversionWarning)\n"
     ]
    }
   ],
   "source": [
    "random_state=42\n",
    "cross_validation_folds = 5\n",
    "n_jobs = 2\n",
    "train_df = pd.read_csv('./train.csv')\n",
    "test_df = pd.read_csv('./test.csv')\n",
    "test_ids = test_df.Id\n",
    "y = train_df.SalePrice\n",
    "train_df.drop(['SalePrice'], inplace=True, axis=1)\n",
    "combine = [train_df, test_df]\n",
    "combined = pd.concat([train_df, test_df])\n",
    "train_df.replace(['NaN', 'NA', 'nan'], np.nan, inplace=True)\n",
    "test_df.replace(['NaN', 'NA', 'nan'], np.nan, inplace=True)\n",
    "def fill_column_with_median_value(df, column):\n",
    "    \"\"\"\n",
    "    fill numerical columns with median value\n",
    "    fill categorial columns with most common values\n",
    "    \"\"\"\n",
    "    if df[column].dtype=='float64':\n",
    "        median_value = combined[column][combined[column].notnull()].median()\n",
    "    elif df[column].dtype=='object':\n",
    "        median_value = combined[column][combined[column].notnull()].mode()[0]\n",
    "    else:\n",
    "        print('-- fuck --'* 40)\n",
    "    df[column] = df[column].fillna(median_value)\n",
    "def find_columns_with_na_values(df):\n",
    "    for column in df.columns:\n",
    "        if df.loc[df[column].isnull()].size>0:\n",
    "            yield column\n",
    "\n",
    "#finding good data\n",
    "# empty_columns = []\n",
    "# print(\"*** analyze train columns ***\")\n",
    "# for column in find_columns_with_na_values(train_df):\n",
    "#     percent_empty = train_df.loc[train_df[column].isnull()].size * 100.0 / train_df.size\n",
    "#     if percent_empty > 80:\n",
    "#         empty_columns.append(column)\n",
    "#     print(f\"column = {column}, % empty value = {percent_empty}\")\n",
    "\n",
    "# print(f'all empty columns for train = {empty_columns}')\n",
    "# empty_columns = []\n",
    "# print(\"*** analyze test columns ***\")\n",
    "# for column in find_columns_with_na_values(test_df):\n",
    "#     percent_empty = train_df.loc[train_df[column].isnull()].size * 100.0 / train_df.size\n",
    "#     if percent_empty > 80:\n",
    "#         empty_columns.append(column)\n",
    "#     print(f\"column = {column}, % empty value = {percent_empty}\")\n",
    "# print(f'all empty columns for test = {empty_columns}')\n",
    "\n",
    "for dataset in combine:\n",
    "    dataset.drop(['Id', 'Alley', 'PoolQC', 'MiscFeature', 'Fence'], inplace=True, axis=1)\n",
    "    for column in find_columns_with_na_values(dataset):\n",
    "        fill_column_with_median_value(dataset, column)\n",
    "categorical_columns = list(filter(lambda col: train_df[col].dtype=='object', list(train_df.columns)))\n",
    "mapping = dict()\n",
    "# get the mapping between column labels to values\n",
    "for column in categorical_columns:\n",
    "    combined[column] = combined[column].astype('category')\n",
    "    mapping[column] = dict(zip(combined[column].cat.categories, np.linspace(0, 1, len(combined[column].cat.categories))))\n",
    "for dataset in combine:\n",
    "    dataset.replace(mapping, inplace=True)\n",
    "print(train_df.shape, test_df.shape)\n",
    "\n",
    "#outliners removal\n",
    "clf = IsolationForest(max_samples = 100, random_state = 42)\n",
    "clf.fit(train_df)\n",
    "y_noano = clf.predict(train_df)\n",
    "y_noano = pd.DataFrame(y_noano, columns = ['Top'])\n",
    "anomaly_indexes = y_noano[y_noano['Top'] == 1].index.values\n",
    "train_df = train_df.iloc[anomaly_indexes]\n",
    "train_df.reset_index(drop = True, inplace = True)\n",
    "print(y.shape)\n",
    "y = y.iloc[anomaly_indexes]\n",
    "print(\"Number of Outliers:\", y_noano[y_noano['Top'] == -1].shape[0])\n",
    "print(\"Number of rows without outliers:\", train_df.shape[0])\n",
    "\n",
    "combined = pd.concat([train_df, test_df])\n",
    "scaler = MinMaxScaler()\n",
    "scaler.fit(combined)\n",
    "train = scaler.transform(train_df)\n",
    "test = scaler.transform(test_df)\n",
    "scaler_price = MinMaxScaler()\n",
    "scaler_price.fit(y.as_matrix().reshape(-1, 1))\n",
    "Y = scaler_price.transform(y.as_matrix().reshape(-1, 1))\n",
    "print(train.shape, y.shape, test.shape)"
   ]
  },
  {
   "cell_type": "code",
   "execution_count": 48,
   "metadata": {
    "ExecuteTime": {
     "end_time": "2018-10-10T03:58:10.969803Z",
     "start_time": "2018-10-10T03:58:10.937222Z"
    }
   },
   "outputs": [
    {
     "data": {
      "text/plain": [
       "array([[0.23529412, 0.75      , 0.15068493, ..., 0.5       , 1.        ,\n",
       "        0.8       ],\n",
       "       [0.        , 0.75      , 0.20205479, ..., 0.25      , 1.        ,\n",
       "        0.8       ],\n",
       "       [0.23529412, 0.75      , 0.1609589 , ..., 0.5       , 1.        ,\n",
       "        0.8       ],\n",
       "       ...,\n",
       "       [0.29411765, 0.75      , 0.15410959, ..., 1.        , 1.        ,\n",
       "        0.8       ],\n",
       "       [0.        , 0.75      , 0.1609589 , ..., 1.        , 1.        ,\n",
       "        0.8       ],\n",
       "       [0.        , 0.75      , 0.18493151, ..., 0.5       , 1.        ,\n",
       "        0.8       ]])"
      ]
     },
     "execution_count": 48,
     "metadata": {},
     "output_type": "execute_result"
    }
   ],
   "source": [
    "train"
   ]
  },
  {
   "cell_type": "markdown",
   "metadata": {
    "ExecuteTime": {
     "end_time": "2018-10-10T07:31:39.818800Z",
     "start_time": "2018-10-10T07:31:39.813808Z"
    }
   },
   "source": [
    "## Define some helper functions for train/test split"
   ]
  },
  {
   "cell_type": "code",
   "execution_count": 149,
   "metadata": {
    "ExecuteTime": {
     "end_time": "2018-10-10T07:40:58.718892Z",
     "start_time": "2018-10-10T07:40:58.670712Z"
    }
   },
   "outputs": [],
   "source": [
    "seed = 2\n",
    "np.random.seed(seed)\n",
    "\n",
    "def train_test_score(model_fn, train, score_fn):\n",
    "    scores = []\n",
    "    kfold = KFold(n_splits=5, random_state=seed)\n",
    "    for train_index, test_index in kfold.split(train):\n",
    "        X_train, X_test = train[train_index], train[test_index]\n",
    "        y_train, y_test = Y[train_index], Y[test_index]\n",
    "        model = model_fn()\n",
    "        model.fit(X_train, y_train)\n",
    "        y_val = model.predict(X_test)\n",
    "        score = score_fn(y_val, y_test)\n",
    "        print(f'score = {score}')\n",
    "        scores.append(score)\n",
    "    scores = np.array(scores)\n",
    "    print(f'resutls = {scores}')\n",
    "    print(\"Results: mean=%f (std=%f) MSE\" % (scores.mean(), scores.std()))\n",
    "    \n",
    "\n",
    "def predict_and_submit(model, test, file):\n",
    "    y_pred = model.predict(test)\n",
    "    Y_pred = scaler_price.inverse_transform(y_pred.reshape(-1, 1))\n",
    "    submission = pd.DataFrame({\n",
    "        \"Id\": test_ids,\n",
    "        \"SalePrice\": Y_pred.reshape(-1)\n",
    "    })\n",
    "    submission.to_csv(file, index=False)"
   ]
  },
  {
   "cell_type": "markdown",
   "metadata": {},
   "source": [
    "## Trying linear regression for baseline"
   ]
  },
  {
   "cell_type": "code",
   "execution_count": 165,
   "metadata": {
    "ExecuteTime": {
     "end_time": "2018-10-10T08:10:23.261587Z",
     "start_time": "2018-10-10T08:10:23.155728Z"
    }
   },
   "outputs": [
    {
     "name": "stdout",
     "output_type": "stream",
     "text": [
      "*** MSE for linear regression ***\n",
      "score = 0.0027758226523013586\n",
      "score = 0.002767285784978747\n",
      "score = 0.0032418077623584457\n",
      "score = 0.002143577820876677\n",
      "score = 0.0024576267509740343\n",
      "resutls = [0.00277582 0.00276729 0.00324181 0.00214358 0.00245763]\n",
      "Results: mean=0.002677 (std=0.000366) MSE\n",
      "*** R2 for linear regression ***\n",
      "score = 0.8809451538851626\n",
      "score = 0.8939858942778816\n",
      "score = 0.8424101796525642\n",
      "score = 0.8932513412116346\n",
      "score = 0.8870730281384227\n",
      "resutls = [0.88094515 0.89398589 0.84241018 0.89325134 0.88707303]\n",
      "Results: mean=0.879533 (std=0.019152) MSE\n"
     ]
    }
   ],
   "source": [
    "print(\"*** MSE for linear regression ***\")\n",
    "train_test_score(LinearRegression, train, mean_squared_error)\n",
    "print(\"*** R2 for linear regression ***\")\n",
    "train_test_score(LinearRegression, train, r2_score)"
   ]
  },
  {
   "cell_type": "code",
   "execution_count": 160,
   "metadata": {
    "ExecuteTime": {
     "end_time": "2018-10-10T08:05:30.417462Z",
     "start_time": "2018-10-10T08:05:30.395479Z"
    }
   },
   "outputs": [],
   "source": [
    "model = LinearRegression()\n",
    "model.fit(train, Y)\n",
    "predict_and_submit(model, test, \"house_price_result_linear_regression.csv\")"
   ]
  },
  {
   "cell_type": "code",
   "execution_count": 161,
   "metadata": {
    "ExecuteTime": {
     "end_time": "2018-10-10T08:06:13.032053Z",
     "start_time": "2018-10-10T08:06:08.848440Z"
    }
   },
   "outputs": [
    {
     "name": "stdout",
     "output_type": "stream",
     "text": [
      "Warning: Your Kaggle API key is readable by otherusers on this system! To fix this, you can run'chmod 600 /Users/kdang/.kaggle/kaggle.json'\n",
      "Successfully submitted to House Prices: Advanced Regression Techniques"
     ]
    }
   ],
   "source": [
    "! kaggle competitions submit house-prices-advanced-regression-techniques \\\n",
    "-f house_price_result_linear_regression.csv \\\n",
    "-m \"baseline model with linear regression, with outliers removal\""
   ]
  },
  {
   "cell_type": "markdown",
   "metadata": {},
   "source": [
    "## Trying gradient boosting"
   ]
  },
  {
   "cell_type": "code",
   "execution_count": 164,
   "metadata": {
    "ExecuteTime": {
     "end_time": "2018-10-10T08:09:25.492037Z",
     "start_time": "2018-10-10T08:09:22.924192Z"
    }
   },
   "outputs": [
    {
     "name": "stdout",
     "output_type": "stream",
     "text": [
      "*** MSE for gradient boosting ***\n"
     ]
    },
    {
     "name": "stderr",
     "output_type": "stream",
     "text": [
      "/Users/kdang/.virtualenvs/tensorflow/lib/python3.6/site-packages/sklearn/utils/validation.py:547: DataConversionWarning: A column-vector y was passed when a 1d array was expected. Please change the shape of y to (n_samples, ), for example using ravel().\n",
      "  y = column_or_1d(y, warn=True)\n"
     ]
    },
    {
     "name": "stdout",
     "output_type": "stream",
     "text": [
      "score = 0.0023887628806859647\n",
      "score = 0.002486427836892487\n",
      "score = 0.0030261903454455613\n",
      "score = 0.0020544413476487233\n",
      "score = 0.002638807090846146\n",
      "resutls = [0.00238876 0.00248643 0.00302619 0.00205444 0.00263881]\n",
      "Results: mean=0.002519 (std=0.000318) MSE\n",
      "*** R2 for gradient boosting ***\n",
      "score = 0.8849611350033881\n",
      "score = 0.9044162253089043\n",
      "score = 0.8385856137917043\n",
      "score = 0.8901837726850189\n",
      "score = 0.8798484406721091\n",
      "resutls = [0.88496114 0.90441623 0.83858561 0.89018377 0.87984844]\n",
      "Results: mean=0.879599 (std=0.022085) MSE\n"
     ]
    }
   ],
   "source": [
    "print(\"*** MSE for gradient boosting ***\")\n",
    "train_test_score(GradientBoostingRegressor, train, mean_squared_error)\n",
    "print(\"*** R2 for gradient boosting ***\")\n",
    "train_test_score(GradientBoostingRegressor, train, r2_score)"
   ]
  },
  {
   "cell_type": "code",
   "execution_count": 162,
   "metadata": {
    "ExecuteTime": {
     "end_time": "2018-10-10T08:07:00.509808Z",
     "start_time": "2018-10-10T08:07:00.036179Z"
    }
   },
   "outputs": [
    {
     "name": "stderr",
     "output_type": "stream",
     "text": [
      "/Users/kdang/.virtualenvs/tensorflow/lib/python3.6/site-packages/sklearn/utils/validation.py:547: DataConversionWarning: A column-vector y was passed when a 1d array was expected. Please change the shape of y to (n_samples, ), for example using ravel().\n",
      "  y = column_or_1d(y, warn=True)\n"
     ]
    }
   ],
   "source": [
    "model = GradientBoostingRegressor()\n",
    "model.fit(train, Y)\n",
    "predict_and_submit(model, test, \"house_price_result_gradient_boosting.csv\")"
   ]
  },
  {
   "cell_type": "code",
   "execution_count": 163,
   "metadata": {
    "ExecuteTime": {
     "end_time": "2018-10-10T08:07:23.416161Z",
     "start_time": "2018-10-10T08:07:18.994459Z"
    }
   },
   "outputs": [
    {
     "name": "stdout",
     "output_type": "stream",
     "text": [
      "Warning: Your Kaggle API key is readable by otherusers on this system! To fix this, you can run'chmod 600 /Users/kdang/.kaggle/kaggle.json'\n",
      "Successfully submitted to House Prices: Advanced Regression Techniques"
     ]
    }
   ],
   "source": [
    "! kaggle competitions submit house-prices-advanced-regression-techniques \\\n",
    "-f house_price_result_gradient_boosting.csv \\\n",
    "-m \"baseline model with gradient boosting, with outliers removal\""
   ]
  },
  {
   "cell_type": "markdown",
   "metadata": {
    "ExecuteTime": {
     "end_time": "2018-10-10T07:27:32.929490Z",
     "start_time": "2018-10-10T07:27:32.909677Z"
    }
   },
   "source": [
    "## Trying neural network"
   ]
  },
  {
   "cell_type": "code",
   "execution_count": 187,
   "metadata": {
    "ExecuteTime": {
     "end_time": "2018-10-10T09:20:23.302422Z",
     "start_time": "2018-10-10T09:16:04.863789Z"
    }
   },
   "outputs": [
    {
     "name": "stdout",
     "output_type": "stream",
     "text": [
      "score = 0.0020034605703264153, r2_score = 0.9119408779862501\n",
      "score = 0.0024272806622708063, r2_score = 0.9140818507231183\n",
      "score = 0.002779601338704989, r2_score = 0.8605955212816977\n",
      "score = 0.0018279765789179505, r2_score = 0.9056500760104182\n",
      "score = 0.002299635006777903, r2_score = 0.8984459323199826\n",
      "resutls = [0.00200346 0.00242728 0.0027796  0.00182798 0.00229964], r2 results = [0.91194088 0.91408185 0.86059552 0.90565008 0.89844593]\n",
      "Results for mse: 0.002268 (0.000332)\n",
      "Results for r2_score: 0.898143 (0.019548)\n"
     ]
    }
   ],
   "source": [
    "# define base model\n",
    "def baseline_model():\n",
    "    # create model\n",
    "    model = Sequential()\n",
    "    model.add(Dense(300, input_dim=75, kernel_initializer='normal', activation='relu'))\n",
    "    model.add(Dense(50, kernel_initializer='normal', activation='relu'))\n",
    "    model.add(Dense(25, kernel_initializer='normal', activation='relu'))\n",
    "    model.add(Dense(12, kernel_initializer='normal', activation='relu'))\n",
    "    model.add(Dense(1, kernel_initializer='normal', activation='relu'))\n",
    "    opt_adam = keras.optimizers.Adam(lr=1e-4, beta_1=0.9, beta_2=0.999, epsilon=1e-08, decay=0.0)\n",
    "    model.compile(loss='mean_squared_error', optimizer=opt_adam)\n",
    "    return model\n",
    "seed = 2\n",
    "np.random.seed(seed)\n",
    "scores = []\n",
    "r2_scores = []\n",
    "kfold = KFold(n_splits=5, random_state=seed)\n",
    "for train_index, test_index in kfold.split(train):\n",
    "    X_train, X_test = train[train_index], train[test_index]\n",
    "    y_train, y_test = Y[train_index], Y[test_index]\n",
    "    model = baseline_model()\n",
    "    model.fit(X_train, y_train, epochs=150, verbose=0)\n",
    "    y_val = model.predict(X_test)\n",
    "    score = mean_squared_error(y_val, y_test)\n",
    "    r2_sc = r2_score(y_val, y_test)\n",
    "    print(f'score = {score}, r2_score = {r2_sc}')\n",
    "    scores.append(score)\n",
    "    r2_scores.append(r2_sc)\n",
    "scores = np.array(scores)\n",
    "r2_scores = np.array(r2_scores)\n",
    "print(f'resutls = {scores}, r2 results = {r2_scores}')\n",
    "print(\"Results for mse: %f (%f)\" % (scores.mean(), scores.std()))\n",
    "print(\"Results for r2_score: %f (%f)\" % (r2_scores.mean(), r2_scores.std()))"
   ]
  },
  {
   "cell_type": "code",
   "execution_count": 180,
   "metadata": {
    "ExecuteTime": {
     "end_time": "2018-10-10T09:04:35.796209Z",
     "start_time": "2018-10-10T09:03:39.010416Z"
    }
   },
   "outputs": [
    {
     "name": "stdout",
     "output_type": "stream",
     "text": [
      "Epoch 1/150\n",
      "1314/1314 [==============================] - 6s 5ms/step - loss: 0.1241\n",
      "Epoch 2/150\n",
      "1314/1314 [==============================] - 0s 259us/step - loss: 0.0836\n",
      "Epoch 3/150\n",
      "1314/1314 [==============================] - 0s 260us/step - loss: 0.0281\n",
      "Epoch 4/150\n",
      "1314/1314 [==============================] - 0s 262us/step - loss: 0.0216\n",
      "Epoch 5/150\n",
      "1314/1314 [==============================] - 0s 256us/step - loss: 0.0195\n",
      "Epoch 6/150\n",
      "1314/1314 [==============================] - 0s 259us/step - loss: 0.0167\n",
      "Epoch 7/150\n",
      "1314/1314 [==============================] - 0s 258us/step - loss: 0.0137\n",
      "Epoch 8/150\n",
      "1314/1314 [==============================] - 0s 257us/step - loss: 0.0107\n",
      "Epoch 9/150\n",
      "1314/1314 [==============================] - 0s 266us/step - loss: 0.0081\n",
      "Epoch 10/150\n",
      "1314/1314 [==============================] - 0s 266us/step - loss: 0.0064\n",
      "Epoch 11/150\n",
      "1314/1314 [==============================] - 0s 256us/step - loss: 0.0055\n",
      "Epoch 12/150\n",
      "1314/1314 [==============================] - 0s 262us/step - loss: 0.0052\n",
      "Epoch 13/150\n",
      "1314/1314 [==============================] - 0s 253us/step - loss: 0.0047\n",
      "Epoch 14/150\n",
      "1314/1314 [==============================] - 0s 239us/step - loss: 0.0044\n",
      "Epoch 15/150\n",
      "1314/1314 [==============================] - 0s 232us/step - loss: 0.0041\n",
      "Epoch 16/150\n",
      "1314/1314 [==============================] - 0s 215us/step - loss: 0.0039\n",
      "Epoch 17/150\n",
      "1314/1314 [==============================] - 0s 244us/step - loss: 0.0037\n",
      "Epoch 18/150\n",
      "1314/1314 [==============================] - 0s 270us/step - loss: 0.0035\n",
      "Epoch 19/150\n",
      "1314/1314 [==============================] - 0s 301us/step - loss: 0.0033\n",
      "Epoch 20/150\n",
      "1314/1314 [==============================] - 0s 270us/step - loss: 0.0032\n",
      "Epoch 21/150\n",
      "1314/1314 [==============================] - 0s 254us/step - loss: 0.0031\n",
      "Epoch 22/150\n",
      "1314/1314 [==============================] - 0s 271us/step - loss: 0.0030\n",
      "Epoch 23/150\n",
      "1314/1314 [==============================] - 0s 266us/step - loss: 0.0029\n",
      "Epoch 24/150\n",
      "1314/1314 [==============================] - 0s 264us/step - loss: 0.0029\n",
      "Epoch 25/150\n",
      "1314/1314 [==============================] - 0s 255us/step - loss: 0.0028\n",
      "Epoch 26/150\n",
      "1314/1314 [==============================] - 0s 254us/step - loss: 0.0028\n",
      "Epoch 27/150\n",
      "1314/1314 [==============================] - 0s 257us/step - loss: 0.0028\n",
      "Epoch 28/150\n",
      "1314/1314 [==============================] - 0s 259us/step - loss: 0.0027\n",
      "Epoch 29/150\n",
      "1314/1314 [==============================] - 0s 267us/step - loss: 0.0026\n",
      "Epoch 30/150\n",
      "1314/1314 [==============================] - 0s 262us/step - loss: 0.0026\n",
      "Epoch 31/150\n",
      "1314/1314 [==============================] - 0s 261us/step - loss: 0.0026\n",
      "Epoch 32/150\n",
      "1314/1314 [==============================] - 0s 259us/step - loss: 0.0025\n",
      "Epoch 33/150\n",
      "1314/1314 [==============================] - 0s 259us/step - loss: 0.0027\n",
      "Epoch 34/150\n",
      "1314/1314 [==============================] - 0s 257us/step - loss: 0.0026\n",
      "Epoch 35/150\n",
      "1314/1314 [==============================] - 0s 262us/step - loss: 0.0025\n",
      "Epoch 36/150\n",
      "1314/1314 [==============================] - 0s 265us/step - loss: 0.0024\n",
      "Epoch 37/150\n",
      "1314/1314 [==============================] - 0s 268us/step - loss: 0.0024\n",
      "Epoch 38/150\n",
      "1314/1314 [==============================] - 0s 223us/step - loss: 0.0024\n",
      "Epoch 39/150\n",
      "1314/1314 [==============================] - 0s 225us/step - loss: 0.0024\n",
      "Epoch 40/150\n",
      "1314/1314 [==============================] - 0s 226us/step - loss: 0.0024\n",
      "Epoch 41/150\n",
      "1314/1314 [==============================] - 0s 253us/step - loss: 0.0024\n",
      "Epoch 42/150\n",
      "1314/1314 [==============================] - 0s 268us/step - loss: 0.0024\n",
      "Epoch 43/150\n",
      "1314/1314 [==============================] - 0s 267us/step - loss: 0.0023\n",
      "Epoch 44/150\n",
      "1314/1314 [==============================] - 0s 261us/step - loss: 0.0023\n",
      "Epoch 45/150\n",
      "1314/1314 [==============================] - 0s 265us/step - loss: 0.0023\n",
      "Epoch 46/150\n",
      "1314/1314 [==============================] - 0s 261us/step - loss: 0.0023\n",
      "Epoch 47/150\n",
      "1314/1314 [==============================] - 0s 275us/step - loss: 0.0022\n",
      "Epoch 48/150\n",
      "1314/1314 [==============================] - 0s 255us/step - loss: 0.0022\n",
      "Epoch 49/150\n",
      "1314/1314 [==============================] - 0s 255us/step - loss: 0.0022\n",
      "Epoch 50/150\n",
      "1314/1314 [==============================] - 0s 266us/step - loss: 0.0022\n",
      "Epoch 51/150\n",
      "1314/1314 [==============================] - 0s 292us/step - loss: 0.0022\n",
      "Epoch 52/150\n",
      "1314/1314 [==============================] - 0s 278us/step - loss: 0.0022\n",
      "Epoch 53/150\n",
      "1314/1314 [==============================] - 0s 281us/step - loss: 0.0021\n",
      "Epoch 54/150\n",
      "1314/1314 [==============================] - 0s 264us/step - loss: 0.0022\n",
      "Epoch 55/150\n",
      "1314/1314 [==============================] - 0s 255us/step - loss: 0.0021\n",
      "Epoch 56/150\n",
      "1314/1314 [==============================] - 0s 272us/step - loss: 0.0021\n",
      "Epoch 57/150\n",
      "1314/1314 [==============================] - 0s 237us/step - loss: 0.0021\n",
      "Epoch 58/150\n",
      "1314/1314 [==============================] - 0s 238us/step - loss: 0.0020\n",
      "Epoch 59/150\n",
      "1314/1314 [==============================] - 0s 240us/step - loss: 0.0020\n",
      "Epoch 60/150\n",
      "1314/1314 [==============================] - 0s 243us/step - loss: 0.0020\n",
      "Epoch 61/150\n",
      "1314/1314 [==============================] - 0s 260us/step - loss: 0.0020\n",
      "Epoch 62/150\n",
      "1314/1314 [==============================] - 0s 270us/step - loss: 0.0020\n",
      "Epoch 63/150\n",
      "1314/1314 [==============================] - 0s 274us/step - loss: 0.0021\n",
      "Epoch 64/150\n",
      "1314/1314 [==============================] - 0s 267us/step - loss: 0.0020\n",
      "Epoch 65/150\n",
      "1314/1314 [==============================] - 0s 266us/step - loss: 0.0020\n",
      "Epoch 66/150\n",
      "1314/1314 [==============================] - 0s 278us/step - loss: 0.0019\n",
      "Epoch 67/150\n",
      "1314/1314 [==============================] - 0s 267us/step - loss: 0.0019\n",
      "Epoch 68/150\n",
      "1314/1314 [==============================] - 0s 287us/step - loss: 0.0019\n",
      "Epoch 69/150\n",
      "1314/1314 [==============================] - 0s 305us/step - loss: 0.0019\n",
      "Epoch 70/150\n",
      "1314/1314 [==============================] - 0s 256us/step - loss: 0.0019\n",
      "Epoch 71/150\n",
      "1314/1314 [==============================] - 0s 263us/step - loss: 0.0019\n",
      "Epoch 72/150\n",
      "1314/1314 [==============================] - 0s 258us/step - loss: 0.0019\n",
      "Epoch 73/150\n",
      "1314/1314 [==============================] - 0s 264us/step - loss: 0.0019\n",
      "Epoch 74/150\n",
      "1314/1314 [==============================] - 0s 273us/step - loss: 0.0020\n",
      "Epoch 75/150\n",
      "1314/1314 [==============================] - 0s 262us/step - loss: 0.0019\n",
      "Epoch 76/150\n",
      "1314/1314 [==============================] - 0s 273us/step - loss: 0.0018\n",
      "Epoch 77/150\n",
      "1314/1314 [==============================] - 0s 289us/step - loss: 0.0018\n",
      "Epoch 78/150\n",
      "1314/1314 [==============================] - 0s 269us/step - loss: 0.0019\n",
      "Epoch 79/150\n",
      "1314/1314 [==============================] - 0s 282us/step - loss: 0.0019\n",
      "Epoch 80/150\n",
      "1314/1314 [==============================] - 0s 267us/step - loss: 0.0018\n",
      "Epoch 81/150\n",
      "1314/1314 [==============================] - 0s 246us/step - loss: 0.0018\n",
      "Epoch 82/150\n",
      "1314/1314 [==============================] - 0s 281us/step - loss: 0.0017\n",
      "Epoch 83/150\n",
      "1314/1314 [==============================] - 0s 270us/step - loss: 0.0017\n",
      "Epoch 84/150\n",
      "1314/1314 [==============================] - 0s 276us/step - loss: 0.0018\n",
      "Epoch 85/150\n",
      "1314/1314 [==============================] - 0s 269us/step - loss: 0.0017\n",
      "Epoch 86/150\n",
      "1314/1314 [==============================] - 0s 256us/step - loss: 0.0017\n",
      "Epoch 87/150\n",
      "1314/1314 [==============================] - 0s 260us/step - loss: 0.0017\n",
      "Epoch 88/150\n",
      "1314/1314 [==============================] - 0s 284us/step - loss: 0.0017\n",
      "Epoch 89/150\n",
      "1314/1314 [==============================] - 0s 321us/step - loss: 0.0017\n",
      "Epoch 90/150\n",
      "1314/1314 [==============================] - 0s 279us/step - loss: 0.0017\n",
      "Epoch 91/150\n",
      "1314/1314 [==============================] - 0s 261us/step - loss: 0.0017\n",
      "Epoch 92/150\n",
      "1314/1314 [==============================] - 0s 254us/step - loss: 0.0017\n",
      "Epoch 93/150\n",
      "1314/1314 [==============================] - 0s 259us/step - loss: 0.0017\n",
      "Epoch 94/150\n",
      "1314/1314 [==============================] - 0s 262us/step - loss: 0.0017\n",
      "Epoch 95/150\n"
     ]
    },
    {
     "name": "stdout",
     "output_type": "stream",
     "text": [
      "1314/1314 [==============================] - 0s 244us/step - loss: 0.0016\n",
      "Epoch 96/150\n",
      "1314/1314 [==============================] - 0s 216us/step - loss: 0.0016\n",
      "Epoch 97/150\n",
      "1314/1314 [==============================] - 0s 219us/step - loss: 0.0016\n",
      "Epoch 98/150\n",
      "1314/1314 [==============================] - 0s 246us/step - loss: 0.0016\n",
      "Epoch 99/150\n",
      "1314/1314 [==============================] - 0s 271us/step - loss: 0.0017\n",
      "Epoch 100/150\n",
      "1314/1314 [==============================] - 0s 284us/step - loss: 0.0016\n",
      "Epoch 101/150\n",
      "1314/1314 [==============================] - 0s 227us/step - loss: 0.0016\n",
      "Epoch 102/150\n",
      "1314/1314 [==============================] - 0s 226us/step - loss: 0.0016\n",
      "Epoch 103/150\n",
      "1314/1314 [==============================] - 0s 234us/step - loss: 0.0016\n",
      "Epoch 104/150\n",
      "1314/1314 [==============================] - 0s 218us/step - loss: 0.0016\n",
      "Epoch 105/150\n",
      "1314/1314 [==============================] - 0s 219us/step - loss: 0.0015\n",
      "Epoch 106/150\n",
      "1314/1314 [==============================] - 0s 222us/step - loss: 0.0016\n",
      "Epoch 107/150\n",
      "1314/1314 [==============================] - 0s 218us/step - loss: 0.0015\n",
      "Epoch 108/150\n",
      "1314/1314 [==============================] - 0s 217us/step - loss: 0.0015\n",
      "Epoch 109/150\n",
      "1314/1314 [==============================] - 0s 221us/step - loss: 0.0016\n",
      "Epoch 110/150\n",
      "1314/1314 [==============================] - 0s 255us/step - loss: 0.0016\n",
      "Epoch 111/150\n",
      "1314/1314 [==============================] - 0s 213us/step - loss: 0.0015\n",
      "Epoch 112/150\n",
      "1314/1314 [==============================] - 0s 218us/step - loss: 0.0015\n",
      "Epoch 113/150\n",
      "1314/1314 [==============================] - 0s 220us/step - loss: 0.0015\n",
      "Epoch 114/150\n",
      "1314/1314 [==============================] - 0s 300us/step - loss: 0.0015\n",
      "Epoch 115/150\n",
      "1314/1314 [==============================] - 0s 259us/step - loss: 0.0015\n",
      "Epoch 116/150\n",
      "1314/1314 [==============================] - 0s 307us/step - loss: 0.0014\n",
      "Epoch 117/150\n",
      "1314/1314 [==============================] - 0s 255us/step - loss: 0.0015\n",
      "Epoch 118/150\n",
      "1314/1314 [==============================] - 0s 266us/step - loss: 0.0015\n",
      "Epoch 119/150\n",
      "1314/1314 [==============================] - 0s 277us/step - loss: 0.0015\n",
      "Epoch 120/150\n",
      "1314/1314 [==============================] - 0s 217us/step - loss: 0.0016\n",
      "Epoch 121/150\n",
      "1314/1314 [==============================] - 0s 228us/step - loss: 0.0014\n",
      "Epoch 122/150\n",
      "1314/1314 [==============================] - 0s 227us/step - loss: 0.0014\n",
      "Epoch 123/150\n",
      "1314/1314 [==============================] - 0s 218us/step - loss: 0.0014\n",
      "Epoch 124/150\n",
      "1314/1314 [==============================] - 0s 213us/step - loss: 0.0014\n",
      "Epoch 125/150\n",
      "1314/1314 [==============================] - 0s 215us/step - loss: 0.0014\n",
      "Epoch 126/150\n",
      "1314/1314 [==============================] - 0s 216us/step - loss: 0.0014\n",
      "Epoch 127/150\n",
      "1314/1314 [==============================] - 0s 207us/step - loss: 0.0014\n",
      "Epoch 128/150\n",
      "1314/1314 [==============================] - 0s 210us/step - loss: 0.0014\n",
      "Epoch 129/150\n",
      "1314/1314 [==============================] - 0s 238us/step - loss: 0.0016\n",
      "Epoch 130/150\n",
      "1314/1314 [==============================] - 0s 231us/step - loss: 0.0014\n",
      "Epoch 131/150\n",
      "1314/1314 [==============================] - 0s 255us/step - loss: 0.0014\n",
      "Epoch 132/150\n",
      "1314/1314 [==============================] - 0s 280us/step - loss: 0.0014\n",
      "Epoch 133/150\n",
      "1314/1314 [==============================] - 0s 267us/step - loss: 0.0013\n",
      "Epoch 134/150\n",
      "1314/1314 [==============================] - 0s 256us/step - loss: 0.0013\n",
      "Epoch 135/150\n",
      "1314/1314 [==============================] - 0s 255us/step - loss: 0.0013\n",
      "Epoch 136/150\n",
      "1314/1314 [==============================] - 0s 244us/step - loss: 0.0014\n",
      "Epoch 137/150\n",
      "1314/1314 [==============================] - 0s 292us/step - loss: 0.0014\n",
      "Epoch 138/150\n",
      "1314/1314 [==============================] - 0s 262us/step - loss: 0.0014\n",
      "Epoch 139/150\n",
      "1314/1314 [==============================] - 0s 217us/step - loss: 0.0014\n",
      "Epoch 140/150\n",
      "1314/1314 [==============================] - 0s 208us/step - loss: 0.0013\n",
      "Epoch 141/150\n",
      "1314/1314 [==============================] - 0s 219us/step - loss: 0.0013\n",
      "Epoch 142/150\n",
      "1314/1314 [==============================] - 0s 222us/step - loss: 0.0013\n",
      "Epoch 143/150\n",
      "1314/1314 [==============================] - 0s 269us/step - loss: 0.0014\n",
      "Epoch 144/150\n",
      "1314/1314 [==============================] - 0s 272us/step - loss: 0.0013\n",
      "Epoch 145/150\n",
      "1314/1314 [==============================] - 0s 265us/step - loss: 0.0013\n",
      "Epoch 146/150\n",
      "1314/1314 [==============================] - 0s 262us/step - loss: 0.0013\n",
      "Epoch 147/150\n",
      "1314/1314 [==============================] - 0s 277us/step - loss: 0.0013\n",
      "Epoch 148/150\n",
      "1314/1314 [==============================] - 0s 262us/step - loss: 0.0016\n",
      "Epoch 149/150\n",
      "1314/1314 [==============================] - 0s 260us/step - loss: 0.0014\n",
      "Epoch 150/150\n",
      "1314/1314 [==============================] - 0s 257us/step - loss: 0.0013\n"
     ]
    },
    {
     "data": {
      "text/plain": [
       "<keras.callbacks.History at 0x16b4fbd68>"
      ]
     },
     "execution_count": 180,
     "metadata": {},
     "output_type": "execute_result"
    }
   ],
   "source": [
    "model = baseline_model()\n",
    "model.fit(train, Y, epochs=150, verbose=1)"
   ]
  },
  {
   "cell_type": "code",
   "execution_count": 181,
   "metadata": {
    "ExecuteTime": {
     "end_time": "2018-10-10T09:04:47.068845Z",
     "start_time": "2018-10-10T09:04:44.473712Z"
    }
   },
   "outputs": [],
   "source": [
    "predict_and_submit(model, test, \"house_price_result_neural_network_fix_outliners_bug_300_50_25_12.csv\")"
   ]
  },
  {
   "cell_type": "code",
   "execution_count": 183,
   "metadata": {
    "ExecuteTime": {
     "end_time": "2018-10-10T09:05:47.309001Z",
     "start_time": "2018-10-10T09:05:38.157058Z"
    }
   },
   "outputs": [
    {
     "name": "stdout",
     "output_type": "stream",
     "text": [
      "Warning: Your Kaggle API key is readable by otherusers on this system! To fix this, you can run'chmod 600 /Users/kdang/.kaggle/kaggle.json'\n",
      "Successfully submitted to House Prices: Advanced Regression Techniques"
     ]
    }
   ],
   "source": [
    "! kaggle competitions submit house-prices-advanced-regression-techniques \\\n",
    "-f house_price_result_neural_network_fix_outliners_bug_300_50_25_12.csv \\\n",
    "-m \"baseline model with neural network. fixed error with outliners. increase the size of network to [300, 50, 25, 12]\""
   ]
  },
  {
   "cell_type": "code",
   "execution_count": 114,
   "metadata": {
    "ExecuteTime": {
     "end_time": "2018-10-10T06:43:50.264950Z",
     "start_time": "2018-10-10T06:43:49.846792Z"
    }
   },
   "outputs": [
    {
     "data": {
      "text/plain": [
       "<matplotlib.axes._subplots.AxesSubplot at 0x154c1b630>"
      ]
     },
     "execution_count": 114,
     "metadata": {},
     "output_type": "execute_result"
    },
    {
     "data": {
      "image/png": "[encoded data removed]",
      "text/plain": [
       "<matplotlib.figure.Figure at 0x1525e2160>"
      ]
     },
     "metadata": {},
     "output_type": "display_data"
    }
   ],
   "source": [
    "sns.distplot(Y_pred)"
   ]
  },
  {
   "cell_type": "code",
   "execution_count": 115,
   "metadata": {
    "ExecuteTime": {
     "end_time": "2018-10-10T06:43:57.076688Z",
     "start_time": "2018-10-10T06:43:57.047421Z"
    }
   },
   "outputs": [],
   "source": [
    "submission = pd.DataFrame({\n",
    "    \"Id\": test_ids,\n",
    "    \"SalePrice\": Y_pred.reshape(-1)\n",
    "})\n",
    "submission.to_csv('house_price_result_neural_network_150_epochs.csv', index=False)"
   ]
  },
  {
   "cell_type": "code",
   "execution_count": 116,
   "metadata": {
    "ExecuteTime": {
     "end_time": "2018-10-10T06:44:07.096522Z",
     "start_time": "2018-10-10T06:44:03.000226Z"
    }
   },
   "outputs": [
    {
     "name": "stdout",
     "output_type": "stream",
     "text": [
      "Warning: Your Kaggle API key is readable by otherusers on this system! To fix this, you can run'chmod 600 /Users/kdang/.kaggle/kaggle.json'\n",
      "Successfully submitted to House Prices: Advanced Regression Techniques"
     ]
    }
   ],
   "source": [
    "! kaggle competitions submit house-prices-advanced-regression-techniques -f house_price_result_neural_network_150_epochs.csv \\\n",
    "-m \"baseline model with neural network with new way of kfold, trained for 150 epochs\""
   ]
  },
  {
   "cell_type": "markdown",
   "metadata": {},
   "source": [
    "## Helper function to predict and submit"
   ]
  },
  {
   "cell_type": "code",
   "execution_count": null,
   "metadata": {},
   "outputs": [],
   "source": [
    "def predict_and_submit(model, file, message):\n",
    "    y_pred = model.predict(test)\n",
    "    Y_pred = scaler_price.inverse_transform(y_pred.reshape(-1, 1))\n",
    "    submission = pd.DataFrame({\n",
    "        \"Id\": test_ids,\n",
    "        \"SalePrice\": Y_pred.reshape(-1)\n",
    "    })\n",
    "    submission.to_csv(file, index=False)"
   ]
  },
  {
   "cell_type": "code",
   "execution_count": 70,
   "metadata": {
    "ExecuteTime": {
     "end_time": "2018-10-05T04:28:15.207257Z",
     "start_time": "2018-10-05T04:28:10.514926Z"
    }
   },
   "outputs": [
    {
     "name": "stderr",
     "output_type": "stream",
     "text": [
      "[Parallel(n_jobs=2)]: Done   5 out of   5 | elapsed:    1.1s finished\n"
     ]
    },
    {
     "name": "stdout",
     "output_type": "stream",
     "text": [
      "before reduced shape (1460, 75) (1459, 75)\n",
      "** before reduced = [0.90379358 0.84615212 0.89467259 0.90070475 0.89222512]\n",
      "reduced shape (1460, 22) (1459, 22)\n"
     ]
    },
    {
     "name": "stderr",
     "output_type": "stream",
     "text": [
      "/Users/kdang/.virtualenvs/tensorflow/lib/python3.6/site-packages/sklearn/utils/__init__.py:93: FutureWarning: Conversion of the second argument of issubdtype from `int` to `np.signedinteger` is deprecated. In future, it will be treated as `np.int64 == np.dtype(int).type`.\n",
      "  if np.issubdtype(mask.dtype, np.int):\n",
      "[Parallel(n_jobs=2)]: Done   5 out of   5 | elapsed:    0.6s finished\n"
     ]
    },
    {
     "name": "stdout",
     "output_type": "stream",
     "text": [
      "** after reduced = [0.90893548 0.854222   0.89651126 0.89455615 0.89566519]\n"
     ]
    },
    {
     "data": {
      "image/png": "[encoded data removed]",
      "text/plain": [
       "<matplotlib.figure.Figure at 0x10cdb0320>"
      ]
     },
     "metadata": {},
     "output_type": "display_data"
    }
   ],
   "source": [
    "cv = cross_val_score(GradientBoostingRegressor(), train_df, y, cv=cross_validation_folds, n_jobs=n_jobs, verbose=1)\n",
    "print(f\"before reduced shape\", train_df.shape, test_df.shape)\n",
    "print(f\"** before reduced = {cv}\")\n",
    "features = pd.DataFrame()\n",
    "features['feature'] = train_df.columns\n",
    "features['importance'] = rdf.feature_importances_\n",
    "features.sort_values(by=['importance'], ascending=True, inplace=True)\n",
    "features.set_index('feature', inplace=True)\n",
    "features.plot(kind='barh', figsize=(25, 25))\n",
    "model = SelectFromModel(rdf, prefit=True)\n",
    "train_reduced = model.transform(train_df)\n",
    "test_reduced = model.transform(test_df)\n",
    "print(\"reduced shape\", train_reduced.shape, test_reduced.shape)\n",
    "cv = cross_val_score(GradientBoostingRegressor(), train_reduced, y, cv=cross_validation_folds, n_jobs=n_jobs, verbose=1)\n",
    "print(f\"** after reduced = {cv}\")"
   ]
  },
  {
   "cell_type": "code",
   "execution_count": 55,
   "metadata": {
    "ExecuteTime": {
     "end_time": "2018-10-05T03:46:59.532553Z",
     "start_time": "2018-10-05T03:46:59.514608Z"
    }
   },
   "outputs": [],
   "source": [
    "y_pred = rdf.predict(test_df)\n",
    "submission = pd.DataFrame({\n",
    "    \"Id\": test_ids,\n",
    "    \"SalePrice\": y_pred\n",
    "})\n",
    "submission.to_csv('house_price_result_baseline_random_forest_all_nan_filled.csv', index=False)"
   ]
  },
  {
   "cell_type": "code",
   "execution_count": 56,
   "metadata": {
    "ExecuteTime": {
     "end_time": "2018-10-05T03:47:05.396522Z",
     "start_time": "2018-10-05T03:47:01.378396Z"
    }
   },
   "outputs": [
    {
     "name": "stdout",
     "output_type": "stream",
     "text": [
      "Warning: Your Kaggle API key is readable by otherusers on this system! To fix this, you can run'chmod 600 /Users/kdang/.kaggle/kaggle.json'\n",
      "Successfully submitted to House Prices: Advanced Regression Techniques"
     ]
    }
   ],
   "source": [
    "! kaggle competitions submit house-prices-advanced-regression-techniques -f house_price_result_baseline_random_forest_all_nan_filled.csv \\\n",
    "-m \"baseline model with gradient boosting, feature engineer and nan processed\""
   ]
  },
  {
   "cell_type": "code",
   "execution_count": 54,
   "metadata": {
    "ExecuteTime": {
     "end_time": "2018-10-05T03:46:24.995970Z",
     "start_time": "2018-10-05T03:46:24.541363Z"
    }
   },
   "outputs": [
    {
     "data": {
      "text/plain": [
       "<matplotlib.axes._subplots.AxesSubplot at 0x10d2764e0>"
      ]
     },
     "execution_count": 54,
     "metadata": {},
     "output_type": "execute_result"
    },
    {
     "data": {
      "image/png": "[encoded data removed]",
      "text/plain": [
       "<matplotlib.figure.Figure at 0x10ce78518>"
      ]
     },
     "metadata": {},
     "output_type": "display_data"
    }
   ],
   "source": [
    "sns.distplot(y_pred)"
   ]
  },
  {
   "cell_type": "markdown",
   "metadata": {},
   "source": [
    "## applying neural network"
   ]
  },
  {
   "cell_type": "code",
   "execution_count": null,
   "metadata": {},
   "outputs": [],
   "source": []
  }
 ],
 "metadata": {
  "kernelspec": {
   "display_name": "Python 3",
   "language": "python",
   "name": "python3"
  },
  "language_info": {
   "codemirror_mode": {
    "name": "ipython",
    "version": 3
   },
   "file_extension": ".py",
   "mimetype": "text/x-python",
   "name": "python",
   "nbconvert_exporter": "python",
   "pygments_lexer": "ipython3",
   "version": "3.6.3"
  }
 },
 "nbformat": 4,
 "nbformat_minor": 2
}
